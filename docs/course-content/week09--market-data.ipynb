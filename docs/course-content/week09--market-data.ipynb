{
 "cells": [
  {
   "cell_type": "code",
   "execution_count": 1,
   "id": "7fe4462f-893b-4fc2-9fc3-eb60566dd10f",
   "metadata": {},
   "outputs": [],
   "source": [
    "import pandas as pd\n",
    "import numpy as np\n",
    "\n",
    "import json\n",
    "\n",
    "\n",
    "def read_json(filename):\n",
    "    with open(filename) as f:\n",
    "        return json.load(f)\n",
    "\n",
    "def write_json(filename,data):\n",
    "    with open(filename,'w') as f:\n",
    "        json.dump(data,f,indent=3)\n"
   ]
  },
  {
   "cell_type": "code",
   "execution_count": 2,
   "id": "b75bc9eb-fb5c-4d2f-a2e4-3b12dd3f3c50",
   "metadata": {},
   "outputs": [],
   "source": [
    "\n",
    "import os\n",
    "\n",
    "os.chdir('/home/george/Prof-VC/classes-and-advising/2025-Sp-Math087/course-content/')\n",
    "\n",
    "# this `json` file contains 20 years of (fictional) market state\n",
    "\n",
    "a = np.array(read_json('./week09--data-market-new.json'))\n"
   ]
  },
  {
   "cell_type": "code",
   "execution_count": 3,
   "id": "5725f0c5-9bea-4e89-9b87-df9c888a771d",
   "metadata": {},
   "outputs": [
    {
     "data": {
      "text/plain": [
       "array(['bull', 'bull', 'bear', 'bear', 'bear', 'bear', 'bear', 'bear',\n",
       "       'bear', 'bear'], dtype='<U6')"
      ]
     },
     "execution_count": 3,
     "metadata": {},
     "output_type": "execute_result"
    }
   ],
   "source": [
    "a[:10]"
   ]
  },
  {
   "cell_type": "code",
   "execution_count": 4,
   "id": "1057501c-bf54-4dc7-b1da-517569f58527",
   "metadata": {},
   "outputs": [],
   "source": [
    "def get_indices(a,state):\n",
    "    return np.array([i for i in range(len(a)) if a[i] == state ])"
   ]
  },
  {
   "cell_type": "code",
   "execution_count": 5,
   "id": "72e09fcf-970a-4b93-a320-d59c59765f0e",
   "metadata": {},
   "outputs": [
    {
     "data": {
      "text/plain": [
       "array([  18,   19,   20,   73,  118,  135,  136,  193,  194,  199,  200,\n",
       "        201,  217,  240,  241,  242,  243,  244,  245,  246,  262,  279,\n",
       "        285,  286,  306,  382,  383,  389,  391,  415,  438,  439,  451,\n",
       "        452,  453,  454,  463,  464,  465,  466,  467,  468,  469,  470,\n",
       "        487,  496,  511,  527,  528,  529,  530,  549,  550,  551,  553,\n",
       "        554,  567,  587,  589,  590,  591,  592,  628,  629,  648,  649,\n",
       "        650,  651,  652,  672,  673,  674,  675,  676,  695,  696,  697,\n",
       "        744,  745,  746,  757,  867,  873,  907,  908,  909,  910,  916,\n",
       "        975,  984,  985, 1012, 1017, 1018])"
      ]
     },
     "execution_count": 5,
     "metadata": {},
     "output_type": "execute_result"
    }
   ],
   "source": [
    "get_indices(a,'recess')"
   ]
  },
  {
   "cell_type": "code",
   "execution_count": 6,
   "id": "1ec8c7bb-1341-432a-b5ee-65ca134554fd",
   "metadata": {},
   "outputs": [],
   "source": [
    "states = [ 'bull', 'bear', 'recess' ]\n",
    "\n",
    "def get_next_week_probs(a,state):\n",
    "    inds = get_indices(a,state)\n",
    "    \n",
    "    if (len(a)-1) in inds:\n",
    "         n=len(inds)-1\n",
    "    else:\n",
    "         n=len(inds)\n",
    "    N = len(a)\n",
    "\n",
    "    # get the list of states for weeks following weeks of the input state\n",
    "    nxt = { ns: [ i for i in inds if i+1<N and a[i+1] == ns] for ns in states }\n",
    "    \n",
    "    return { ns: len(nxt[ns])/n for ns in states }"
   ]
  },
  {
   "cell_type": "code",
   "execution_count": 7,
   "id": "8cab7505-edfe-469c-be59-1dd7f502bc9a",
   "metadata": {},
   "outputs": [
    {
     "data": {
      "text/plain": [
       "{'bull': 0.806378132118451,\n",
       " 'bear': 0.16400911161731208,\n",
       " 'recess': 0.029612756264236904}"
      ]
     },
     "execution_count": 7,
     "metadata": {},
     "output_type": "execute_result"
    }
   ],
   "source": [
    "pbull = get_next_week_probs(a,'bull')\n",
    "pbull"
   ]
  },
  {
   "cell_type": "code",
   "execution_count": 8,
   "id": "75626cbe-72b6-4c92-942d-80653b8435a6",
   "metadata": {},
   "outputs": [
    {
     "data": {
      "text/plain": [
       "0.9999999999999999"
      ]
     },
     "execution_count": 8,
     "metadata": {},
     "output_type": "execute_result"
    }
   ],
   "source": [
    "sum([ pbull[i] for i in pbull.keys() ])"
   ]
  },
  {
   "cell_type": "code",
   "execution_count": 9,
   "id": "0072c334-d6fd-4c6b-9a84-6a446a1bfa3a",
   "metadata": {},
   "outputs": [
    {
     "data": {
      "text/plain": [
       "array([[0.80637813, 0.13833992, 0.14893617],\n",
       "       [0.16400911, 0.80434783, 0.29787234],\n",
       "       [0.02961276, 0.05731225, 0.55319149]])"
      ]
     },
     "execution_count": 9,
     "metadata": {},
     "output_type": "execute_result"
    }
   ],
   "source": [
    "pmat = np.array([ [get_next_week_probs(a,w)[nw] for w in states] for nw in states ])\n",
    "pmat"
   ]
  },
  {
   "cell_type": "code",
   "execution_count": null,
   "id": "328b4f32-359f-433c-a318-f9042a48f035",
   "metadata": {},
   "outputs": [],
   "source": []
  }
 ],
 "metadata": {
  "kernelspec": {
   "display_name": "Python 3 (ipykernel)",
   "language": "python",
   "name": "python3"
  },
  "language_info": {
   "codemirror_mode": {
    "name": "ipython",
    "version": 3
   },
   "file_extension": ".py",
   "mimetype": "text/x-python",
   "name": "python",
   "nbconvert_exporter": "python",
   "pygments_lexer": "ipython3",
   "version": "3.11.2"
  }
 },
 "nbformat": 4,
 "nbformat_minor": 5
}
