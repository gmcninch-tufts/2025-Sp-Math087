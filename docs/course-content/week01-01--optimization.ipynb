{
 "cells": [
  {
   "cell_type": "markdown",
   "id": "0f7915fc-c817-41f9-9739-4a79e7cdb0e7",
   "metadata": {},
   "source": []
  },
  {
   "cell_type": "markdown",
   "id": "a75604e8-1fac-4752-bd5e-3a4dbe75380c",
   "metadata": {
    "editable": true,
    "slideshow": {
     "slide_type": ""
    },
    "tags": []
   },
   "source": [
    "# [George McNinch](http://gmcninch.math.tufts.edu) Math 87 - Spring 2025\n",
    "\n",
    "# § Week 1 - Optimization"
   ]
  },
  {
   "cell_type": "markdown",
   "id": "97290256-82f3-40ce-884b-fa443c44ff0b",
   "metadata": {},
   "source": [
    "## Example: Oil spill\n",
    "\n",
    "> An oil spill has contaminated 200 miles of Alaskan shoreline. The\n",
    "> shipping company responsible for the accident has been given 14 days\n",
    "> to clean up the shoreline, after which it will be required to pay a\n",
    "> fine of \\$10,000 per day.\n",
    "\n",
    "For simplicity, let’s assume that the fine depends on fractional days. For example, if\n",
    "the work is completed in 15.5 days, we’ll suppose that the company would\n",
    "pay a fine of\n",
    "\n",
    "$$1.5 \\cdot 10000 = 15000.$$\n",
    "\n",
    "> Cleanup crews can be hired, and each crew cleans 5 miles of beach per\n",
    "> week.\n",
    ">\n",
    "> There is one local cleanup crew available at a cost of \\$500 per\n",
    "> day.\n",
    ">\n",
    "> Additional non-local crews can be hired. The hire of each non-local\n",
    "> crew incurs an \\\\\\$18,000 one-time travel cost. These additional crews\n",
    "> work for \\\\$800 per day for each crew (and each crew has the same\n",
    "> cleanup rate of 5 miles of beach per week)."
   ]
  },
  {
   "cell_type": "markdown",
   "id": "df588353-46d9-4cf6-8f9b-a0b7062afd5b",
   "metadata": {},
   "source": [
    "Relevant parameters:\n",
    "\n",
    "-   $m$ = miles cleaned per crew per week = $5$\n",
    "-   $f$ = fine charged per day = \\\\$$10,000$\n",
    "-   $TC$ = travel costs per outside crew = \\\\\\$$18,000$\n",
    "\n",
    "The main choice that the company must make is: “how many outside crews\n",
    "to hire?”\n",
    "\n",
    "-   $n$ = \\# of outside crews to hire\n",
    "\n",
    "According to the background description, there are a number of\n",
    "quantities that depend on this choice:\n",
    "\n",
    "-   $t$ = \\# of days for complete cleanup\n",
    "-   $F$ = fine to be paid\n",
    "-   $C_{crew}$ = payments to cleanup crews\n",
    "-   $C_{tot}$ = total cleanup cost = $F + C_{crew}$"
   ]
  },
  {
   "cell_type": "markdown",
   "id": "6e451d3d-7730-48f1-834f-0a063d546995",
   "metadata": {},
   "source": [
    "Let’s give **mathematical expressions** for these quantities:\n",
    "\n",
    "- $t = 200\\cdot\\dfrac{1}{n+1} \\cdot \\dfrac{7}{m}$.\n",
    "\n",
    "(Indeed, $n+1$ crews working at a rate of $m$ miles per day will clean\n",
    "200 miles of beach in the indicated number of days)\n",
    "\n",
    "-   $F= \\begin{cases} 0 & \\text{if $t<14$} \\\\ f\\cdot(t-14) & \\text{if $t\n",
    "    \\ge 14$} \\end{cases}$\n",
    "\n",
    "(Indeed, no fine if work is completed within two weeks; otherwise, the\n",
    "fine is given by the indicated formula)\n",
    "\n",
    "-   $C_{crew} = 500\\cdot t + 800\\cdot t\\cdot n + TC\\cdot n$\n",
    "\n",
    "-   $C_{tot} = F + C_{crew}$"
   ]
  },
  {
   "cell_type": "markdown",
   "id": "ab86776e-f6ba-48dd-b507-77e61e238cec",
   "metadata": {},
   "source": [
    "Now let’s give `python` code for computing these quantities.\n",
    "\n",
    "Note that we use the parameter values as *default values* for some of\n",
    "the arguments of the *crew_cost* and *cost* functions."
   ]
  },
  {
   "cell_type": "code",
   "execution_count": 9,
   "id": "43d59496-3a93-4c3a-bdc7-84e03aa939e6",
   "metadata": {},
   "outputs": [],
   "source": [
    "class OilSpillCleanup:\n",
    "    def __init__(self,cleanup_rate=5.0/7,travelcosts=18000,miles=200,fine_per_day=10000):\n",
    "        self.miles = miles                \n",
    "        self.cleanup_rate = cleanup_rate   \n",
    "        self.travelcosts = travelcosts                      \n",
    "        self.fine_per_day = fine_per_day\n",
    "       \n",
    "    def report_params(self):\n",
    "        # return a dictionary describing the parameters for this instance of the class\n",
    "        return { \"miles to clean\": self.miles,\n",
    "                 \"cleanup rate\": self.cleanup_rate,\n",
    "                 \"transport costs\": self.travelcosts,\n",
    "                 \"fine per day\": self.fine_per_day\n",
    "               }\n",
    "        \n",
    "    def time(self,n): \n",
    "        # time to clean the shoreline if n external crews are hired\n",
    "        return self.miles/((n+1)*self.cleanup_rate)\n",
    "\n",
    "    def fine(self,t): \n",
    "        # The total fine imposed. Depends on:\n",
    "        # t = # of days for complete cleanup \n",
    "        return 0 if (t<14) else self.fine_per_day*(t-14)\n",
    "\n",
    "    def crew_costs(self,n):\n",
    "        # cost in payments to crews. Depends on\n",
    "        # n = number of non-local crews hired\n",
    "        t=self.time(n) # time for cleanup\n",
    "        return 500*t + 800*t*n + self.travelcosts*n\n",
    "\n",
    "    def cost(self,n):\n",
    "        # total expenses incurred for hire of n external crews\n",
    "        t=self.time(n)\n",
    "        return self.fine(self.time(n)) + self.crew_costs(n) "
   ]
  },
  {
   "cell_type": "markdown",
   "id": "8a5063f6-437b-4469-abf1-75ce2031455f",
   "metadata": {},
   "source": [
    "### Let’s first just make a table of results\n",
    "\n",
    "In our table, the rows will contain the values of the various quantities\n",
    "for possible values of $n$, the number of “outside” cleanup crews hired.\n",
    "\n",
    "For this, we are going to use python’s [**Pandas**\n",
    "module](https://pandas.pydata.org/docs/index.html). We’ll use the\n",
    "“DataFrame” data structure (which is a bit like a python dictionary for\n",
    "which the keys are the column headers and the values are the column\n",
    "data)."
   ]
  },
  {
   "cell_type": "code",
   "execution_count": 10,
   "id": "ca12bb61-1adc-441e-8252-8eb0fb42acff",
   "metadata": {},
   "outputs": [],
   "source": [
    "import pandas as pd\n",
    "\n",
    "## The following overrides the usual display formatting of floating point numbers. \n",
    "## It is just an aesthetic choice...\n",
    "\n",
    "pd.set_option('display.float_format', lambda x: \"{:,.2f}\".format(x))"
   ]
  },
  {
   "cell_type": "code",
   "execution_count": 11,
   "id": "e01e1e18-eecb-4df6-9f97-6df2ceff1742",
   "metadata": {},
   "outputs": [
    {
     "name": "stdout",
     "output_type": "stream",
     "text": [
      "{'cleanup rate': 0.7142857142857143,\n",
      " 'fine per day': 10000,\n",
      " 'miles to clean': 200,\n",
      " 'transport costs': 18000}\n"
     ]
    }
   ],
   "source": [
    "from pprint import pprint\n",
    "\n",
    "# define an instance of the OilSpillCleanup class, with the default arguments.\n",
    "c = OilSpillCleanup()\n",
    "\n",
    "pprint(c.report_params())"
   ]
  },
  {
   "cell_type": "code",
   "execution_count": 12,
   "id": "38362ebd-af65-4cec-9e44-e83bbe6718c9",
   "metadata": {},
   "outputs": [
    {
     "data": {
      "text/html": [
       "<div>\n",
       "<style scoped>\n",
       "    .dataframe tbody tr th:only-of-type {\n",
       "        vertical-align: middle;\n",
       "    }\n",
       "\n",
       "    .dataframe tbody tr th {\n",
       "        vertical-align: top;\n",
       "    }\n",
       "\n",
       "    .dataframe thead th {\n",
       "        text-align: right;\n",
       "    }\n",
       "</style>\n",
       "<table border=\"1\" class=\"dataframe\">\n",
       "  <thead>\n",
       "    <tr style=\"text-align: right;\">\n",
       "      <th></th>\n",
       "      <th>#external crews</th>\n",
       "      <th>cost</th>\n",
       "      <th>days</th>\n",
       "      <th>fine</th>\n",
       "    </tr>\n",
       "  </thead>\n",
       "  <tbody>\n",
       "    <tr>\n",
       "      <th>0</th>\n",
       "      <td>0</td>\n",
       "      <td>2,800,000.00</td>\n",
       "      <td>280.00</td>\n",
       "      <td>2,660,000.00</td>\n",
       "    </tr>\n",
       "    <tr>\n",
       "      <th>1</th>\n",
       "      <td>1</td>\n",
       "      <td>1,460,000.00</td>\n",
       "      <td>140.00</td>\n",
       "      <td>1,260,000.00</td>\n",
       "    </tr>\n",
       "    <tr>\n",
       "      <th>2</th>\n",
       "      <td>2</td>\n",
       "      <td>1,025,333.33</td>\n",
       "      <td>93.33</td>\n",
       "      <td>793,333.33</td>\n",
       "    </tr>\n",
       "    <tr>\n",
       "      <th>3</th>\n",
       "      <td>3</td>\n",
       "      <td>817,000.00</td>\n",
       "      <td>70.00</td>\n",
       "      <td>560,000.00</td>\n",
       "    </tr>\n",
       "    <tr>\n",
       "      <th>4</th>\n",
       "      <td>4</td>\n",
       "      <td>699,200.00</td>\n",
       "      <td>56.00</td>\n",
       "      <td>420,000.00</td>\n",
       "    </tr>\n",
       "    <tr>\n",
       "      <th>5</th>\n",
       "      <td>5</td>\n",
       "      <td>626,666.67</td>\n",
       "      <td>46.67</td>\n",
       "      <td>326,666.67</td>\n",
       "    </tr>\n",
       "    <tr>\n",
       "      <th>6</th>\n",
       "      <td>6</td>\n",
       "      <td>580,000.00</td>\n",
       "      <td>40.00</td>\n",
       "      <td>260,000.00</td>\n",
       "    </tr>\n",
       "    <tr>\n",
       "      <th>7</th>\n",
       "      <td>7</td>\n",
       "      <td>549,500.00</td>\n",
       "      <td>35.00</td>\n",
       "      <td>210,000.00</td>\n",
       "    </tr>\n",
       "    <tr>\n",
       "      <th>8</th>\n",
       "      <td>8</td>\n",
       "      <td>529,777.78</td>\n",
       "      <td>31.11</td>\n",
       "      <td>171,111.11</td>\n",
       "    </tr>\n",
       "    <tr>\n",
       "      <th>9</th>\n",
       "      <td>9</td>\n",
       "      <td>517,600.00</td>\n",
       "      <td>28.00</td>\n",
       "      <td>140,000.00</td>\n",
       "    </tr>\n",
       "    <tr>\n",
       "      <th>10</th>\n",
       "      <td>10</td>\n",
       "      <td>510,909.09</td>\n",
       "      <td>25.45</td>\n",
       "      <td>114,545.45</td>\n",
       "    </tr>\n",
       "    <tr>\n",
       "      <th>11</th>\n",
       "      <td>11</td>\n",
       "      <td>508,333.33</td>\n",
       "      <td>23.33</td>\n",
       "      <td>93,333.33</td>\n",
       "    </tr>\n",
       "    <tr>\n",
       "      <th>12</th>\n",
       "      <td>12</td>\n",
       "      <td>508,923.08</td>\n",
       "      <td>21.54</td>\n",
       "      <td>75,384.62</td>\n",
       "    </tr>\n",
       "    <tr>\n",
       "      <th>13</th>\n",
       "      <td>13</td>\n",
       "      <td>512,000.00</td>\n",
       "      <td>20.00</td>\n",
       "      <td>60,000.00</td>\n",
       "    </tr>\n",
       "    <tr>\n",
       "      <th>14</th>\n",
       "      <td>14</td>\n",
       "      <td>517,066.67</td>\n",
       "      <td>18.67</td>\n",
       "      <td>46,666.67</td>\n",
       "    </tr>\n",
       "    <tr>\n",
       "      <th>15</th>\n",
       "      <td>15</td>\n",
       "      <td>523,750.00</td>\n",
       "      <td>17.50</td>\n",
       "      <td>35,000.00</td>\n",
       "    </tr>\n",
       "    <tr>\n",
       "      <th>16</th>\n",
       "      <td>16</td>\n",
       "      <td>531,764.71</td>\n",
       "      <td>16.47</td>\n",
       "      <td>24,705.88</td>\n",
       "    </tr>\n",
       "    <tr>\n",
       "      <th>17</th>\n",
       "      <td>17</td>\n",
       "      <td>540,888.89</td>\n",
       "      <td>15.56</td>\n",
       "      <td>15,555.56</td>\n",
       "    </tr>\n",
       "    <tr>\n",
       "      <th>18</th>\n",
       "      <td>18</td>\n",
       "      <td>550,947.37</td>\n",
       "      <td>14.74</td>\n",
       "      <td>7,368.42</td>\n",
       "    </tr>\n",
       "    <tr>\n",
       "      <th>19</th>\n",
       "      <td>19</td>\n",
       "      <td>561,800.00</td>\n",
       "      <td>14.00</td>\n",
       "      <td>0.00</td>\n",
       "    </tr>\n",
       "    <tr>\n",
       "      <th>20</th>\n",
       "      <td>20</td>\n",
       "      <td>580,000.00</td>\n",
       "      <td>13.33</td>\n",
       "      <td>0.00</td>\n",
       "    </tr>\n",
       "    <tr>\n",
       "      <th>21</th>\n",
       "      <td>21</td>\n",
       "      <td>598,181.82</td>\n",
       "      <td>12.73</td>\n",
       "      <td>0.00</td>\n",
       "    </tr>\n",
       "    <tr>\n",
       "      <th>22</th>\n",
       "      <td>22</td>\n",
       "      <td>616,347.83</td>\n",
       "      <td>12.17</td>\n",
       "      <td>0.00</td>\n",
       "    </tr>\n",
       "    <tr>\n",
       "      <th>23</th>\n",
       "      <td>23</td>\n",
       "      <td>634,500.00</td>\n",
       "      <td>11.67</td>\n",
       "      <td>0.00</td>\n",
       "    </tr>\n",
       "    <tr>\n",
       "      <th>24</th>\n",
       "      <td>24</td>\n",
       "      <td>652,640.00</td>\n",
       "      <td>11.20</td>\n",
       "      <td>0.00</td>\n",
       "    </tr>\n",
       "  </tbody>\n",
       "</table>\n",
       "</div>"
      ],
      "text/plain": [
       "    #external crews         cost   days         fine\n",
       "0                 0 2,800,000.00 280.00 2,660,000.00\n",
       "1                 1 1,460,000.00 140.00 1,260,000.00\n",
       "2                 2 1,025,333.33  93.33   793,333.33\n",
       "3                 3   817,000.00  70.00   560,000.00\n",
       "4                 4   699,200.00  56.00   420,000.00\n",
       "5                 5   626,666.67  46.67   326,666.67\n",
       "6                 6   580,000.00  40.00   260,000.00\n",
       "7                 7   549,500.00  35.00   210,000.00\n",
       "8                 8   529,777.78  31.11   171,111.11\n",
       "9                 9   517,600.00  28.00   140,000.00\n",
       "10               10   510,909.09  25.45   114,545.45\n",
       "11               11   508,333.33  23.33    93,333.33\n",
       "12               12   508,923.08  21.54    75,384.62\n",
       "13               13   512,000.00  20.00    60,000.00\n",
       "14               14   517,066.67  18.67    46,666.67\n",
       "15               15   523,750.00  17.50    35,000.00\n",
       "16               16   531,764.71  16.47    24,705.88\n",
       "17               17   540,888.89  15.56    15,555.56\n",
       "18               18   550,947.37  14.74     7,368.42\n",
       "19               19   561,800.00  14.00         0.00\n",
       "20               20   580,000.00  13.33         0.00\n",
       "21               21   598,181.82  12.73         0.00\n",
       "22               22   616,347.83  12.17         0.00\n",
       "23               23   634,500.00  11.67         0.00\n",
       "24               24   652,640.00  11.20         0.00"
      ]
     },
     "execution_count": 12,
     "metadata": {},
     "output_type": "execute_result"
    }
   ],
   "source": [
    "# and define a function of two arguments:\n",
    "# c, a class of type OilSpillCleanup, and\n",
    "# crew_range, a list of integers, to be used as the \"number of external crews hired\"\n",
    "#             crew_range defaults to the list [0,1,...,24]\n",
    "#\n",
    "def oil_spill_costs(c, crew_range=range(0,25)):\n",
    "    return pd.DataFrame(\n",
    "            {'#external crews'      : crew_range,\n",
    "             'cost'   : map( lambda n: c.cost(n) , crew_range),\n",
    "             'days'   : map( lambda n: c.time(n) , crew_range),\n",
    "             'fine'   : map( lambda n: c.fine(c.time(n)) , crew_range)\n",
    "            },\n",
    "            index=crew_range)\n",
    "    \n",
    "\n",
    "oil_spill_costs(c)  ## Compute use the *default* parameter values."
   ]
  },
  {
   "cell_type": "markdown",
   "id": "bacdfa4f-10d3-42dc-a5d8-3a802ea380bc",
   "metadata": {},
   "source": [
    "We can of course just scan the columns with our eyes to see where the\n",
    "costs appear to be minimized. In real applications, the tables might be \n",
    "much larger, so we demonstrate how to use *pandas* API-functions to get results from this table.\n",
    "\n",
    "In the terminology of *pandas*, we’ll extract the *costs* column\n",
    "`df['cost']` of the “dataframe” `df` as a *series*, and then use the\n",
    "`idxmin` method to find the *index* `j` at which the costs are\n",
    "minimized. Finally, the loc property of `df` allows to select the data\n",
    "`df.loc[j]` in the row with index label `j`."
   ]
  },
  {
   "cell_type": "code",
   "execution_count": 13,
   "id": "5fa80694-71fa-4c45-9d43-8321f30163f3",
   "metadata": {},
   "outputs": [],
   "source": [
    "def minimize_costs(c,crew_range=range(0,25)):\n",
    "    ## make the data-frame \n",
    "    costs_df = oil_spill_costs(c,crew_range) \n",
    "    ## find the index of the data-frame entry with minimal costs\n",
    "    min_index = costs_df['cost'].idxmin()\n",
    "    ## return the corresponding data-frame entry  \n",
    "    return costs_df.loc[min_index]    \n",
    "\n",
    "def report_minimal_costs(c,crew_range=range(0,25)):\n",
    "    r = minimize_costs(c,crew_range)\n",
    "    return \"\\n\".join([f\"For n in {crew_range}, and with these parameters:\",\n",
    "                      \"\",\n",
    "                      #pprint(c.report_params()),\n",
    "                      f\"the total costs are minimized by hiring n = {r['#external crews']} external crews.\",\n",
    "                      \"Here are the details:\",\n",
    "                      \"\",\n",
    "                      str(r)]) + \"\\n\"\n"
   ]
  },
  {
   "cell_type": "code",
   "execution_count": 14,
   "id": "234e5ff2-9b64-4809-b7b8-0422408b55e6",
   "metadata": {},
   "outputs": [
    {
     "name": "stdout",
     "output_type": "stream",
     "text": [
      "For n in range(0, 25), and with these parameters:\n",
      "\n",
      "the total costs are minimized by hiring n = 11.0 external crews.\n",
      "Here are the details:\n",
      "\n",
      "#external crews        11.00\n",
      "cost              508,333.33\n",
      "days                   23.33\n",
      "fine               93,333.33\n",
      "Name: 11, dtype: float64\n",
      "\n"
     ]
    }
   ],
   "source": [
    "## c is the class obtained above via OilSpillCleanup()\n",
    "##\n",
    "print(report_minimal_costs(c))"
   ]
  },
  {
   "cell_type": "markdown",
   "id": "6cd4ac3d-6161-4307-8425-f3ef82198f5a",
   "metadata": {},
   "source": [
    "From the preceding calculation, it appears that the cost is minimized by\n",
    "hiring $n=11$ outside crews. With that number of crews, cleanup takes\n",
    "slightly more than 3 weeks with a total cost of \\\\\\$508K (including a\n",
    "fine of \\\\\\$93K).\n",
    "\n",
    "Below, we’ll use some calculus to confirm this observation!!!"
   ]
  },
  {
   "cell_type": "markdown",
   "id": "253e4a24-c474-4855-a218-6e0eaa9fa4be",
   "metadata": {},
   "source": [
    "Before talking about the calculus, let’s observe that it is easy to look\n",
    "for minimal costs with other parameters. With this code, we need to be\n",
    "careful that the range of crew sizes the code considers is large enough,\n",
    "though.\n",
    "\n",
    "Consider the following example:"
   ]
  },
  {
   "cell_type": "code",
   "execution_count": 15,
   "id": "0f0c8f5d-240a-4a0e-ab2b-3e52a7c56181",
   "metadata": {},
   "outputs": [
    {
     "name": "stdout",
     "output_type": "stream",
     "text": [
      "For n in range(0, 25), and with these parameters:\n",
      "\n",
      "the total costs are minimized by hiring n = 24.0 external crews.\n",
      "Here are the details:\n",
      "\n",
      "#external crews          24.00\n",
      "cost              1,032,800.00\n",
      "days                     24.00\n",
      "fine                200,000.00\n",
      "Name: 24, dtype: float64\n",
      "\n",
      "-----------------------\n",
      "For n in range(0, 35), and with these parameters:\n",
      "\n",
      "the total costs are minimized by hiring n = 27.0 external crews.\n",
      "Here are the details:\n",
      "\n",
      "#external crews          27.00\n",
      "cost              1,027,142.86\n",
      "days                     21.43\n",
      "fine                148,571.43\n",
      "Name: 27, dtype: float64\n",
      "\n"
     ]
    }
   ],
   "source": [
    "## make a new instance of our OilSpillCleanup class, with some different parameters\n",
    "\n",
    "c1 = OilSpillCleanup(miles=300,fine_per_day=20000,travelcosts=15000,cleanup_rate=.5)\n",
    "\n",
    "## and look for minimal costs, first with the default range of n's, \n",
    "## and then with a slightly bigger range:\n",
    "\n",
    "print(report_minimal_costs(c1))\n",
    "print(\"-----------------------\")\n",
    "print(report_minimal_costs(c1,crew_range=range(0,35)))\n",
    "\n",
    "## Notice! We wouldn't have seen the minimum if we had used the default crew_range..."
   ]
  },
  {
   "cell_type": "markdown",
   "id": "4bb1f9b2-3e8d-4d11-9d71-903c86f33607",
   "metadata": {},
   "source": [
    "-----\n",
    "\n",
    "We now return to consideration of the “default values” of the\n",
    "parameters.\n",
    "\n",
    "Our computations so far *suggest* - but don’t *confirm* in a mathematical sense - \n",
    "the optimal number of crews to hire to minimize costs. We are going to use calculus\n",
    "to confirm this number for our “default” parameter values $m = 5.0/7$,\n",
    "$TC=18000$, $f=10000$, for 200 miles of coast.\n",
    "\n",
    "Recall the formulas:\n",
    "\n",
    "-   $t = 200\\cdot \\dfrac{1}{n+1} \\cdot \\dfrac{1}{5/7} = \\dfrac{280}{n+1}$\n",
    "\n",
    "-   $F= \\begin{cases} 0 & \\text{if $t<14$} \\\\ 10000\\cdot(t-14) & \\text{if $t \\ge 14$} \\end{cases}$\n",
    "\n",
    "-   $C_{crew} = 500\\cdot t + 800\\cdot t\\cdot n + 18000\\cdot n$\n",
    "\n",
    "-   $C_{tot} = F + C_{crew}$\n",
    "\n",
    "$C_{tot}$ is expressed here as a function of both $t$ and $n$. But of\n",
    "course, $t$ is determined by $n$.\n",
    "\n",
    "We want to express $C_{tot}$ as a function only of $n$. The obstacle\n",
    "here is that the fine $F$ is not expressed directly as a function of\n",
    "$n$, and the best way to deal with this is to consider different cases.\n",
    "\n",
    "We first ask the question: “how many crews would we need if we were to\n",
    "clean everything up in exactly 14 days?”\n",
    "\n",
    "For this we must solve the equation $t(n)=14$; i.e.: $$14 =\n",
    "\\dfrac{280}{1+n}$$\n",
    "\n",
    "Thus, $n+1=\\dfrac{280}{14}$. We find that $n+1 = 20$ so that $n=19$. In\n",
    "other words, if 19 external crews are hired, work is completed in two\n",
    "weeks.\n",
    "\n",
    "Thus we see that for $n \\ge 19$ we have $F = 0$ and\n",
    "$C_{tot} = C_{crew}$, while for $n < 19$ $$F(n) = 10000\\cdot \\left\n",
    "(\\dfrac{280}{1+n} - 14\\right)$$\n",
    "\n",
    "The remaining expenses are the costs associated with hiring cleanup\n",
    "crews. They are given by the function:\n",
    "\n",
    "$$C_{crew}(n) = \\dfrac{500 \\cdot 280}{1+n}+\\dfrac{800 \\cdot\n",
    "280}{1+n}⋅n+18000⋅n $$\n",
    "\n",
    "And, the total cost function is given as a function of $n$ by:\n",
    "$$C_{tot}(n) = \\left \\{ \\begin{matrix} F(n) + C_{crew}(n) & n < 19 \\\\\n",
    "C_{crew}(n) & n \\ge 19\\end{matrix} \\right .$$"
   ]
  },
  {
   "cell_type": "code",
   "execution_count": 16,
   "id": "3c676352-7bb0-4a2b-8e1c-901e5b1f2fe3",
   "metadata": {},
   "outputs": [
    {
     "data": {
      "text/latex": [
       "$\\displaystyle 18000 n + \\frac{160000 n}{0.714285714285714 n + 0.714285714285714} - 140000 + \\frac{2800000}{n + 1} + \\frac{100000}{0.714285714285714 n + 0.714285714285714}$"
      ],
      "text/plain": [
       "18000*n + 160000*n/(0.714285714285714*n + 0.714285714285714) - 140000 + 2800000/(n + 1) + 100000/(0.714285714285714*n + 0.714285714285714)"
      ]
     },
     "execution_count": 16,
     "metadata": {},
     "output_type": "execute_result"
    }
   ],
   "source": [
    "import sympy as sp\n",
    "\n",
    "n = sp.Symbol(\"n\")\n",
    "\n",
    "def f(n): return 10000*(280/(1+n) - 14)\n",
    "\n",
    "f(n) + c.crew_costs(n)"
   ]
  },
  {
   "cell_type": "markdown",
   "id": "48e40f7f-34c8-4f90-9e47-feda2309e6b2",
   "metadata": {},
   "source": [
    "We now pause to use `python` to draw some graphs.\n",
    "\n",
    "Of course, in python we find these functions using methods of the class\n",
    "`c = OilSpillCleanup()` as follows:\n",
    "\n",
    "-   $F(n) \\leftrightarrow$ `c.fine(c.time(n))`\n",
    "-   \\$C\\_{crew}(n) \\$ `c.crew_costs(n)`\n",
    "-   \\$C\\_{tot}(n) \\$ `c.cost(n)`"
   ]
  },
  {
   "cell_type": "markdown",
   "id": "bc884123-ddb9-4a10-b2fb-123b6ee070f8",
   "metadata": {},
   "source": [
    "## Graphs\n",
    "\n",
    "For a specified class `c` of `OilSpillCleanup`, we can use python’s\n",
    "[matplotlib](https://matplotlib.org/) package to draw graphs of the\n",
    "functions `c.cost(n)` and `c.fine(c.time(n))` viewed as functions of\n",
    "`n`."
   ]
  },
  {
   "cell_type": "code",
   "execution_count": 17,
   "id": "5e9fb059-297d-48fd-89b4-c4966c6f0348",
   "metadata": {
    "scrolled": true
   },
   "outputs": [
    {
     "data": {
      "image/png": "[encoded data removed]",
      "text/plain": [
       "<Figure size 1200x600 with 1 Axes>"
      ]
     },
     "metadata": {},
     "output_type": "display_data"
    }
   ],
   "source": [
    "c = OilSpillCleanup()   ### the class with the default values\n",
    "\n",
    "import matplotlib.pyplot as plt\n",
    "import numpy as np\n",
    "\n",
    "def create_graph(c, crew_min=2, crew_max=30, mesh=200, vlines = []):\n",
    "    x = np.linspace(crew_min,crew_max,mesh)\n",
    "        \n",
    "    fig, ax = plt.subplots(figsize=(12,6))  \n",
    "    ax.plot(x,np.array([c.cost(n) for n in x]),label=\"C_tot(n)\")\n",
    "    ax.plot(x,np.array([c.fine(c.time(n))  for n in x]),label=\"Fine(n)\")\n",
    "\n",
    "    ax.set_xlabel(\"# crews\")\n",
    "    ax.set_ylabel(\"total cost in $\")\n",
    "    ax.legend()\n",
    "\n",
    "    for t in vlines:\n",
    "        ax.axvline(x=t, color=\"red\", dashes=[1,4])\n",
    "\n",
    "    ax.set_title(\"Cleanup costs\")\n",
    "    return fig\n",
    "\n",
    "gg=create_graph(c,vlines=[11.23,19])\n",
    "\n",
    "## the return value of create_graph \n",
    "## in a notebook, you'll just see the graph output.\n",
    "## if not in a notebook, you should now call gg.show() \n",
    "## in order to *see* the graph...\n"
   ]
  },
  {
   "cell_type": "markdown",
   "id": "6c6a295b-527f-4e9a-be14-acda27771c34",
   "metadata": {},
   "source": [
    "## The interval $(19,∞)$\n",
    "\n",
    "Our computations strongly *suggest* that the costs are not minimized by\n",
    "taking $n$ in the interval $(19,\\infty)$. Let’s start our analysis by\n",
    "confirming this fact so that we can then focus on the cost function for\n",
    "$0 \\le n \\le 19$.\n",
    "\n",
    "For $n \\ge 19$, recall that $$C_{tot}(n) = C_{crew}(n) =\n",
    "\\dfrac{a}{n+1} + \\dfrac{b\\cdot n}{n+1} + cn$$ for constants $a,b,c$\n",
    "given by $a = 500\\cdot 280$, $b = 800 \\cdot 280$ and $c = 18000$.\n",
    "\n",
    "Differentiating in $n$, find that $$(\\clubsuit) \\quad\n",
    "\\dfrac{dC_{tot}}{dn} = c + \\dfrac{b}{(n+1)^2} - \\dfrac{a}{(n+1)^2}$$\n",
    "since $\\dfrac{d}{dn}\\left[\\dfrac{n}{n+1} \\right] = \\dfrac{1}{(1+n)^2}$.\n",
    "\n",
    "For $n \\ge 19$ notice that: $$\\dfrac{a}{(n+1)^2} \\le \\dfrac{a}{20^2} =\n",
    "350.$$ Since $b$ is non-negative, we see:\n",
    "\n",
    "$$c + \\dfrac{b}{n+1} - \\dfrac{a}{(n+1)^2} \\ge c - 350 >0.$$\n",
    "\n",
    "This confirms - as the above graph suggests – that $C_{tot}$ is\n",
    "increasing for $n \\ge 19$. Thus for $n$ in $[19,\\infty)$ the minimal\n",
    "costs are located at the endpoint.\n",
    "\n",
    "So to find the minimum value of the cost function $C_{\\text{tot}}$ it is\n",
    "enough to find the minimum value for $n$ in the interval $[0,19]$."
   ]
  },
  {
   "cell_type": "markdown",
   "id": "dd0a04a2-a0d9-4aa8-b1ba-c84111769286",
   "metadata": {},
   "source": [
    "## The interval $[0,19]$\n",
    "\n",
    "For $0 \\le n \\le 19$, the total cost function now has the form\n",
    "\n",
    "$$C_{tot}(n) = \\dfrac{a_1}{n+1} + \\dfrac{b \\cdot n}{n+1} + cn + d$$\n",
    "\n",
    "where $b$ and $c$ are as before but now\n",
    "$a_1 = (500 + 10000)\\cdot 280 = 10500 \\cdot 280$, and where the constant\n",
    "$d$ is given by $d=-14\\cdot 10000$.\n",
    "\n",
    "The derivative $\\dfrac{dC_{tot}}{dn}$ is still given by $(\\clubsuit)$\n",
    "with $a$ replaced by $a_1$.\n",
    "\n",
    "To find critical points on the interval $(0,19)$, we solve the equation\n",
    "$\\dfrac{dC_{tot}}{dn} = 0$ for $n$. Clearing denominators, we find that\n",
    "this amounts to solving the equation: $$0 = -a_1 + b +\n",
    "c(n+1)^2$$ or $$(n+1)^2 = \\dfrac{a_1 - b}{c}$$\n",
    "\n",
    "Since $n \\ge 0$ is required by the problem, the solution is\n",
    "$$n= -1+\\sqrt{\\dfrac{a_1 - b}{c}}$$\n",
    "\n",
    "Let’s compute this value:"
   ]
  },
  {
   "cell_type": "code",
   "execution_count": 18,
   "id": "1076d74a-da2e-4b56-b6c8-a0c479a6d897",
   "metadata": {},
   "outputs": [
    {
     "data": {
      "text/plain": [
       "np.float64(11.283683848458853)"
      ]
     },
     "execution_count": 18,
     "metadata": {},
     "output_type": "execute_result"
    }
   ],
   "source": [
    "a_1 = 10500*280\n",
    "b=800*280\n",
    "c=18000\n",
    "-1 + np.sqrt((a_1 - b)/c)"
   ]
  },
  {
   "cell_type": "markdown",
   "id": "1309ad5f-8bcd-4d76-9f92-e06e29bf8448",
   "metadata": {},
   "source": [
    "Thus $C_{tot}$ has a critical point at a value slightly larger than\n",
    "$n=11$.\n",
    "\n",
    "Note that $$\\dfrac{d^2 C_{tot}}{dn^2} =\n",
    "\\dfrac{d}{dn}\\left[\\dfrac{b-a}{(n+1)^2}\\right] =\n",
    "\\dfrac{-2(b-a)}{(n+1)^3}$$\n",
    "\n",
    "Since $b-a>0$, we find that $\\dfrac{d^2 C_{tot}}{dn}$ is positive for\n",
    "$n \\ge 0$. Thus, the graph is concave up and the indicated critical\n",
    "point is therefore a local minimum.\n",
    "\n",
    "The computations we already made using `python` then confirm that $n=11$\n",
    "minimizes the cost function (without this numerical evidence, the\n",
    "minimum might have occurred at $n=12$, or at one of the endpoints $n=0$\n",
    "or $n=19$)."
   ]
  },
  {
   "cell_type": "markdown",
   "id": "cb21201f-2a3c-4fc3-9dd7-b4cc76c47c82",
   "metadata": {},
   "source": [
    "------\n",
    "# Sensitivity analysis\n",
    "\n",
    "We are interested in describing the extent to which the solution to an\n",
    "optimization problem is sensitive to the parameters.\n",
    "\n",
    "In the case of this oil-spill problem, parameters include: \n",
    "\n",
    "- the length of beach that must be cleaned\n",
    "- the rate of beach cleaning that a crew can achieve (miles/week)\n",
    "- the travel costs per external crew\n",
    "- the daily fine imposed\n",
    "\n",
    "We want a way of measuring how “sensitive” our solution was to a given\n",
    "parameter.\n",
    "\n",
    "For instance, let’s assume that the amount of miles cleaned per week,\n",
    "$m$, were not known exactly. Let’s look at the cost function again, but\n",
    "regard $m$ in as an unknown parameter.\n",
    "\n",
    "We consider the cost function for $n$ in the range in which the fine\n",
    "applies (how reasonable is that assumption?!)\n",
    "\n",
    "Viewing $m$ as a *parameter* we see that the cost function is given by\n",
    "\n",
    "\\begin{align*}\n",
    "C(n) &= 500\\dfrac{1400}{m(1+n)} + n \\left( 18000 + 800 \\dfrac{1400}{m(1+n)} \\right)+ 10000\\left(\\dfrac{1400}{m(1+n)} - 14\\right) \\\\\n",
    "&= 18000n + 10500\\dfrac{1400}{m(1+n)} + 800 \\cdot 1400 \\dfrac{n}{m(1+n)} - 14000\n",
    "\\end{align*}\n",
    "\n",
    "Thus\n",
    "$$\\dfrac{dC}{dn} = 18000 - 10500 \\cdot \\dfrac{200}{m(1+n)^2}+ 800 \\cdot 200 \\dfrac{1}{m(1+n)^2}$$\n",
    "\n",
    "We now see that $C$ has a critical point when \n",
    "$$9700 \\cdot \\dfrac{1400}{m} = 1800(1+n)^2 \\implies n = \\sqrt{\\dfrac{6790}{9m}} -1.$$\n",
    "\n",
    "So: we have described the critical point as a function of $m$!\n",
    "\n",
    "Recall that the original value of $m$ was $5$ miles\n",
    "per day."
   ]
  },
  {
   "cell_type": "code",
   "execution_count": 19,
   "id": "b7efacd5-68ef-4d89-add2-f79fdb211f3e",
   "metadata": {},
   "outputs": [
    {
     "data": {
      "text/plain": [
       "np.float64(11.283683848458853)"
      ]
     },
     "execution_count": 19,
     "metadata": {},
     "output_type": "execute_result"
    }
   ],
   "source": [
    "def n(m): return np.sqrt(6790.0/(9*m)) - 1\n",
    "\n",
    "n(5)"
   ]
  },
  {
   "cell_type": "markdown",
   "id": "902e6fb9-d0d4-49c7-b239-b9c910032147",
   "metadata": {},
   "source": [
    "We find critical points for \"nearby\" values of $m$:"
   ]
  },
  {
   "cell_type": "code",
   "execution_count": 20,
   "id": "5b7d513f-35d6-4a2e-bddd-aac361456cea",
   "metadata": {},
   "outputs": [
    {
     "data": {
      "text/plain": [
       "[(4.5, np.float64(11.948139672850859)),\n",
       " (4.6, np.float64(11.806625700618754)),\n",
       " (4.7, np.float64(11.669652503626441)),\n",
       " (4.8, np.float64(11.536982329329732)),\n",
       " (4.9, np.float64(11.408394495995603)),\n",
       " (5.0, np.float64(11.283683848458853)),\n",
       " (5.1, np.float64(11.162659381253793)),\n",
       " (5.2, np.float64(11.045143008095422)),\n",
       " (5.3, np.float64(10.930968459674354)),\n",
       " (5.4, np.float64(10.819980294246628))]"
      ]
     },
     "execution_count": 20,
     "metadata": {},
     "output_type": "execute_result"
    }
   ],
   "source": [
    "[(5+.1*e,n(5 + .1*e)) for e in range(-5,5)]"
   ]
  },
  {
   "cell_type": "markdown",
   "id": "65301840-e281-47aa-854c-17682916fcf3",
   "metadata": {},
   "source": [
    "There is certainly *some* dependence on $n$, but it doesn’t seem *too*\n",
    "sensitive.\n",
    "\n",
    "If a quantity $y = y(x)$ depends on a quantity $x$, the sensitivity of\n",
    "$y$ to $x$ is defined to be the relative change in $y$ brought about by\n",
    "a relative change in $x$: $$\\dfrac{\\dfrac{\\Delta\n",
    "y}{y}}{\\dfrac{\\Delta x}{x}}= \\dfrac {\\dfrac{y(x+\\Delta x) -\n",
    "y(x)}{y(x)}}{\\dfrac{\\Delta x}{x}}= \\dfrac{y(x+\\Delta x) - y(x)}{\\Delta\n",
    "x} \\cdot \\dfrac{x}{y(x)}$$\n",
    "\n",
    "Taking the limit as $\\Delta x \\to 0$, this expression becomes $$S(y,x)\n",
    "= \\dfrac{dy}{dx}\\cdot \\dfrac{x}{y}.$$\n",
    "\n",
    "In our problem, we consider the dependence of the critical point\n",
    "$n = n(m)$ on the quantity $m$. We have seen that $$n(m)\\approx -1 +\n",
    "\\sqrt{\\dfrac{6790}{9m}} = -1 + \\sqrt{754.44}\\cdot m^{-0.5}$$\n",
    "\n",
    "And thus $$\\dfrac{dn}{dm} = (-0.5)\\sqrt{754.44}m^{-1.5}$$\n",
    "\n",
    "Now the sensitivity $S(n,m)$ is given by \n",
    "\n",
    "$$S(n,m) = \\dfrac{dn}{dm}\n",
    "\\cdot \\dfrac{m}{n(m)}.$$\n",
    "\n",
    "Let's represent this by some code:"
   ]
  },
  {
   "cell_type": "code",
   "execution_count": 22,
   "id": "fce4accb-450c-4929-9d1d-7feea932245b",
   "metadata": {},
   "outputs": [
    {
     "data": {
      "text/plain": [
       "np.float64(-0.5443119117831824)"
      ]
     },
     "execution_count": 22,
     "metadata": {},
     "output_type": "execute_result"
    }
   ],
   "source": [
    "import sympy as sp\n",
    "\n",
    "def n(m):\n",
    "    return -1 + np.sqrt(754.44)*m**-.5\n",
    "\n",
    "def dn(m):\n",
    "    return -0.5*np.sqrt(754.44)*m**(-1.5)\n",
    "\n",
    "def Snm(m):\n",
    "    return dn(m)*m/n(m)\n",
    "\n",
    "Snm(5)"
   ]
  },
  {
   "cell_type": "markdown",
   "id": "e9d0c054-1e35-4a42-83d8-896cb5b4e7f4",
   "metadata": {},
   "source": [
    "\n",
    "So e.g. when $m = 5$, we find that $$S(n,0.714) \\approx\n",
    "-0.5443$$\n",
    "\n",
    "Thus a 1% change in the miles of beach cleaned per day by a crew results\n",
    "in roughly one half of a % change in the optimal value of $n$.\n",
    "\n",
    "In contrast, if we did the same calculation with the fine amount, $f$ ,\n",
    "we’d obtain $S(n, f) \\approx 0.561$, for $f = 10,000$. Of course, this\n",
    "doesn’t sound very different, but note that while a 1% error in $m$ is\n",
    "reasonable, we probably expect much larger changes in $f$ (e.g. one can\n",
    "imagine regulators doubling the fine!). A 100% change in $f$ results in\n",
    "about a 56% change in $n$, so our strategy is not robust to “expected”\n",
    "changes in $f$."
   ]
  }
 ],
 "metadata": {
  "jupytext": {
   "text_representation": {
    "extension": ".md",
    "format_name": "markdown",
    "format_version": "1.2",
    "jupytext_version": "1.6.0"
   }
  },
  "kernelspec": {
   "display_name": "Python 3 (ipykernel)",
   "language": "python",
   "name": "python3"
  },
  "language_info": {
   "codemirror_mode": {
    "name": "ipython",
    "version": 3
   },
   "file_extension": ".py",
   "mimetype": "text/x-python",
   "name": "python",
   "nbconvert_exporter": "python",
   "pygments_lexer": "ipython3",
   "version": "3.10.7"
  }
 },
 "nbformat": 4,
 "nbformat_minor": 5
}
