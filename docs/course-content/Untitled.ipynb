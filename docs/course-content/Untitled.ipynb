{
 "cells": [
  {
   "cell_type": "code",
   "execution_count": 9,
   "id": "f876a4ac-162e-49da-80a8-6733754413f9",
   "metadata": {},
   "outputs": [],
   "source": [
    "def newton(x,b):\n",
    "    return 2.0*x - b*x**2"
   ]
  },
  {
   "cell_type": "code",
   "execution_count": 34,
   "id": "a5f30bbd-bba6-411f-ad4f-7852f201abc1",
   "metadata": {},
   "outputs": [],
   "source": [
    "def iterate(x,b,N):\n",
    "    y = 1.0*x\n",
    "    for i in range(N):\n",
    "       # print(f\"{i} steps y={y}\")\n",
    "        y = newton(y,b)\n",
    "    return y"
   ]
  },
  {
   "cell_type": "code",
   "execution_count": 20,
   "id": "2a59dff5-6c20-4c4a-ace8-19deedae8a9f",
   "metadata": {},
   "outputs": [
    {
     "name": "stdout",
     "output_type": "stream",
     "text": [
      "0 steps y=1.0\n",
      "1 steps y=1.5\n",
      "2 steps y=1.875\n",
      "3 steps y=1.9921875\n",
      "4 steps y=1.999969482421875\n",
      "5 steps y=1.9999999995343387\n",
      "6 steps y=2.0\n",
      "7 steps y=2.0\n",
      "8 steps y=2.0\n",
      "9 steps y=2.0\n"
     ]
    },
    {
     "data": {
      "text/plain": [
       "2.0"
      ]
     },
     "execution_count": 20,
     "metadata": {},
     "output_type": "execute_result"
    }
   ],
   "source": [
    "iterate(1.0,.5,10)"
   ]
  },
  {
   "cell_type": "code",
   "execution_count": 15,
   "id": "20ab0ace-cc81-4c62-9285-95ffc5eb6475",
   "metadata": {},
   "outputs": [],
   "source": [
    "def newtonStep(x,b):\n",
    "    return 2*x - 1.0*b*x*x\n",
    "def approx(b,x0,num):\n",
    "    x = x0*1.0\n",
    "    for i in range(num):\n",
    "        xnew = newtonStep(x,b*1.0)\n",
    "        x = xnew\n",
    "    return x"
   ]
  },
  {
   "cell_type": "code",
   "execution_count": 32,
   "id": "3df6f198-8af5-40cd-8ead-39293a70f07b",
   "metadata": {},
   "outputs": [
    {
     "data": {
      "text/plain": [
       "8.181966944853544e-05"
      ]
     },
     "execution_count": 32,
     "metadata": {},
     "output_type": "execute_result"
    }
   ],
   "source": [
    "approx(12222, 0.00001 ,100)"
   ]
  },
  {
   "cell_type": "code",
   "execution_count": 35,
   "id": "223fa870-f07e-4406-b0b0-29799c07a9a3",
   "metadata": {},
   "outputs": [
    {
     "data": {
      "text/plain": [
       "8.181966944853542e-05"
      ]
     },
     "execution_count": 35,
     "metadata": {},
     "output_type": "execute_result"
    }
   ],
   "source": [
    "iterate(.00001,12222,100)"
   ]
  },
  {
   "cell_type": "markdown",
   "id": "eacbd474-5599-445e-9c6d-301688c8d438",
   "metadata": {},
   "source": [
    "x1  = x0 - f(x0)/ f'(x0)\n",
    "    = 2*x0 - 221*x0**2"
   ]
  },
  {
   "cell_type": "code",
   "execution_count": 27,
   "id": "82dfe59e-43cc-4cd3-a651-acb3b968476f",
   "metadata": {},
   "outputs": [],
   "source": [
    "x1 = 2*x0 - 22*x0**2"
   ]
  },
  {
   "cell_type": "code",
   "execution_count": 28,
   "id": "1082919c-fac0-4776-b159-b978c3d66ba4",
   "metadata": {},
   "outputs": [
    {
     "data": {
      "text/plain": [
       "-0.875"
      ]
     },
     "execution_count": 28,
     "metadata": {},
     "output_type": "execute_result"
    }
   ],
   "source": [
    "x1\n"
   ]
  },
  {
   "cell_type": "code",
   "execution_count": 30,
   "id": "91487768-b1ad-4a26-bfc5-03fe25d4c8ad",
   "metadata": {},
   "outputs": [
    {
     "data": {
      "text/plain": [
       "-18.59375"
      ]
     },
     "execution_count": 30,
     "metadata": {},
     "output_type": "execute_result"
    }
   ],
   "source": [
    "x2 = 2*x1 - 22*x1**2\n",
    "x2"
   ]
  },
  {
   "cell_type": "code",
   "execution_count": 31,
   "id": "a706c12f-2a56-488d-b005-b2b300c4fb53",
   "metadata": {},
   "outputs": [
    {
     "data": {
      "text/plain": [
       "8.181966944853542e-05"
      ]
     },
     "execution_count": 31,
     "metadata": {},
     "output_type": "execute_result"
    }
   ],
   "source": [
    "1.0/12222"
   ]
  },
  {
   "cell_type": "raw",
   "id": "756c1468-afba-464d-930d-0b4dbbfe6fd6",
   "metadata": {},
   "source": [
    "import numpy as np"
   ]
  },
  {
   "cell_type": "code",
   "execution_count": 36,
   "id": "69c96c08-757c-4f8b-9d7b-3635bc99c23f",
   "metadata": {},
   "outputs": [
    {
     "ename": "NameError",
     "evalue": "name 'np' is not defined",
     "output_type": "error",
     "traceback": [
      "\u001b[0;31m---------------------------------------------------------------------------\u001b[0m",
      "\u001b[0;31mNameError\u001b[0m                                 Traceback (most recent call last)",
      "Cell \u001b[0;32mIn[36], line 1\u001b[0m\n\u001b[0;32m----> 1\u001b[0m \u001b[43mnp\u001b[49m\u001b[38;5;241m.\u001b[39mlinspace(\u001b[38;5;241m1\u001b[39m,\u001b[38;5;241m10\u001b[39m,\u001b[38;5;241m5\u001b[39m)\n",
      "\u001b[0;31mNameError\u001b[0m: name 'np' is not defined"
     ]
    }
   ],
   "source": [
    "np.linspace(1,10,5)"
   ]
  },
  {
   "cell_type": "code",
   "execution_count": null,
   "id": "e97efe4d-f3a6-4883-8b76-5a818e84f6a3",
   "metadata": {},
   "outputs": [],
   "source": []
  }
 ],
 "metadata": {
  "kernelspec": {
   "display_name": "Python 3 (ipykernel)",
   "language": "python",
   "name": "python3"
  },
  "language_info": {
   "codemirror_mode": {
    "name": "ipython",
    "version": 3
   },
   "file_extension": ".py",
   "mimetype": "text/x-python",
   "name": "python",
   "nbconvert_exporter": "python",
   "pygments_lexer": "ipython3",
   "version": "3.11.2"
  }
 },
 "nbformat": 4,
 "nbformat_minor": 5
}
