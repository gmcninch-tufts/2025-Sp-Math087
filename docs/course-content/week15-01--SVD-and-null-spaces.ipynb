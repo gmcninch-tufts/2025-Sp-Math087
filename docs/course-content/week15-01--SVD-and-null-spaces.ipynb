{
 "cells": [
  {
   "cell_type": "markdown",
   "id": "faf2bddc-37aa-4f02-872d-cf864d663e30",
   "metadata": {},
   "source": [
    "# [George McNinch](http://gmcninch.math.tufts.edu) Math 87 - Spring 2025\n",
    "\n",
    "# Week 15\n",
    "\n",
    "# Singular value decomposition and null spaces"
   ]
  },
  {
   "cell_type": "markdown",
   "id": "a7aa0449-17ca-4b49-a0a3-6e0cc8eab1de",
   "metadata": {},
   "source": [
    "# Why do we need to find the null space?\n",
    "\n",
    "We have seen how to use `numpy` to solve matrix equations -- i.e. systems of linear equations -- in certain cases. \n",
    "\n",
    "For non-square coefficient matrices, the main available tool is the least squares approximation."
   ]
  },
  {
   "cell_type": "code",
   "execution_count": 19,
   "id": "fd18d4f9-5ca7-41b4-9a69-b37f8e23fec1",
   "metadata": {},
   "outputs": [
    {
     "name": "stdout",
     "output_type": "stream",
     "text": [
      "error: matrix\n",
      "[[1 1 1 1]\n",
      " [1 2 1 2]]\n",
      "is not square.\n"
     ]
    }
   ],
   "source": [
    "import numpy as np\n",
    "import numpy.linalg as la\n",
    "\n",
    "A = np.array([[1,1,1,1], [1,2,1,2]])\n",
    "b = np.array([1, 1])\n",
    "\n",
    "\n",
    "try:\n",
    "    la.solve(A,b) \n",
    "except la.LinAlgError:\n",
    "    print(f\"error: matrix\\n{A}\\nis not square.\")"
   ]
  },
  {
   "cell_type": "code",
   "execution_count": 13,
   "id": "aaac3634-a7a4-4047-b582-402f6307a29e",
   "metadata": {},
   "outputs": [
    {
     "data": {
      "text/plain": [
       "(array([5.00000000e-01, 2.22044605e-16, 5.00000000e-01, 2.22044605e-16]),\n",
       " array([], dtype=float64),\n",
       " np.int32(2),\n",
       " array([3.70245917, 0.54018151]))"
      ]
     },
     "execution_count": 13,
     "metadata": {},
     "output_type": "execute_result"
    }
   ],
   "source": [
    "la.lstsq(A,b)"
   ]
  },
  {
   "cell_type": "markdown",
   "id": "d4343790-1686-45db-a90d-10d1e883e14c",
   "metadata": {},
   "source": [
    "Least squares gives (roughly) the solution `[1/2, 0, 1/2, 0]` (which is indeed a solution).\n",
    "\n",
    "But also `[1,0,0,0]` and `[0,0,1,0]` are solutions. How do we convince `python` to find these solutions for us??!!\n",
    "\n",
    "Well, the point really is that we should find the null space `N(A)` of `A`. And then every solution to `Ax=b` has the form\n",
    "`p+n` where `p` is a fixed particular solution to the equation, and `n` is any solution to the homogeneous equation `Ax=0` --i.e. `n` is in the *null space* `N(A)` of `A`."
   ]
  },
  {
   "cell_type": "markdown",
   "id": "9321e2b6-9791-4a5a-9d41-1bf0217ccb8b",
   "metadata": {},
   "source": [
    "In math70, you'd solve this problem by performing row operations on the matrix `A`.\n",
    "\n",
    "For example, we can subtract the first row from the second:"
   ]
  },
  {
   "cell_type": "code",
   "execution_count": 21,
   "id": "e1682e46-cb9d-4053-affd-d6ad544125a6",
   "metadata": {},
   "outputs": [
    {
     "data": {
      "text/plain": [
       "array([[1, 1, 1, 1],\n",
       "       [0, 1, 0, 1]])"
      ]
     },
     "execution_count": 21,
     "metadata": {},
     "output_type": "execute_result"
    }
   ],
   "source": [
    "A1 = np.array([[1,0],[-1,1]]) @ A\n",
    "A1"
   ]
  },
  {
   "cell_type": "code",
   "execution_count": 23,
   "id": "0f7e59dd-2ab0-4656-af4d-a32ea8d35fe1",
   "metadata": {},
   "outputs": [
    {
     "data": {
      "text/plain": [
       "array([[1, 0, 1, 0],\n",
       "       [0, 1, 0, 1]])"
      ]
     },
     "execution_count": 23,
     "metadata": {},
     "output_type": "execute_result"
    }
   ],
   "source": [
    "# now subtract second row from first\n",
    "A2 = np.array([[1,-1],[0,1]]) @ A1\n",
    "A2"
   ]
  },
  {
   "cell_type": "markdown",
   "id": "93124719-b92e-490d-83fc-6f91088f9e70",
   "metadata": {},
   "source": [
    "Now the matrix is in echelon form and we see that its null space is spanned by the vectors\n",
    "`[1,0,-1,0]` and `[0,1,0,-1]`.\n",
    "\n",
    "And we see that the general solution to `Ax = [1,1]` is given by\n",
    "\n",
    "`[1,0,0,0] + s[1,0,-1,0] + t[0,1,0,-1] = [1 + s, t , -s, -t]`"
   ]
  },
  {
   "cell_type": "markdown",
   "id": "ef9c0f30-88ef-401a-9bd3-2ef346e79f76",
   "metadata": {},
   "source": [
    "But how to automate finding the null space?"
   ]
  },
  {
   "cell_type": "markdown",
   "id": "eac24d96-4977-479e-9563-dd2c18687420",
   "metadata": {},
   "source": [
    "# Singular value decomposition, quickly.\n",
    "\n",
    "The best computational answer is to compute the so called singular value decomposition of the matrix, which makes it easy to find many things, including the null space.\n",
    "\n",
    "So, let `A` be an `m x n` matrix (with real or even complex coefficients).\n",
    "\n",
    "Write `A*` for the *conjugate transpose* of `A`. In numpy this is `A.H` if `A` is created via `np.matrix`. If `A` is created by `np.array` you'll need to instead use\n",
    "`A.conj().T` (\"conjugate transpose\")."
   ]
  },
  {
   "cell_type": "code",
   "execution_count": 43,
   "id": "e591c7fb-d117-4b9a-9f37-12e907b0b451",
   "metadata": {},
   "outputs": [
    {
     "name": "stdout",
     "output_type": "stream",
     "text": [
      "[[ 1.+1.j  1.+0.j  1.+0.j]\n",
      " [ 1.+0.j  2.+1.j -1.+0.j]]\n"
     ]
    }
   ],
   "source": [
    "Ac = np.matrix([[1+1j,1,1],[1,2+1j,-1]])\n",
    "print(Ac)"
   ]
  },
  {
   "cell_type": "code",
   "execution_count": 44,
   "id": "ead8276e-6c55-4a1b-8406-8930c086aae7",
   "metadata": {},
   "outputs": [
    {
     "name": "stdout",
     "output_type": "stream",
     "text": [
      "[[ 1.+1.j  1.+0.j]\n",
      " [ 1.+0.j  2.+1.j]\n",
      " [ 1.+0.j -1.+0.j]]\n",
      "[[ 1.-1.j  1.-0.j]\n",
      " [ 1.-0.j  2.-1.j]\n",
      " [ 1.-0.j -1.-0.j]]\n"
     ]
    }
   ],
   "source": [
    "print(Ac.T)\n",
    "print(Ac.H)"
   ]
  },
  {
   "cell_type": "code",
   "execution_count": 46,
   "id": "eb9b8ace-ed98-4572-8605-a72166c12d45",
   "metadata": {},
   "outputs": [
    {
     "name": "stdout",
     "output_type": "stream",
     "text": [
      "[[ 3.+0.j  3.+0.j  0.-1.j]\n",
      " [ 3.+0.j  6.+0.j -1.+1.j]\n",
      " [ 0.+1.j -1.-1.j  2.+0.j]]\n"
     ]
    }
   ],
   "source": [
    "print(Ac.H @ Ac)"
   ]
  },
  {
   "cell_type": "markdown",
   "id": "f67443ba-17f9-4d9d-96f9-ac5bc1d3238c",
   "metadata": {},
   "source": [
    "**Theorem** \n",
    ":   The matrices `A.H @ A` and `A @ A.H` -- i.e. $A^* \\cdot A$ or $A \\cdot A^*$ -- have the same rank and the same non-zero eigenvalues. These non-zero eigenvalues are    \n",
    "    positive real numbers. Write $$\\sigma_1^2 \\ge \\sigma_2^2 \\ge \\cdots \\ge \\sigma_\\rho^2 > 0$$ for the positive eigenvalues; these numbers $\\sigma_i$ are known as the *singular \n",
    "    values* of the matrix `A`.\n",
    "\n",
    "Let $S = \\operatorname{diag}(\\sigma_1,\\cdots,\\sigma_\\rho)$ be the diagonal matrix with diagonal entries the $\\sigma_i$ and let\n",
    "$\\Sigma$ be the block `m x n` matrix\n",
    "$$\\Sigma = \\begin{pmatrix} S & 0 \\\\\n",
    "0 & 0 \\end{pmatrix}$$\n",
    "\n",
    "**Theorem** (SVD)\n",
    "There is an `m x m` matrix $U$ and an `n x n` matrix $V$ such that  \n",
    "- $A = U \\cdot \\Sigma \\cdot V^T$\n",
    "- The columns of $U$ form an orthonormal basis of $\\mathbf{C}^m$ and the columns of $V$ form an orthonormal basis of $\\mathbf{C}^n$.\n",
    "- If $A$ is a matrix with real coeffs, then $U$ and $V$ can be taken to be real matrices whose columns are orthonomal bases of $\\mathbf{R}^m$ resp. $\\mathbf{R}^n$."
   ]
  },
  {
   "cell_type": "markdown",
   "id": "b32ef624-32d7-43c4-beee-5a7e6523c17b",
   "metadata": {},
   "source": [
    "With notation as in the Theorem, write $v_1,\\cdots,v_n$ for the columns of the matrix $V$. Then $v_{\\rho + 1},\\cdots,v_{n}$ form a basis for the null space of $A$.\n",
    "\n",
    "Moreover, for $1 \\le i \\le \\rho$, $A v_i = \\sigma_i u_i$."
   ]
  },
  {
   "cell_type": "markdown",
   "id": "c6cbcfb5-db6b-4f68-b130-c15b2f8379d8",
   "metadata": {},
   "source": [
    "An important tool in finding the `SVD` is the Grahm-Schmidt orthogonalization process.\n",
    "\n",
    "There is a `numpy` algorithm for computing the singular value decomposition of a matrix $A$, from which you can immediately determine a basis for the null space of $A$.\n",
    "\n",
    "Let's try this for the matrix `A` we considered above. Recall that:"
   ]
  },
  {
   "cell_type": "code",
   "execution_count": 47,
   "id": "2f2647f9-5b72-4c65-8a33-f176c27583a5",
   "metadata": {},
   "outputs": [],
   "source": [
    "A = np.array([[1,1,1,1], [1,2,1,2]])\n",
    "\n",
    "b = np.array([1, 1])"
   ]
  },
  {
   "cell_type": "code",
   "execution_count": 48,
   "id": "f1b7816d-7934-49f5-8fc2-be39b22fa57c",
   "metadata": {},
   "outputs": [],
   "source": [
    "U,Sigma,Vt = la.svd(A)"
   ]
  },
  {
   "cell_type": "markdown",
   "id": "1a07f685-8e4e-4b9c-963c-0c4986a1a43d",
   "metadata": {},
   "source": [
    "Now we have `A = U @ Sigma @ Vt`, and the last few columns of `Vt` form a basis for the null space of $A$. It just remains to determine the dimension of the null space,\n",
    "which in this case is just $n - \\operatorname{rank}(A) = 4 - \\operatorname{rank}(A)$."
   ]
  },
  {
   "cell_type": "code",
   "execution_count": 56,
   "id": "2ca67801-d6f5-4b6c-88ee-7d9c67ebd622",
   "metadata": {},
   "outputs": [
    {
     "data": {
      "text/plain": [
       "np.int64(2)"
      ]
     },
     "execution_count": 56,
     "metadata": {},
     "output_type": "execute_result"
    }
   ],
   "source": [
    "nd = 4 - la.matrix_rank(A)\n",
    "nd"
   ]
  },
  {
   "cell_type": "markdown",
   "id": "065d1baa-6d92-4e43-a047-cffe3259a644",
   "metadata": {},
   "source": [
    "We see that there are two vectors in the null space, and we can extract them as follows:"
   ]
  },
  {
   "cell_type": "code",
   "execution_count": 60,
   "id": "0f28612f-842f-4db0-9be4-807a9d1755e6",
   "metadata": {},
   "outputs": [
    {
     "data": {
      "text/plain": [
       "[array([-0.7,  0.1,  0.7, -0.1]), array([-0.1, -0.7,  0.1,  0.7])]"
      ]
     },
     "execution_count": 60,
     "metadata": {},
     "output_type": "execute_result"
    }
   ],
   "source": [
    "null = [ V.T[:,j] for j in range(nd,4) ]\n",
    "null"
   ]
  },
  {
   "cell_type": "code",
   "execution_count": 62,
   "id": "f497a1f1-f4e4-4064-844b-cf754b7ac37c",
   "metadata": {},
   "outputs": [
    {
     "data": {
      "text/plain": [
       "[array([8.32667268e-17, 5.55111512e-17]),\n",
       " array([ 0.00000000e+00, -1.11022302e-16])]"
      ]
     },
     "execution_count": 62,
     "metadata": {},
     "output_type": "execute_result"
    }
   ],
   "source": [
    "[ A @ n for n in null ]"
   ]
  },
  {
   "cell_type": "markdown",
   "id": "0f71cd06-969c-4a25-a1d8-27cdbfafad69",
   "metadata": {},
   "source": [
    "Note that the vectors in `null` really are orthonormal:"
   ]
  },
  {
   "cell_type": "code",
   "execution_count": 67,
   "id": "c0ef9491-4b5c-42da-9bd1-7b577dd901f2",
   "metadata": {},
   "outputs": [
    {
     "data": {
      "text/plain": [
       "[[1.0, -1.3877787807814457e-17], [-1.3877787807814457e-17, 1.0]]"
      ]
     },
     "execution_count": 67,
     "metadata": {},
     "output_type": "execute_result"
    }
   ],
   "source": [
    "[ [float(null[i]@null[j]) for i in range(2)] for j in range(2) ]"
   ]
  },
  {
   "cell_type": "markdown",
   "id": "fd4b9dde-43c1-4f73-9477-e2c602479017",
   "metadata": {},
   "source": [
    "Recall that we pointed out that `[1,0,-1,0]` and `[0,1,0,-1]` formed a(nother) basis for the null space. We can express these vectors in terms of the new basis `null`, using orthonormality."
   ]
  },
  {
   "cell_type": "code",
   "execution_count": 77,
   "id": "6052e52e-ef25-4f2d-a70c-60b14ccaf355",
   "metadata": {},
   "outputs": [],
   "source": [
    "b1 = np.array([1,0,-1,0])\n",
    "b2 = np.array([0,1,0,-1])\n",
    "\n",
    "def proj_to_null(v):\n",
    "    return sum([(null[i] @ v) * null[i] for i in range(2)])"
   ]
  },
  {
   "cell_type": "code",
   "execution_count": 78,
   "id": "306099c3-e3fc-4467-8d8a-faac4e2fc408",
   "metadata": {},
   "outputs": [
    {
     "data": {
      "text/plain": [
       "array([ 1.00000000e+00,  0.00000000e+00, -1.00000000e+00,  2.77555756e-17])"
      ]
     },
     "execution_count": 78,
     "metadata": {},
     "output_type": "execute_result"
    }
   ],
   "source": [
    "proj_to_null(b1)"
   ]
  },
  {
   "cell_type": "code",
   "execution_count": 79,
   "id": "8d733279-9fc8-4199-94ab-293d678d1b8d",
   "metadata": {},
   "outputs": [
    {
     "data": {
      "text/plain": [
       "array([-8.32667268e-17,  1.00000000e+00, -2.77555756e-17, -1.00000000e+00])"
      ]
     },
     "execution_count": 79,
     "metadata": {},
     "output_type": "execute_result"
    }
   ],
   "source": [
    "proj_to_null(b2)"
   ]
  }
 ],
 "metadata": {
  "kernelspec": {
   "display_name": "Python 3 (ipykernel)",
   "language": "python",
   "name": "python3"
  },
  "language_info": {
   "codemirror_mode": {
    "name": "ipython",
    "version": 3
   },
   "file_extension": ".py",
   "mimetype": "text/x-python",
   "name": "python",
   "nbconvert_exporter": "python",
   "pygments_lexer": "ipython3",
   "version": "3.11.2"
  }
 },
 "nbformat": 4,
 "nbformat_minor": 5
}
