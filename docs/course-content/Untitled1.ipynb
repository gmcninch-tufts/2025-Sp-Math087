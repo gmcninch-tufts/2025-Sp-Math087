{
 "cells": [
  {
   "cell_type": "code",
   "execution_count": 1,
   "id": "2f823b91-16fb-46ce-914b-34b927fdf674",
   "metadata": {},
   "outputs": [
    {
     "name": "stdout",
     "output_type": "stream",
     "text": [
      "T^3 - 1\n"
     ]
    }
   ],
   "source": [
    "K.<T> = PolynomialRing(QQ);\n",
    "print((T^2 + T +1)*(T-1));"
   ]
  },
  {
   "cell_type": "code",
   "execution_count": 7,
   "id": "3d8f3914-bc1f-4220-8399-5f07cd64dfe6",
   "metadata": {},
   "outputs": [
    {
     "name": "stdout",
     "output_type": "stream",
     "text": [
      "2*T^2 - 3*T + 1\n"
     ]
    }
   ],
   "source": [
    "g=2*(T-1/2)*(T-1);\n",
    "print(g);"
   ]
  },
  {
   "cell_type": "code",
   "execution_count": null,
   "id": "4345a8c5-91e9-47fb-be5c-d368c08554ef",
   "metadata": {},
   "outputs": [],
   "source": []
  }
 ],
 "metadata": {
  "kernelspec": {
   "display_name": "SageMath 9.5",
   "language": "sage",
   "name": "sagemath"
  },
  "language_info": {
   "codemirror_mode": {
    "name": "ipython",
    "version": 3
   },
   "file_extension": ".py",
   "mimetype": "text/x-python",
   "name": "python",
   "nbconvert_exporter": "python",
   "pygments_lexer": "ipython3",
   "version": "3.11.2"
  }
 },
 "nbformat": 4,
 "nbformat_minor": 5
}
