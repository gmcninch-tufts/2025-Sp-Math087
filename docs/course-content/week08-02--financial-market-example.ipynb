{
 "cells": [
  {
   "cell_type": "markdown",
   "metadata": {},
   "source": [
    "# [George McNinch](http://gmcninch.math.tufts.edu) Math 87 - Spring 2024\n",
    "\n",
    "# Week 7\n",
    "\n",
    "# motivating Example: financial markets"
   ]
  },
  {
   "cell_type": "markdown",
   "metadata": {},
   "source": [
    "Financial market example\n",
    "=========================\n",
    "\n",
    "Consider the state of a financial market from week to week. \n",
    "\n",
    "- by a *bull market* we mean a week of generally rising prices. \n",
    "- by a *bear market* we mean a week of generally declining prices.\n",
    "- by a *recession* we mean a general slowdown of the economy.\n",
    "\n",
    "Empirical observation shows for each of these three states what the probability of the state for the subsequent week, as follows:\n",
    "\n",
    "|                  | *bull*   | *bear*   | *recession*| \n",
    "| :--------------- | -------: | -------: | ---------: |\n",
    "|     followed by bull         | 0.90     | 0.15     | 0.25      |\n",
    "|     followed by bear         | 0.075    | 0.80     | 0.25       |\n",
    "|     followed by recession    | 0.025    | 0.05     | 0.50       |\n",
    "\n",
    "In words, the first col indicates that if one has a bull market, then 90% of the time the next week is a bull market, 7.5% of the time the next week is a bear market, and 2.5% of the time the next week is in recession."
   ]
  },
  {
   "cell_type": "markdown",
   "metadata": {},
   "source": [
    "Probabilities\n",
    "-------------\n",
    "\n",
    "Let's number the weeks we are going to consider $k=0,1,2,...$.\n",
    "We can represent the probability that week $k$ is a bull market, a bear market, or in recession using a vector in $\\mathbb{R}^3$:\n",
    "\n",
    "$$\\mathbf{x}^{(k)} = \\begin{bmatrix}\n",
    "\\text{bull market prob.} \\\\\n",
    "\\text{bear market prob.} \\\\\n",
    "\\text{recession prob.}\n",
    "\\end{bmatrix}\n",
    "=\\begin{bmatrix}\n",
    "\\alpha_k \\\\\n",
    "\\beta_k \\\\\n",
    "\\gamma_k\n",
    "\\end{bmatrix}$$\n",
    "\n",
    "We'd like to describe the probabilities describing the next week -- i.e. the vector $\\mathbf{x}^{(k+1)}$.\n",
    "\n",
    "Observe that if we *knew for sure* that week $k$ was a bear market, then $\\mathbf{x}^{(k)} = \\mathbf{e}_1 = \n",
    "\\begin{bmatrix} \n",
    "1 \\\\ 0 \\\\ 0 \n",
    "\\end{bmatrix}$.\n",
    "But then we have more-or-less been told what $\\mathbf{x}^{(k+1)}$ is -- it must be \n",
    "$$\\mathbf{x}^{(k+1)} = \\begin{bmatrix}\n",
    "0.90\\\\\n",
    "0.075 \\\\\n",
    "0.025\n",
    "\\end{bmatrix}.$$\n",
    "\n",
    "In the general case, we see if $\\mathbf{x}^{(k)} = \\begin{bmatrix}\n",
    "\\alpha_k \\\\\n",
    "\\beta_k \\\\\n",
    "\\gamma_k\n",
    "\\end{bmatrix}$, then\n",
    "$$\\mathbf{x}^{(k+1)} = \\alpha_k \\begin{bmatrix}\n",
    "0.90\\\\\n",
    "0.075 \\\\\n",
    "0.025\n",
    "\\end{bmatrix} + \n",
    "\\beta_k \\begin{bmatrix}\n",
    "0.15\\\\\n",
    "0.8 \\\\\n",
    "0.05\n",
    "\\end{bmatrix} +\n",
    "\\gamma_k \\begin{bmatrix}\n",
    "0.25\\\\\n",
    "0.25 \\\\\n",
    "0.5\n",
    "\\end{bmatrix} = A \\cdot \\begin{bmatrix} \\alpha_k \\\\ \\beta_k \\\\ \\gamma_k \\end{bmatrix} = A \\cdot \\mathbf{x}^{(k)}$$\n",
    "where\n",
    "$$A = \\begin{bmatrix}\n",
    "0.90 & 0.15 & 0.25 \\\\\n",
    "0.075 & 0.80  & 0.25  \\\\\n",
    ".025 & 0.05  & 0.50 \n",
    "\\end{bmatrix}$$"
   ]
  },
  {
   "cell_type": "markdown",
   "metadata": {},
   "source": [
    "We want to enter $A$ as a matrix in ``python``, and use ``numpy`` functions \n",
    "to study the iterations.\n",
    "\n",
    "Of course, with just three states this is fairly straightforward -- one just gets a $3 \\times 3$ matrix. But with more variables, it might be nice to be more systematic. Let's describe how to use ``dictionaries`` in ``python`` to index the probabilities.\n",
    "\n",
    "The idea is to make a list of the possible states; in this case\n",
    "\n",
    "```\n",
    "states = [\"bull\",\"bear\",\"recess\"]\n",
    "```\n",
    "\n",
    "and to use these states as the row/column index for the information in the resulting matrix.\n",
    "\n",
    "So we just enter the matrix:\n",
    "\n",
    "```\n",
    "A = np.array([[0.90 , 0.15 , 0.25],\n",
    "              [0.075, 0.80 , 0.25],\n",
    "              [0.025, 0.05 , 0.50]])\n",
    "```\n",
    "\n",
    "and build the dictionary ``dict`` using the information in ``A``.\n",
    "\n",
    "Note e.g. that if you wanted the entry in A corresponding to \"bull then bear\", you could do\n",
    "\n",
    "``A[1,2]``\n",
    "\n",
    "or\n",
    "\n",
    "``A[states.index(\"bull\"),states.index(\"bear\")]``\n"
   ]
  },
  {
   "cell_type": "code",
   "execution_count": 1,
   "metadata": {},
   "outputs": [
    {
     "data": {
      "text/plain": [
       "np.float64(0.15)"
      ]
     },
     "execution_count": 1,
     "metadata": {},
     "output_type": "execute_result"
    }
   ],
   "source": [
    "import numpy as np\n",
    "\n",
    "A = np.array([[0.90 , 0.15 , 0.25],\n",
    "              [0.075, 0.80 , 0.25],\n",
    "              [0.025, 0.05 , 0.50]])\n",
    "\n",
    "states = [\"bull\",\"bear\",\"recess\"]\n",
    "\n",
    "A[states.index(\"bull\"),states.index(\"bear\")]"
   ]
  },
  {
   "cell_type": "markdown",
   "metadata": {},
   "source": [
    "Of course, writing\n",
    "\n",
    "``A[states.index(\"bull\"),states.index(\"bear\")]``\n",
    "\n",
    "is a bit clunky...\n",
    "\n",
    "So let's create the dictionary I mentioned. A dictionary\n",
    "is a collection of ``key/value`` pairs.\n",
    "\n",
    "The *keys* to our dictionary will be pairs (\"tuples\")\n",
    "\n",
    "``(a,b)`` where ``a,b`` are members of the list ``states``.\n",
    "\n",
    "And the value associated to ``(a,b)`` will be the probability that state ``b`` follows state ``a``.\n",
    "\n",
    "The dictionary will be named ``prob``, and we'll be able to the probability\n",
    "that a bull market follows  a recession as follows:\n",
    "\n",
    "``prob[(\"recess\",\"bull\")]``\n",
    "\n",
    "To define ``dict``, we'll use:\n",
    "\n",
    "```\n",
    "{(a,b):A[states.index(a)][states.index(b)] for (a,b) in product(states,states)}\n",
    "```"
   ]
  },
  {
   "cell_type": "code",
   "execution_count": 2,
   "metadata": {},
   "outputs": [
    {
     "data": {
      "text/plain": [
       "{('bull', 'bull'): np.float64(0.9),\n",
       " ('bull', 'bear'): np.float64(0.15),\n",
       " ('bull', 'recess'): np.float64(0.25),\n",
       " ('bear', 'bull'): np.float64(0.075),\n",
       " ('bear', 'bear'): np.float64(0.8),\n",
       " ('bear', 'recess'): np.float64(0.25),\n",
       " ('recess', 'bull'): np.float64(0.025),\n",
       " ('recess', 'bear'): np.float64(0.05),\n",
       " ('recess', 'recess'): np.float64(0.5)}"
      ]
     },
     "execution_count": 2,
     "metadata": {},
     "output_type": "execute_result"
    }
   ],
   "source": [
    "from itertools import product\n",
    "\n",
    "prob = {(a,b):A[states.index(a)][states.index(b)] for (a,b) in product(states,states)}\n",
    "\n",
    "prob\n"
   ]
  },
  {
   "cell_type": "code",
   "execution_count": 3,
   "metadata": {},
   "outputs": [
    {
     "name": "stdout",
     "output_type": "stream",
     "text": [
      "week of bull   ---> week of bull  : 0.9\n",
      "week of bull   ---> week of bear  : 0.15\n",
      "week of bull   ---> week of recess: 0.25\n",
      "week of bear   ---> week of bull  : 0.075\n",
      "week of bear   ---> week of bear  : 0.8\n",
      "week of bear   ---> week of recess: 0.25\n",
      "week of recess ---> week of bull  : 0.025\n",
      "week of recess ---> week of bear  : 0.05\n",
      "week of recess ---> week of recess: 0.5\n"
     ]
    }
   ],
   "source": [
    "print(\"\\n\".join([f\"week of {a:6} ---> week of {b:6}: {prob[(a,b)]}\" for (a,b) in prob.keys()]))"
   ]
  },
  {
   "cell_type": "code",
   "execution_count": 4,
   "metadata": {},
   "outputs": [
    {
     "data": {
      "image/svg+xml": [
       "<?xml version=\"1.0\" encoding=\"UTF-8\" standalone=\"no\"?>\n",
       "<!DOCTYPE svg PUBLIC \"-//W3C//DTD SVG 1.1//EN\"\n",
       " \"http://www.w3.org/Graphics/SVG/1.1/DTD/svg11.dtd\">\n",
       "<!-- Generated by graphviz version 2.43.0 (0)\n",
       " -->\n",
       "<!-- Title: financial Pages: 1 -->\n",
       "<svg width=\"216pt\" height=\"218pt\"\n",
       " viewBox=\"0.00 0.00 215.85 218.00\" xmlns=\"http://www.w3.org/2000/svg\" xmlns:xlink=\"http://www.w3.org/1999/xlink\">\n",
       "<g id=\"graph0\" class=\"graph\" transform=\"scale(1 1) rotate(0) translate(4 214)\">\n",
       "<title>financial</title>\n",
       "<polygon fill=\"white\" stroke=\"transparent\" points=\"-4,4 -4,-214 211.85,-214 211.85,4 -4,4\"/>\n",
       "<!-- bull -->\n",
       "<g id=\"node1\" class=\"node\">\n",
       "<title>bull</title>\n",
       "<ellipse fill=\"none\" stroke=\"black\" cx=\"112.85\" cy=\"-192\" rx=\"28.7\" ry=\"18\"/>\n",
       "<text text-anchor=\"middle\" x=\"112.85\" y=\"-188.3\" font-family=\"Times,serif\" font-size=\"14.00\">bull</text>\n",
       "</g>\n",
       "<!-- bull&#45;&gt;bull -->\n",
       "<g id=\"edge1\" class=\"edge\">\n",
       "<title>bull&#45;&gt;bull</title>\n",
       "<path fill=\"none\" stroke=\"black\" d=\"M138.72,-199.78C149.89,-200.42 159.44,-197.82 159.44,-192 159.44,-188.09 155.13,-185.63 148.91,-184.64\"/>\n",
       "<polygon fill=\"black\" stroke=\"black\" points=\"148.86,-181.13 138.72,-184.22 148.57,-188.12 148.86,-181.13\"/>\n",
       "<text text-anchor=\"middle\" x=\"170.94\" y=\"-188.3\" font-family=\"Times,serif\" font-size=\"14.00\">0.9</text>\n",
       "</g>\n",
       "<!-- bear -->\n",
       "<g id=\"node2\" class=\"node\">\n",
       "<title>bear</title>\n",
       "<ellipse fill=\"none\" stroke=\"black\" cx=\"31.85\" cy=\"-105\" rx=\"31.7\" ry=\"18\"/>\n",
       "<text text-anchor=\"middle\" x=\"31.85\" y=\"-101.3\" font-family=\"Times,serif\" font-size=\"14.00\">bear</text>\n",
       "</g>\n",
       "<!-- bull&#45;&gt;bear -->\n",
       "<g id=\"edge2\" class=\"edge\">\n",
       "<title>bull&#45;&gt;bear</title>\n",
       "<path fill=\"none\" stroke=\"black\" d=\"M84.95,-187.09C66.19,-182.85 42.79,-174.08 30.85,-156 26.46,-149.35 25.34,-141.04 25.72,-133.12\"/>\n",
       "<polygon fill=\"black\" stroke=\"black\" points=\"29.21,-133.44 26.93,-123.1 22.26,-132.61 29.21,-133.44\"/>\n",
       "<text text-anchor=\"middle\" x=\"46.85\" y=\"-144.8\" font-family=\"Times,serif\" font-size=\"14.00\">0.15</text>\n",
       "</g>\n",
       "<!-- recess -->\n",
       "<g id=\"node3\" class=\"node\">\n",
       "<title>recess</title>\n",
       "<ellipse fill=\"none\" stroke=\"black\" cx=\"114.85\" cy=\"-18\" rx=\"40.09\" ry=\"18\"/>\n",
       "<text text-anchor=\"middle\" x=\"114.85\" y=\"-14.3\" font-family=\"Times,serif\" font-size=\"14.00\">recess</text>\n",
       "</g>\n",
       "<!-- bull&#45;&gt;recess -->\n",
       "<g id=\"edge3\" class=\"edge\">\n",
       "<title>bull&#45;&gt;recess</title>\n",
       "<path fill=\"none\" stroke=\"black\" d=\"M118.7,-174.11C120.39,-168.43 122.01,-162.01 122.85,-156 125.28,-138.62 132.15,-170.91 120.85,-54 120.6,-51.42 120.27,-48.75 119.89,-46.08\"/>\n",
       "<polygon fill=\"black\" stroke=\"black\" points=\"123.32,-45.34 118.28,-36.02 116.41,-46.45 123.32,-45.34\"/>\n",
       "<text text-anchor=\"middle\" x=\"142.85\" y=\"-101.3\" font-family=\"Times,serif\" font-size=\"14.00\">0.25</text>\n",
       "</g>\n",
       "<!-- bear&#45;&gt;bull -->\n",
       "<g id=\"edge4\" class=\"edge\">\n",
       "<title>bear&#45;&gt;bull</title>\n",
       "<path fill=\"none\" stroke=\"black\" d=\"M46.34,-121.21C58.97,-134.46 77.44,-153.84 91.71,-168.82\"/>\n",
       "<polygon fill=\"black\" stroke=\"black\" points=\"89.31,-171.37 98.74,-176.19 94.37,-166.54 89.31,-171.37\"/>\n",
       "<text text-anchor=\"middle\" x=\"98.35\" y=\"-144.8\" font-family=\"Times,serif\" font-size=\"14.00\">0.075</text>\n",
       "</g>\n",
       "<!-- bear&#45;&gt;bear -->\n",
       "<g id=\"edge5\" class=\"edge\">\n",
       "<title>bear&#45;&gt;bear</title>\n",
       "<path fill=\"none\" stroke=\"black\" d=\"M60.53,-112.83C72.04,-113.27 81.69,-110.66 81.69,-105 81.69,-101.11 77.13,-98.66 70.54,-97.65\"/>\n",
       "<polygon fill=\"black\" stroke=\"black\" points=\"70.69,-94.16 60.53,-97.17 70.35,-101.15 70.69,-94.16\"/>\n",
       "<text text-anchor=\"middle\" x=\"93.19\" y=\"-101.3\" font-family=\"Times,serif\" font-size=\"14.00\">0.8</text>\n",
       "</g>\n",
       "<!-- bear&#45;&gt;recess -->\n",
       "<g id=\"edge6\" class=\"edge\">\n",
       "<title>bear&#45;&gt;recess</title>\n",
       "<path fill=\"none\" stroke=\"black\" d=\"M29.91,-86.73C29.65,-76.32 31.03,-63.31 37.85,-54 45.79,-43.14 57.92,-35.57 70.21,-30.33\"/>\n",
       "<polygon fill=\"black\" stroke=\"black\" points=\"71.48,-33.59 79.58,-26.76 68.99,-27.05 71.48,-33.59\"/>\n",
       "<text text-anchor=\"middle\" x=\"53.85\" y=\"-57.8\" font-family=\"Times,serif\" font-size=\"14.00\">0.25</text>\n",
       "</g>\n",
       "<!-- recess&#45;&gt;bull -->\n",
       "<g id=\"edge7\" class=\"edge\">\n",
       "<title>recess&#45;&gt;bull</title>\n",
       "<path fill=\"none\" stroke=\"black\" d=\"M130.28,-34.74C141.75,-47.6 156.46,-66.89 162.85,-87 167.69,-102.25 167.64,-107.74 162.85,-123 157.44,-140.2 145.68,-156.58 134.93,-168.95\"/>\n",
       "<polygon fill=\"black\" stroke=\"black\" points=\"132.22,-166.72 128.08,-176.47 137.4,-171.43 132.22,-166.72\"/>\n",
       "<text text-anchor=\"middle\" x=\"187.35\" y=\"-101.3\" font-family=\"Times,serif\" font-size=\"14.00\">0.025</text>\n",
       "</g>\n",
       "<!-- recess&#45;&gt;bear -->\n",
       "<g id=\"edge8\" class=\"edge\">\n",
       "<title>recess&#45;&gt;bear</title>\n",
       "<path fill=\"none\" stroke=\"black\" d=\"M101.03,-35.11C92.31,-45.09 80.68,-58.04 69.85,-69 65.48,-73.41 60.7,-78 56.05,-82.34\"/>\n",
       "<polygon fill=\"black\" stroke=\"black\" points=\"53.43,-79.99 48.44,-89.34 58.17,-85.15 53.43,-79.99\"/>\n",
       "<text text-anchor=\"middle\" x=\"100.85\" y=\"-57.8\" font-family=\"Times,serif\" font-size=\"14.00\">0.05</text>\n",
       "</g>\n",
       "<!-- recess&#45;&gt;recess -->\n",
       "<g id=\"edge9\" class=\"edge\">\n",
       "<title>recess&#45;&gt;recess</title>\n",
       "<path fill=\"none\" stroke=\"black\" d=\"M151.28,-25.88C163.43,-25.88 173.14,-23.25 173.14,-18 173.14,-14.31 168.34,-11.91 161.27,-10.82\"/>\n",
       "<polygon fill=\"black\" stroke=\"black\" points=\"161.5,-7.33 151.28,-10.12 161.02,-14.31 161.5,-7.33\"/>\n",
       "<text text-anchor=\"middle\" x=\"184.64\" y=\"-14.3\" font-family=\"Times,serif\" font-size=\"14.00\">0.5</text>\n",
       "</g>\n",
       "</g>\n",
       "</svg>\n"
      ],
      "text/plain": [
       "<graphviz.graphs.Digraph at 0x7fcba81ad4d0>"
      ]
     },
     "execution_count": 4,
     "metadata": {},
     "output_type": "execute_result"
    }
   ],
   "source": [
    "from graphviz import Digraph\n",
    "\n",
    "fin = Digraph(\"financial\")\n",
    "\n",
    "## make the nodes\n",
    "for a in states:\n",
    "    fin.node(a)\n",
    "\n",
    "## make and label the edges\n",
    "for a,b in prob.keys():\n",
    "    fin.edge(a,b,f\"{prob[(a,b)]}\")\n",
    "\n",
    "\n",
    "fin"
   ]
  },
  {
   "cell_type": "code",
   "execution_count": 5,
   "metadata": {},
   "outputs": [
    {
     "data": {
      "text/plain": [
       "[array([0.9  , 0.075, 0.025]),\n",
       " array([0.9  , 0.075, 0.025]),\n",
       " array([0.525 , 0.4375, 0.0375])]"
      ]
     },
     "execution_count": 5,
     "metadata": {},
     "output_type": "execute_result"
    }
   ],
   "source": [
    "def sbv(index,size):\n",
    "    return np.array([1.0 if i == index-1 else 0.0 for i in range(size)])\n",
    "\n",
    "state_vector = {\"bull\":sbv(1,3),\n",
    "                \"bear\":sbv(2,3),\n",
    "                \"recess\":sbv(3,3)}\n",
    "\n",
    "def state(bull=0,bear=0,recess=0):\n",
    "    if np.abs(1 - (bull + bear + recess)) < 1e-7:\n",
    "        return sum([bull*state_vector[\"bull\"],\n",
    "                    bear*state_vector[\"bear\"],\n",
    "                    recess*state_vector[\"recess\"]],\n",
    "                    np.zeros(3))\n",
    "    else:\n",
    "        raise Exception(\"Probabilities must add to 1\")\n",
    "        \n",
    "[A @ state_vector[\"bull\"],\n",
    " A @ state(bull=1),\n",
    " A @ state(bull=.5,bear=.5)]"
   ]
  },
  {
   "cell_type": "markdown",
   "metadata": {},
   "source": [
    "**Q1**\n",
    "======\n",
    "\n",
    "If there is a bear market in week $k$, what probabilities describe the market state 3 weeks later (i.e. in week $k+3$)?"
   ]
  },
  {
   "cell_type": "code",
   "execution_count": 7,
   "metadata": {},
   "outputs": [
    {
     "data": {
      "text/plain": [
       "array([0.3575 , 0.56825, 0.07425])"
      ]
     },
     "execution_count": 7,
     "metadata": {},
     "output_type": "execute_result"
    }
   ],
   "source": [
    "## we'll need to use the ``matrix_power`` function\n",
    "\n",
    "from numpy.linalg import matrix_power\n",
    "\n",
    "matrix_power(A,3) @ state(bear=1)\n"
   ]
  },
  {
   "cell_type": "markdown",
   "metadata": {},
   "source": [
    "**Q2**\n",
    "------\n",
    "\n",
    "Suppose that in we knew that there was a 50% chance of a recession and a 50% chance of a bear market.\n",
    "What probabilities describe the market state 5 weeks later?\n",
    "\n"
   ]
  },
  {
   "cell_type": "code",
   "execution_count": 9,
   "metadata": {},
   "outputs": [
    {
     "data": {
      "text/plain": [
       "array([0.51263 , 0.407445, 0.079925])"
      ]
     },
     "execution_count": 9,
     "metadata": {},
     "output_type": "execute_result"
    }
   ],
   "source": [
    "matrix_power(A,5) @ state(recess=.5,bear=.5)"
   ]
  },
  {
   "cell_type": "markdown",
   "metadata": {},
   "source": [
    "**Q3**\n",
    "=======\n",
    "\n",
    "Compute A^50. What do you observe? What about A^100?\n",
    "\n",
    "Explain what seems to happen to the vector $A^j \\cdot \\mathbf{x}^{(0)}$ for large $j$.\n"
   ]
  },
  {
   "cell_type": "code",
   "execution_count": 11,
   "metadata": {},
   "outputs": [
    {
     "data": {
      "text/plain": [
       "array([[0.625 , 0.625 , 0.625 ],\n",
       "       [0.3125, 0.3125, 0.3125],\n",
       "       [0.0625, 0.0625, 0.0625]])"
      ]
     },
     "execution_count": 11,
     "metadata": {},
     "output_type": "execute_result"
    }
   ],
   "source": [
    "matrix_power(A,100)"
   ]
  },
  {
   "cell_type": "markdown",
   "metadata": {},
   "source": [
    "**Q4**\n",
    "======\n",
    "In the long run, what do you think the probability of a bull market is? Does this probability depend on the starting state of the market?"
   ]
  }
 ],
 "metadata": {
  "kernelspec": {
   "display_name": "Python 3 (ipykernel)",
   "language": "python",
   "name": "python3"
  },
  "language_info": {
   "codemirror_mode": {
    "name": "ipython",
    "version": 3
   },
   "file_extension": ".py",
   "mimetype": "text/x-python",
   "name": "python",
   "nbconvert_exporter": "python",
   "pygments_lexer": "ipython3",
   "version": "3.11.2"
  }
 },
 "nbformat": 4,
 "nbformat_minor": 4
}
