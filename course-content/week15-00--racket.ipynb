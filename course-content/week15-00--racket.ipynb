{
 "cells": [
  {
   "cell_type": "markdown",
   "id": "76a40b44-1490-485a-9a33-e4f22cf857d0",
   "metadata": {},
   "source": [
    "# [George McNinch](http://gmcninch.math.tufts.edu) Math 87 - Spring 2025\n",
    "\n",
    "# Week 15\n",
    "\n",
    "# Racket and linear programming "
   ]
  },
  {
   "cell_type": "markdown",
   "id": "f16f2755-fdac-4e46-b3ef-908ff9565bb0",
   "metadata": {},
   "source": [
    "# Racket and GLPK \n",
    "\n",
    "The main point of this notebook is to convince you that other tools than `python` and `numpy` are available for some of the applications we've used in the course this term.\n",
    "\n",
    "I'm going to show how to use the `racket scheme` language to solve some linear programs.\n",
    "\n",
    "In fact, the `racket` [library for solving linear programs](https://docs.racket-lang.org/glpk/index.html#%28part._.The_.Linear_.Programming_problem%29) \n",
    "depends on the [GNU Linear Programming Kit](https://www.gnu.org/software/glpk/) (which describes itself as\n",
    "\n",
    ">  a set of routines written in ANSI C and organized in the form of a callable library.\n",
    ")\n",
    "\n",
    "To use it, I had to do a bunch of stuff:\n",
    "- install the `GNU GPLK` (`sudo apt install glpk-utils`)\n",
    "- (install `racket` (see https://racket-lang.org/download/)\n",
    "- install the corresponding `racket` package (`raco pkg install GLPK`)"
   ]
  },
  {
   "cell_type": "code",
   "execution_count": 1,
   "id": "90569228-b343-4e58-aee9-024573f092b7",
   "metadata": {},
   "outputs": [],
   "source": [
    "#lang iracket/lang #:require racket\n",
    "\n",
    "(require glpk)"
   ]
  },
  {
   "cell_type": "markdown",
   "id": "97121db0-2b77-4616-ae34-8c99790d2098",
   "metadata": {},
   "source": [
    "Here is the technical specification for the solver:\n",
    "\n",
    "```\n",
    "(lp-solve\t    objective\t \n",
    "     \t \t    direction\t \n",
    "     \t \t    constraints\t \n",
    "     \t \t    bounds\t \n",
    "     \t \t    #:terminal-output terminal-output?)\t \n",
    "→ (list/c symbol?\n",
    "          (or/c symbol? false?)\n",
    "          (list/c flonum? (listof (list/c symbol? flonum?))))\n",
    "\n",
    "  objective : objective?\n",
    "  direction : (or/c 'max 'min)\n",
    "  constraints : (listof constraint?)\n",
    "  bounds : (listof bound?)\n",
    "  terminal-output? : boolean?\n",
    "```"
   ]
  },
  {
   "cell_type": "markdown",
   "id": "33f1ab67-e565-4732-b89f-3eff32b40fa5",
   "metadata": {},
   "source": [
    "The objective function and constraints are described as follows:\n",
    "\n",
    "> Both the objective and the constraints make use of a \"linear combination\" form:\n",
    ">\n",
    ">>    lin-comb? = (listof (list/c real? symbol?))\n",
    ">\n",
    "> ... representing a linear combination of structural variables.\n",
    ">\n",
    "> The objective function includes a constant term and a linear combination of structural variables:\n",
    ">\n",
    ">>    objective? = (pair/c real? lin-comb?)\n",
    ">\n",
    "> The constraints each include the name of an auxiliary variable and a linear combination of structural variables:\n",
    ">\n",
    ">>    constraint? = (pair/c symbol? lin-comb?)\n",
    "\n",
    "In `racket`, a `lin-comb?` would therefore be something like\n",
    "\n",
    "> `'((1 a) (2 b) (3 c))`"
   ]
  },
  {
   "cell_type": "markdown",
   "id": "189b0bc5-3d8a-4b87-874a-91c782981157",
   "metadata": {},
   "source": [
    "You also have to provide bounds:\n",
    "\n",
    "> You must provide bounds for every auxiliary and structural variable.\n",
    "\n",
    ">>    bound?    = (list/c symbol? lo-bound? hi-bound?)  \n",
    ">>    lo-bound? = (or/c 'neginf real?)  \n",
    ">>    hi-bound? = (or/c 'posinf real?)\n",
    "\n",
    "e.g. our bounds might be something like\n",
    "\n",
    "> `'((a 0 posinf) (b 0 posinf) (c neginf 0))`"
   ]
  },
  {
   "cell_type": "markdown",
   "id": "0576d8f7-d1d7-4693-83b3-e4d98d2508dd",
   "metadata": {},
   "source": [
    "> The result is a list containing a symbol that indicates either success `('good)` or one of two kinds of failure, and then a symbol which in case of failure conveys information  about the nature of the failure, and then either a solution or false. \n",
    "\n",
    "> When the first symbol in the result is `'bad-result`, the second element is a `FailCode` (definition below). When the first symbol in the result is `'bad-status`, the second element is a `SolutionStatus` (also defined below)."
   ]
  },
  {
   "cell_type": "markdown",
   "id": "a7485643-e89b-4c21-a32c-d490321b0161",
   "metadata": {},
   "source": [
    "# Example\n",
    "\n",
    "I'm going to repeat the example from [the racket docs](https://docs.racket-lang.org/glpk/index.html#%28part._.The_.Linear_.Programming_problem%29).\n",
    "\n",
    "> Okay, let’s say you’re trying to figure out whether you have enough food for your picnic. In particular, you’re buying hamburgers, slices of bread, and pickles. You have three kinds of guests: Children, Adults, and Chickens.\n",
    "\n",
    "> Each adult wants one slice of bread, a patty, and two pickles. Each child wants two slices of bread, and a patty. Each chicken wants *either* one slice of bread, one patty, or one pickle.\n",
    "\n",
    "> So, if we have 30 slices of bread, 20 patties, and 50 pickles, how many guests can we invite?"
   ]
  },
  {
   "cell_type": "markdown",
   "id": "52828be7-2157-4692-9eb9-91931391c434",
   "metadata": {},
   "source": [
    "> Let’s make up some variables. We’ll use `k` for the number of children, `a` for the number of adults, `cb` for the chickens eating a slice of bread, `cp` for the chickens eating a patty, and `ck` for the chickens eating a pickle. For our auxiliary variables, we’ll use `fb` for the number of slices of bread eaten, `fp` for the number of patties eaten, and `fk` for the number of pickles eaten.\n",
    "\n",
    "So we have\n",
    "\n",
    "> `f_b = a + 2k + c_b`  \n",
    "> `f_p = a + k + c_p`  \n",
    "> `f_k = 2a + c_k`  \n",
    "\n",
    "For bounds we use:\n",
    "\n",
    "> `0 < f_b < 30`  \n",
    "> `0 < f_p < 20`  \n",
    "> `0 < f_k < 50`  \n",
    "> `0 < a, k, c_p, c_b, c_k`\n",
    "\n",
    "Finally, we aim to maximize the *objective function*\n",
    "\n",
    "> `g = a + k + c_p + c_b + c_k`\n",
    "\n",
    "We use the following:"
   ]
  },
  {
   "cell_type": "code",
   "execution_count": 2,
   "id": "7f73ec08-1fa8-4234-80e7-352df30cb83e",
   "metadata": {},
   "outputs": [
    {
     "data": {
      "text/html": [
       "<code>'(good #f (100.0 ((a 0.0) (k 0.0) (cb 30.0) (cp 20.0) (ck 50.0))))</code>"
      ],
      "text/plain": [
       "'(good #f (100.0 ((a 0.0) (k 0.0) (cb 30.0) (cp 20.0) (ck 50.0))))"
      ]
     },
     "execution_count": 2,
     "metadata": {},
     "output_type": "execute_result"
    }
   ],
   "source": [
    "(lp-solve\n",
    " '(0 (1 a) (1 k) (1 cb) (1 cp) (1 ck))  ;; this is the objective function\n",
    "                                        ;; with constant term 0.\n",
    " 'max                                   ;; direction arg\n",
    " '((fb (1 a) (2 k) (1 cb))              ;; constraint arg\n",
    "   (fp (1 a) (1 k) (1 cp))\n",
    "   (fk (2 a) (1 ck)))\n",
    " '((fb 0 30)                            ;; bounds arg\n",
    "   (fp 0 20)\n",
    "   (fk 0 50)\n",
    "   (a 0 posinf)\n",
    "   (k 0 posinf)\n",
    "   (cb 0 posinf)\n",
    "   (cp 0 posinf)\n",
    "   (ck 0 posinf)))"
   ]
  },
  {
   "cell_type": "code",
   "execution_count": 3,
   "id": "c96ea29f-6a1e-477a-9352-bedfaffb7b59",
   "metadata": {},
   "outputs": [
    {
     "data": {
      "text/html": [
       "<code>'(good #f (195.0 ((a 10.0) (k 10.0) (cb 0.0) (cp 0.0) (ck 30.0))))</code>"
      ],
      "text/plain": [
       "'(good #f (195.0 ((a 10.0) (k 10.0) (cb 0.0) (cp 0.0) (ck 30.0))))"
      ]
     },
     "execution_count": 3,
     "metadata": {},
     "output_type": "execute_result"
    }
   ],
   "source": [
    "(lp-solve\n",
    " '(0 (8 a) (10 k) (1/2 cb) (1/2 cp) (1/2 ck))  ;; this is the objective function\n",
    "                                        ;; with constant term 0.\n",
    " 'max                                   ;; direction arg\n",
    " '((fb (1 a) (2 k) (1 cb))              ;; constraint arg\n",
    "   (fp (1 a) (1 k) (1 cp))\n",
    "   (fk (2 a) (1 ck)))\n",
    " '((fb 0 30)                            ;; bounds arg\n",
    "   (fp 0 20)\n",
    "   (fk 0 50)\n",
    "   (a 0 posinf)\n",
    "   (k 0 posinf)\n",
    "   (cb 0 posinf)\n",
    "   (cp 0 posinf)\n",
    "   (ck 0 posinf)))"
   ]
  },
  {
   "cell_type": "markdown",
   "id": "ee965a4d-0592-4ae0-807a-d75f2c18766e",
   "metadata": {},
   "source": [
    "Note that the interface to the `lp-solve` function is somewhat different than the interface to `numpy`'s `linprog` function.\n",
    "\n",
    "In particular, here we are allowed to define auxiliary variables, and use them in the bounds. The functions are *equivalent* but they feel a bit different."
   ]
  },
  {
   "cell_type": "markdown",
   "id": "9d0f69f3-1bdc-4ed6-a8fd-b6660753a6ac",
   "metadata": {},
   "source": [
    "> We can add arbitrary further constraints on this: each chicken must be chaperoned by an adult, each chicken must be chaperoned by an adult, no adult can chaperone both a child and a chicken.\n",
    "\n",
    "> To model this, we divide adults into adults chaperoning kinds (ak) and adults chaperoning chickens (ac). We could replace a entirely, but it’s easier just to require that a is the sum of ac and ak. Also, let’s bump up the desirability of chickens, just to get a more interesting result:"
   ]
  },
  {
   "cell_type": "code",
   "execution_count": 4,
   "id": "617a999e-dc15-4357-ac75-ba27db1ded60",
   "metadata": {},
   "outputs": [
    {
     "data": {
      "text/html": [
       "<code>'(good #f (200.0 ((a 20.0) (k 0.0) (cb 10.000000000000002) (cp 0.0) (ck 9.999999999999998) (ak 0.0) (ac 20.0))))</code>"
      ],
      "text/plain": [
       "'(good #f (200.0 ((a 20.0) (k 0.0) (cb 10.000000000000002) (cp 0.0) (ck 9.999999999999998) (ak 0.0) (ac 20.0))))"
      ]
     },
     "execution_count": 4,
     "metadata": {},
     "output_type": "execute_result"
    }
   ],
   "source": [
    "(lp-solve\n",
    " '(0 (8 a) (10 k) (2 cb) (2 cp) (2 ck))\n",
    " 'max\n",
    " '((fb (1 a) (2 k) (1 cb))\n",
    "   (fp (1 a) (1 k) (1 cp))\n",
    "   (fk (2 a) (1 ck))\n",
    "   (z (-1 a) (1 ak) (1 ac))\n",
    "   (excessak (1 ak) (-1 k))\n",
    "   (excessac (1 ac) (-1 cb) (-1 cp) (-1 ck)))\n",
    " '((z 0 0)\n",
    "   (ak 0 posinf)\n",
    "   (ac 0 posinf)\n",
    "   (excessak 0 posinf)\n",
    "   (excessac 0 posinf)\n",
    "   (fb 0 30)\n",
    "   (fp 0 20)\n",
    "   (fk 0 50)\n",
    "   (a 0 posinf)\n",
    "   (k 0 posinf)\n",
    "   (cb 0 posinf)\n",
    "   (cp 0 posinf)\n",
    "   (ck 0 posinf)))"
   ]
  },
  {
   "cell_type": "markdown",
   "id": "1ca472d8-59a2-4146-b5d2-bcee11048e8d",
   "metadata": {},
   "source": [
    "Notice that `ak` and `ac` appear in the bounds, but not in as auxiliary variables via the constraints. So they are treated as \"decision variables\" and reported in the output of `lp-sovle`."
   ]
  },
  {
   "cell_type": "markdown",
   "id": "1fdfaf17-cdfe-4256-92ea-f6da28cbb76b",
   "metadata": {},
   "source": [
    "# Integer programming!\n",
    "\n",
    "There is a (mixed) integer programming solver, as well!"
   ]
  },
  {
   "cell_type": "markdown",
   "id": "efdc376f-8e85-47ba-af61-5939c4fbee8d",
   "metadata": {},
   "source": [
    "```\n",
    "(mip-solve  objective\t \n",
    "     \t \tdirection\t \n",
    "     \t \tconstraints\t \n",
    "     \t \tbounds\t \n",
    "     \t \tinteger-vars\t \n",
    "     \t \t#:terminal-output terminal-output?\t \n",
    "     \t \t#:time-limit time-limit)\t \n",
    "\n",
    "→  (or/c (list/c symbol?\n",
    "         (or/c symbol? #f)\n",
    "         (or/c (list/c flonum? (listof (list/c symbol? flonum?)))\n",
    "                #f)))\n",
    "\n",
    "  objective : objective?\n",
    "  direction : (or/c 'max 'min)\n",
    "  constraints : (listof constraint?)\n",
    "  bounds : (listof bound?)\n",
    "  integer-vars : (listof symbol?)\n",
    "  terminal-output? : boolean?\n",
    "  time-limit : (or/c false? natural?)\n",
    "```"
   ]
  },
  {
   "cell_type": "markdown",
   "id": "a50ae917-67a4-4946-b888-34ae41f865d4",
   "metadata": {},
   "source": [
    "> The Mixed-Integer-Programming solver is an extension of the linear programming solver, and the problems that it solves are an extension of linear programming problems. Specifically, in a mixed integer programming problem, some of the solution variables can be labeled as integer variables, whose values must be integers.\n",
    "\n",
    "> Mixed integer programming is ... well, a lot harder than simple linear programming. In fact, the first step in MIP is to solve the corresponding linear programming problem, where the variables are all allowed to take on non-integer variables. The branch-and-cut algorithm then attempts to find a related solution where the specified structural variables have integer values.\n",
    "\n",
    "> This problem is NP-hard, so ... it can take a while."
   ]
  },
  {
   "cell_type": "markdown",
   "id": "987bead8-e415-4661-98f4-ff1717df70d9",
   "metadata": {},
   "source": [
    "# MIP example\n",
    "\n",
    "> Here’s a simple example: we need at least 4.5 sections of csc101 and 202. We have two instructors, smith and martinez, each of whom can teach 9 sections. Can we staff both of our classes? Yes."
   ]
  },
  {
   "cell_type": "code",
   "execution_count": 6,
   "id": "0dccd797-a722-43e0-baa2-3f5e043c2bfe",
   "metadata": {},
   "outputs": [
    {
     "data": {
      "text/html": [
       "<code>'(good #f (9.0 ((smith-csc101 4.5) (martinez-csc101 0.0) (smith-csc202 4.5) (martinez-csc202 0.0) (smith-extra 0.0) (martinez-extra 9.0))))</code>"
      ],
      "text/plain": [
       "'(good #f (9.0 ((smith-csc101 4.5) (martinez-csc101 0.0) (smith-csc202 4.5) (martinez-csc202 0.0) (smith-extra 0.0) (martinez-extra 9.0))))"
      ]
     },
     "execution_count": 6,
     "metadata": {},
     "output_type": "execute_result"
    }
   ],
   "source": [
    "(mip-solve '(0 (1 smith-extra) (1 martinez-extra)) \n",
    "           'max\n",
    "           '((csc101-offered (1 smith-csc101) (1 martinez-csc101))\n",
    "             (csc202-offered (1 smith-csc202) (1 martinez-csc202))\n",
    "             (smith-secns (1 smith-csc101)\n",
    "                          (1 smith-csc202)\n",
    "                          (1 smith-extra))\n",
    "             (martinez-secns (1 martinez-csc101)\n",
    "                             (1 martinez-csc202)\n",
    "                             (1 martinez-extra)))\n",
    "           '((csc101-offered 4.5 posinf)\n",
    "             (csc202-offered 4.5 posinf)\n",
    "             (smith-secns 9 9)\n",
    "             (martinez-secns 9 9)\n",
    "             (smith-csc101 0 posinf)\n",
    "             (smith-csc202 0 posinf)\n",
    "             (smith-extra 0 posinf)\n",
    "             (martinez-csc101 0 posinf)\n",
    "             (martinez-csc202 0 posinf)\n",
    "             (martinez-extra 0 posinf))\n",
    "           '()\n",
    "           ;;'(smith-csc101 smith-csc202                      ;; integer-vars argument\n",
    "           ;;               martinez-csc101 martinez-csc202)\n",
    "           )"
   ]
  },
  {
   "cell_type": "code",
   "execution_count": null,
   "id": "cec69a2a-31a4-404d-9fa5-b8cb4263d130",
   "metadata": {},
   "outputs": [],
   "source": []
  }
 ],
 "metadata": {
  "kernelspec": {
   "display_name": "Racket",
   "language": "racket",
   "name": "racket"
  },
  "language_info": {
   "codemirror_mode": "scheme",
   "file_extension": ".rkt",
   "mimetype": "text/x-racket",
   "name": "Racket",
   "pygments_lexer": "racket",
   "version": "8.13"
  }
 },
 "nbformat": 4,
 "nbformat_minor": 5
}
