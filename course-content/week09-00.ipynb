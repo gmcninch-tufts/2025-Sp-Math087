{
 "cells": [
  {
   "cell_type": "markdown",
   "id": "967c8c70-50d7-4157-bc8b-d3e740f133c4",
   "metadata": {},
   "source": [
    "# Sorting..."
   ]
  },
  {
   "cell_type": "code",
   "execution_count": 1,
   "id": "0c470071-9a11-4232-8cc8-e629d8203599",
   "metadata": {},
   "outputs": [
    {
     "data": {
      "text/plain": [
       "array([0.15496462, 0.43771374, 0.7691895 , 0.07377782, 0.79910591,\n",
       "       0.56433127, 0.73494644, 0.13545665, 0.66473965, 0.19518556,\n",
       "       0.21220215, 0.33412276, 0.94886737, 0.4219934 , 0.98005206,\n",
       "       0.42314489, 0.67667685, 0.610882  , 0.28401761, 0.12808084])"
      ]
     },
     "execution_count": 1,
     "metadata": {},
     "output_type": "execute_result"
    }
   ],
   "source": [
    "import numpy as np\n",
    "\n",
    "L = np.random.rand(20)\n",
    "L\n"
   ]
  },
  {
   "cell_type": "code",
   "execution_count": 2,
   "id": "aced7350-8506-4e96-ab5d-d35dea3804d4",
   "metadata": {},
   "outputs": [
    {
     "data": {
      "text/plain": [
       "array([0.07377782, 0.12808084, 0.13545665, 0.15496462, 0.19518556,\n",
       "       0.21220215, 0.28401761, 0.33412276, 0.4219934 , 0.42314489,\n",
       "       0.43771374, 0.56433127, 0.610882  , 0.66473965, 0.67667685,\n",
       "       0.73494644, 0.7691895 , 0.79910591, 0.94886737, 0.98005206])"
      ]
     },
     "execution_count": 2,
     "metadata": {},
     "output_type": "execute_result"
    }
   ],
   "source": [
    "L.sort()\n",
    "L\n"
   ]
  },
  {
   "cell_type": "code",
   "execution_count": 3,
   "id": "464fd1a5-1d71-4064-8abd-b086a164380a",
   "metadata": {},
   "outputs": [
    {
     "data": {
      "text/plain": [
       "array([0.98005206, 0.94886737, 0.79910591, 0.7691895 , 0.73494644,\n",
       "       0.67667685, 0.66473965, 0.610882  , 0.56433127, 0.43771374,\n",
       "       0.42314489, 0.4219934 , 0.33412276, 0.28401761, 0.21220215,\n",
       "       0.19518556, 0.15496462, 0.13545665, 0.12808084, 0.07377782])"
      ]
     },
     "execution_count": 3,
     "metadata": {},
     "output_type": "execute_result"
    }
   ],
   "source": [
    "np.flip(L)"
   ]
  },
  {
   "cell_type": "code",
   "execution_count": 5,
   "id": "f4376758-447b-4fbd-a76d-3d9fe94aaf81",
   "metadata": {},
   "outputs": [
    {
     "data": {
      "text/plain": [
       "{'Gainsboro': 0.06757705361621236,\n",
       " 'Gamboge': 0.6814114044289292,\n",
       " 'Glossy grape': 0.7277477398996349,\n",
       " 'Gold (metallic)': 0.2668064570821498,\n",
       " 'Gold (Crayola)': 0.7745500036614242,\n",
       " 'Golden poppy': 0.19907674132921627,\n",
       " 'Golden yellow': 0.3086028613701629,\n",
       " 'Goldenrod': 0.43478402025095453,\n",
       " 'Gotham green': 0.30007057477468146,\n",
       " 'Granite gray': 0.9523168993121307,\n",
       " 'Granny Smith apple': 0.1460670657546972,\n",
       " 'Gray (web)': 0.7686009347303981,\n",
       " 'Gray (X11 gray)': 0.0034087779127690565,\n",
       " 'Green': 0.25618679306680814,\n",
       " 'Green (Crayola)': 0.5852818538285638,\n",
       " 'Green (web)': 0.7002443464296474,\n",
       " 'Green (Munsell)': 0.24841718303543836,\n",
       " 'Green (pigment)': 0.026560789524888828,\n",
       " 'Green-blue': 0.3865936880142321,\n",
       " 'Green Lizard': 0.6988164796183741}"
      ]
     },
     "execution_count": 5,
     "metadata": {},
     "output_type": "execute_result"
    }
   ],
   "source": [
    "rng = np.random.default_rng()\n",
    "\n",
    "import pprint\n",
    "float_formatter = \"{:.5f}\".format\n",
    "np.set_printoptions(formatter={'float_kind':float_formatter})\n",
    "\n",
    "colors = [ \"Gainsboro\",\n",
    "           \"Gamboge\",\n",
    "           \"Glossy grape\",\n",
    "           \"Gold (metallic)\",\n",
    "           \"Gold (Crayola)\",\n",
    "           \"Golden poppy\",\n",
    "           \"Golden yellow\",\n",
    "           \"Goldenrod\",\n",
    "           \"Gotham green\",\n",
    "           \"Granite gray\",\n",
    "           \"Granny Smith apple\",\n",
    "           \"Gray (web)\",\n",
    "           \"Gray (X11 gray)\",\n",
    "           \"Green\",\n",
    "           \"Green (Crayola)\",\n",
    "           \"Green (web)\",\n",
    "           \"Green (Munsell)\",\n",
    "           \"Green (pigment)\",\n",
    "           \"Green-blue\",\n",
    "           \"Green Lizard\"\n",
    "           ]\n",
    "\n",
    "vals = rng.random(20)\n",
    "\n",
    "{ colors[i]:float(vals[i]) for i in range(20) }"
   ]
  },
  {
   "cell_type": "code",
   "execution_count": 7,
   "id": "1fbf6cc2-205f-4d1c-a6c8-777ae363c442",
   "metadata": {},
   "outputs": [
    {
     "data": {
      "text/plain": [
       "array([0.06758, 0.68141, 0.72775, 0.26681, 0.77455, 0.19908, 0.30860,\n",
       "       0.43478, 0.30007, 0.95232, 0.14607, 0.76860, 0.00341, 0.25619,\n",
       "       0.58528, 0.70024, 0.24842, 0.02656, 0.38659, 0.69882])"
      ]
     },
     "execution_count": 7,
     "metadata": {},
     "output_type": "execute_result"
    }
   ],
   "source": [
    "vals"
   ]
  },
  {
   "cell_type": "code",
   "execution_count": 6,
   "id": "5323e433-a927-48c5-9d4d-bfa0b646a2a7",
   "metadata": {},
   "outputs": [
    {
     "data": {
      "text/plain": [
       "array([12, 17,  0, 10,  5, 16, 13,  3,  8,  6, 18,  7, 14,  1, 19, 15,  2,\n",
       "       11,  4,  9])"
      ]
     },
     "execution_count": 6,
     "metadata": {},
     "output_type": "execute_result"
    }
   ],
   "source": [
    "np.argsort(vals)"
   ]
  },
  {
   "cell_type": "code",
   "execution_count": 10,
   "id": "b7770174-218d-42cf-8f10-15c3fc16201a",
   "metadata": {},
   "outputs": [
    {
     "data": {
      "text/plain": [
       "array([0.95232, 0.77455, 0.76860])"
      ]
     },
     "execution_count": 10,
     "metadata": {},
     "output_type": "execute_result"
    }
   ],
   "source": [
    "np.array([ vals[i] for i in np.argsort(-vals)])[0:3]"
   ]
  },
  {
   "cell_type": "code",
   "execution_count": null,
   "id": "313f3497-cc5b-4b7f-87d2-209296fb69ab",
   "metadata": {},
   "outputs": [],
   "source": [
    "{ colors[i]:vals[i] for i in np.argsort( - vals) }"
   ]
  },
  {
   "cell_type": "code",
   "execution_count": null,
   "id": "710ed498-9ac2-497d-a1da-d1c41a99ace4",
   "metadata": {},
   "outputs": [],
   "source": [
    "np.array([ colors[i] for i in np.argsort(vals) ])"
   ]
  },
  {
   "cell_type": "code",
   "execution_count": 12,
   "id": "26f4c2b8-2ea5-45e8-a4d5-c10589201240",
   "metadata": {},
   "outputs": [
    {
     "data": {
      "text/plain": [
       "array(['Granite gray', 'Gold (Crayola)', 'Gray (web)'], dtype='<U18')"
      ]
     },
     "execution_count": 12,
     "metadata": {},
     "output_type": "execute_result"
    }
   ],
   "source": [
    "np.array([ colors[i] for i in np.argsort( -vals) ])[0:3]"
   ]
  },
  {
   "cell_type": "markdown",
   "id": "354b3688-60e9-499f-babd-2171698e5028",
   "metadata": {},
   "source": [
    "# Example: financial markets, again briefly"
   ]
  },
  {
   "cell_type": "markdown",
   "id": "0d7668af-220f-4e1a-82ba-485dbaed67f4",
   "metadata": {},
   "source": [
    "Recall our model:\n",
    "\n",
    "|                  | *bull*   | *bear*   | *recession*| \n",
    "| :--------------- | -------: | -------: | ---------: |\n",
    "|     followed by bull         | 0.90     | 0.15     | 0.25      |\n",
    "|     followed by bear         | 0.075    | 0.80     | 0.25       |\n",
    "|     followed by recession    | 0.025    | 0.05     | 0.50       |"
   ]
  },
  {
   "cell_type": "code",
   "execution_count": 13,
   "id": "ff89a1eb-5580-46e7-a927-2f7a10741b6a",
   "metadata": {},
   "outputs": [],
   "source": [
    "import numpy.linalg as npl\n",
    "\n",
    "states = [ \"bull\", \"bear\", \"recession\" ]\n",
    "1\n",
    "A = np.array([[0.90 , 0.15 , 0.25],\n",
    "              [0.075, 0.80 , 0.25],\n",
    "              [0.025, 0.05 , 0.50]])"
   ]
  },
  {
   "cell_type": "code",
   "execution_count": 14,
   "id": "d58557ad-d0d3-4f23-a6bc-e3dc2f9c5fd7",
   "metadata": {},
   "outputs": [
    {
     "data": {
      "text/plain": [
       "array([1.00000, 0.74142, 0.45858])"
      ]
     },
     "execution_count": 14,
     "metadata": {},
     "output_type": "execute_result"
    }
   ],
   "source": [
    "vals, vecs = npl.eig(A)\n",
    "vals"
   ]
  },
  {
   "cell_type": "markdown",
   "id": "5cbf9aa5-1c0e-4fda-a063-357ecc873828",
   "metadata": {},
   "source": [
    "Now, recall that the long term behavior of the market is predicted by the *normalized* 1-eigenvector."
   ]
  },
  {
   "cell_type": "code",
   "execution_count": 15,
   "id": "58d3cff6-abe8-4a07-b6d5-72df0a88e8c6",
   "metadata": {},
   "outputs": [
    {
     "data": {
      "text/plain": [
       "(array([0.89087, 0.44544, 0.08909]), np.float64(1.4253932901995967))"
      ]
     },
     "execution_count": 15,
     "metadata": {},
     "output_type": "execute_result"
    }
   ],
   "source": [
    "w = vecs[:,0]\n",
    "\n",
    "# not normalized!\n",
    "(w, sum(w))\n"
   ]
  },
  {
   "cell_type": "code",
   "execution_count": 16,
   "id": "268fa613-67e4-45c1-b9c7-5bc3c740e130",
   "metadata": {},
   "outputs": [
    {
     "data": {
      "text/plain": [
       "(array([0.62500, 0.31250, 0.06250]), np.float64(1.0))"
      ]
     },
     "execution_count": 16,
     "metadata": {},
     "output_type": "execute_result"
    }
   ],
   "source": [
    "# normalized\n",
    "nw = 1/sum(w) * w\n",
    "(nw,sum(nw))"
   ]
  },
  {
   "cell_type": "markdown",
   "id": "7163c73d-0e8b-421e-bd53-0570ff7ab354",
   "metadata": {},
   "source": [
    "Now we can display the market states in descending order of their long-term probabilities:"
   ]
  },
  {
   "cell_type": "code",
   "execution_count": 18,
   "id": "827233f2-f285-42ef-a352-1c9a2ed1830f",
   "metadata": {},
   "outputs": [
    {
     "data": {
      "text/plain": [
       "{'recession': 0.0625, 'bear': 0.3125, 'bull': 0.625}"
      ]
     },
     "execution_count": 18,
     "metadata": {},
     "output_type": "execute_result"
    }
   ],
   "source": [
    "{ states[i] : float(nw[i])  for i in np.argsort(nw) }"
   ]
  },
  {
   "cell_type": "code",
   "execution_count": 20,
   "id": "822a471b-74a4-40d3-9f91-5988212a50cf",
   "metadata": {},
   "outputs": [],
   "source": [
    "def market_probabilities(A):\n",
    "    vals, vecs = npl.eig(A)\n",
    "\n",
    "    # get the 1-eigenvectors,as a  list (which should be of length 1)\n",
    "    oe = [ vecs[:,i] for i in range(len(vals)) if vals[i] - 1 < 1E-5 ] \n",
    "    w = oe[0]\n",
    "\n",
    "    nw = 1/sum(w) * w\n",
    "\n",
    "    return { states[i] : float(nw[i]) for i in np.argsort(-nw) }"
   ]
  },
  {
   "cell_type": "code",
   "execution_count": 21,
   "id": "682584e1-77af-4a78-be6e-d12acc8e6573",
   "metadata": {},
   "outputs": [
    {
     "data": {
      "text/plain": [
       "{'bull': 0.625, 'bear': 0.3125, 'recession': 0.0625}"
      ]
     },
     "execution_count": 21,
     "metadata": {},
     "output_type": "execute_result"
    }
   ],
   "source": [
    "market_probabilities(A)"
   ]
  },
  {
   "cell_type": "code",
   "execution_count": 22,
   "id": "cf387eb4-6fbc-4486-bc80-e7dd65914e7b",
   "metadata": {},
   "outputs": [],
   "source": [
    "B = np.array([[0.80 , 0.15 , 0.25],\n",
    "              [0.075, 0.80 , 0.25],\n",
    "              [0.035, 0.05 , 0.50]])"
   ]
  },
  {
   "cell_type": "code",
   "execution_count": 23,
   "id": "1cb69421-a664-49fd-9113-26621500ba97",
   "metadata": {},
   "outputs": [
    {
     "data": {
      "text/plain": [
       "{'bull': 0.5228037465286232,\n",
       " 'bear': 0.3933745222671231,\n",
       " 'recession': 0.0838217312042538}"
      ]
     },
     "execution_count": 23,
     "metadata": {},
     "output_type": "execute_result"
    }
   ],
   "source": [
    "market_probabilities(B)"
   ]
  },
  {
   "cell_type": "code",
   "execution_count": null,
   "id": "222abff5-3716-4e23-b121-8d750a9d7f25",
   "metadata": {},
   "outputs": [],
   "source": []
  }
 ],
 "metadata": {
  "kernelspec": {
   "display_name": "Python 3 (ipykernel)",
   "language": "python",
   "name": "python3"
  },
  "language_info": {
   "codemirror_mode": {
    "name": "ipython",
    "version": 3
   },
   "file_extension": ".py",
   "mimetype": "text/x-python",
   "name": "python",
   "nbconvert_exporter": "python",
   "pygments_lexer": "ipython3",
   "version": "3.11.2"
  }
 },
 "nbformat": 4,
 "nbformat_minor": 5
}
