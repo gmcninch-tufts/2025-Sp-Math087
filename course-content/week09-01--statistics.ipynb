{
 "cells": [
  {
   "cell_type": "markdown",
   "metadata": {
    "slideshow": {
     "slide_type": "slide"
    }
   },
   "source": [
    "# [George McNinch](http://gmcninch.math.tufts.edu) Math 87 - Spring 2024\n",
    "\n",
    "# Week 09\n",
    "\n",
    "# Statistics & the Central Limit Theorem\n",
    "--------------"
   ]
  },
  {
   "cell_type": "markdown",
   "metadata": {
    "slideshow": {
     "slide_type": "slide"
    }
   },
   "source": [
    "Why statistics?\n",
    "================\n",
    "\n",
    "From the point-of-view of modeling, one often needs information about average values and expected values.\n",
    "\n",
    "To reason precisely in this setting, we need the language of statistics.\n",
    "\n",
    "Here are some examples to keep in mind for our discussion:\n",
    "\n",
    "- Consider a *lottery* in which 4 million tickets are sold each week, for \\\\$1 each. Of these, one ticket wins \\\\$1.5 million, 500 tickets win \\\\$ 800, \\\\$10,000 tickets win \\\\$10. If you buy a ticket, how much should you *expect* to win??\n",
    "\n",
    "- At a certain grocery store between the hours of 10 AM and noon, one expects a customer needs to check out every two minutes, and the average check-out time is 3 minutes. How many registers should be staffed?"
   ]
  },
  {
   "cell_type": "markdown",
   "metadata": {
    "slideshow": {
     "slide_type": "slide"
    }
   },
   "source": [
    "Mean, variance, and standard deviation\n",
    "======================================\n",
    "\n",
    "Let $X = \\{x_i\\}_{i=1,\\dots,n}$ be a data set of $n$ values (real numbers!).\n",
    "\n",
    "The **mean** (or average) of $X$ is $$\\mu = \\mu(X) = \\dfrac{1}{n} \\sum_{i=1}^n x_i.$$\n",
    "\n",
    "The **median** of $X$ is the number $\\overline{x}$ with the following properties:\n",
    "\n",
    "$x_i \\le \\overline{x}$ for $\\dfrac{n}{2}$ values of $i \\in \\{1,2,\\dots,n\\} \\quad \\text{and} \\quad  \n",
    "x_j \\ge \\overline{x}$ for $\\dfrac{n}{2}$ values of $j \\in \\{1,2,\\dots,n\\}.$\n",
    "\n",
    "Suppose we re-arrange the numbers $x_i$ so that\n",
    "\n",
    "$$x_1 \\le x_2 \\le \\cdots \\le x_{n-1} \\le x_n;$$\n",
    "\n",
    "if $n$ is odd, then $\\overline{x} = x_{(n+1)/2}$.\n",
    "\n",
    "if $n$ is even, a common convention is take $\\overline{x}$ to be the average of\n",
    "$x_{n/2}$ and $x_{1+n/2}$."
   ]
  },
  {
   "cell_type": "markdown",
   "metadata": {
    "slideshow": {
     "slide_type": "subslide"
    }
   },
   "source": [
    "# `Pandas`\n",
    "\n",
    "We will sometimes (try to) use the `pandas` library since it provides a bunch of statistical functions. \n"
   ]
  },
  {
   "cell_type": "code",
   "execution_count": 1,
   "metadata": {
    "slideshow": {
     "slide_type": "fragment"
    }
   },
   "outputs": [],
   "source": [
    "import pandas as pd\n",
    "import numpy as np\n"
   ]
  },
  {
   "cell_type": "code",
   "execution_count": 2,
   "metadata": {
    "slideshow": {
     "slide_type": "fragment"
    }
   },
   "outputs": [
    {
     "data": {
      "text/html": [
       "<div>\n",
       "<style scoped>\n",
       "    .dataframe tbody tr th:only-of-type {\n",
       "        vertical-align: middle;\n",
       "    }\n",
       "\n",
       "    .dataframe tbody tr th {\n",
       "        vertical-align: top;\n",
       "    }\n",
       "\n",
       "    .dataframe thead th {\n",
       "        text-align: right;\n",
       "    }\n",
       "</style>\n",
       "<table border=\"1\" class=\"dataframe\">\n",
       "  <thead>\n",
       "    <tr style=\"text-align: right;\">\n",
       "      <th></th>\n",
       "      <th>0</th>\n",
       "      <th>1</th>\n",
       "      <th>2</th>\n",
       "      <th>3</th>\n",
       "      <th>4</th>\n",
       "    </tr>\n",
       "  </thead>\n",
       "  <tbody>\n",
       "    <tr>\n",
       "      <th>0</th>\n",
       "      <td>1</td>\n",
       "      <td>2</td>\n",
       "      <td>3.0</td>\n",
       "      <td>4</td>\n",
       "      <td>5.0</td>\n",
       "    </tr>\n",
       "    <tr>\n",
       "      <th>1</th>\n",
       "      <td>1</td>\n",
       "      <td>2</td>\n",
       "      <td>3.0</td>\n",
       "      <td>6</td>\n",
       "      <td>NaN</td>\n",
       "    </tr>\n",
       "  </tbody>\n",
       "</table>\n",
       "</div>"
      ],
      "text/plain": [
       "   0  1    2  3    4\n",
       "0  1  2  3.0  4  5.0\n",
       "1  1  2  3.0  6  NaN"
      ]
     },
     "execution_count": 2,
     "metadata": {},
     "output_type": "execute_result"
    }
   ],
   "source": [
    "d = [[1,2,3.0,4,5],\n",
    "     [1,2,3,6]]\n",
    "X = pd.DataFrame(d)\n",
    "X\n"
   ]
  },
  {
   "cell_type": "code",
   "execution_count": 3,
   "metadata": {},
   "outputs": [
    {
     "data": {
      "text/html": [
       "<div>\n",
       "<style scoped>\n",
       "    .dataframe tbody tr th:only-of-type {\n",
       "        vertical-align: middle;\n",
       "    }\n",
       "\n",
       "    .dataframe tbody tr th {\n",
       "        vertical-align: top;\n",
       "    }\n",
       "\n",
       "    .dataframe thead th {\n",
       "        text-align: right;\n",
       "    }\n",
       "</style>\n",
       "<table border=\"1\" class=\"dataframe\">\n",
       "  <thead>\n",
       "    <tr style=\"text-align: right;\">\n",
       "      <th></th>\n",
       "      <th>mean</th>\n",
       "      <th>median</th>\n",
       "    </tr>\n",
       "  </thead>\n",
       "  <tbody>\n",
       "    <tr>\n",
       "      <th>0</th>\n",
       "      <td>3.0</td>\n",
       "      <td>3.0</td>\n",
       "    </tr>\n",
       "    <tr>\n",
       "      <th>1</th>\n",
       "      <td>3.0</td>\n",
       "      <td>2.5</td>\n",
       "    </tr>\n",
       "  </tbody>\n",
       "</table>\n",
       "</div>"
      ],
      "text/plain": [
       "   mean  median\n",
       "0   3.0     3.0\n",
       "1   3.0     2.5"
      ]
     },
     "execution_count": 3,
     "metadata": {},
     "output_type": "execute_result"
    }
   ],
   "source": [
    "pd.DataFrame({\"mean\":X.mean(axis=1),\n",
    "              \"median\":X.median(axis=1)})"
   ]
  },
  {
   "cell_type": "code",
   "execution_count": 4,
   "metadata": {},
   "outputs": [
    {
     "data": {
      "text/html": [
       "<div>\n",
       "<style scoped>\n",
       "    .dataframe tbody tr th:only-of-type {\n",
       "        vertical-align: middle;\n",
       "    }\n",
       "\n",
       "    .dataframe tbody tr th {\n",
       "        vertical-align: top;\n",
       "    }\n",
       "\n",
       "    .dataframe thead th {\n",
       "        text-align: right;\n",
       "    }\n",
       "</style>\n",
       "<table border=\"1\" class=\"dataframe\">\n",
       "  <thead>\n",
       "    <tr style=\"text-align: right;\">\n",
       "      <th></th>\n",
       "      <th>mean</th>\n",
       "      <th>median</th>\n",
       "    </tr>\n",
       "  </thead>\n",
       "  <tbody>\n",
       "    <tr>\n",
       "      <th>0</th>\n",
       "      <td>1.0</td>\n",
       "      <td>1.0</td>\n",
       "    </tr>\n",
       "    <tr>\n",
       "      <th>1</th>\n",
       "      <td>2.0</td>\n",
       "      <td>2.0</td>\n",
       "    </tr>\n",
       "    <tr>\n",
       "      <th>2</th>\n",
       "      <td>3.0</td>\n",
       "      <td>3.0</td>\n",
       "    </tr>\n",
       "    <tr>\n",
       "      <th>3</th>\n",
       "      <td>5.0</td>\n",
       "      <td>5.0</td>\n",
       "    </tr>\n",
       "    <tr>\n",
       "      <th>4</th>\n",
       "      <td>5.0</td>\n",
       "      <td>5.0</td>\n",
       "    </tr>\n",
       "  </tbody>\n",
       "</table>\n",
       "</div>"
      ],
      "text/plain": [
       "   mean  median\n",
       "0   1.0     1.0\n",
       "1   2.0     2.0\n",
       "2   3.0     3.0\n",
       "3   5.0     5.0\n",
       "4   5.0     5.0"
      ]
     },
     "execution_count": 4,
     "metadata": {},
     "output_type": "execute_result"
    }
   ],
   "source": [
    "pd.DataFrame({\"mean\":X.mean(axis=0),\n",
    "              \"median\":X.median(axis=0)})"
   ]
  },
  {
   "cell_type": "markdown",
   "metadata": {},
   "source": [
    "\n",
    "As an aside, this [blog post](https://www.sharpsightlabs.com/blog/numpy-axes-explained/) (I don't know anything about the author...!) has some - I think - useful discussion of *axes* in `numpy` and `Python`."
   ]
  },
  {
   "cell_type": "markdown",
   "metadata": {
    "slideshow": {
     "slide_type": "subslide"
    }
   },
   "source": [
    "Let's generate some *random* data use the ``python`` module ``pandas``, and compute means and medians.\n"
   ]
  },
  {
   "cell_type": "code",
   "execution_count": 5,
   "metadata": {
    "slideshow": {
     "slide_type": "fragment"
    }
   },
   "outputs": [
    {
     "data": {
      "text/html": [
       "<div>\n",
       "<style scoped>\n",
       "    .dataframe tbody tr th:only-of-type {\n",
       "        vertical-align: middle;\n",
       "    }\n",
       "\n",
       "    .dataframe tbody tr th {\n",
       "        vertical-align: top;\n",
       "    }\n",
       "\n",
       "    .dataframe thead th {\n",
       "        text-align: right;\n",
       "    }\n",
       "</style>\n",
       "<table border=\"1\" class=\"dataframe\">\n",
       "  <thead>\n",
       "    <tr style=\"text-align: right;\">\n",
       "      <th></th>\n",
       "      <th>0</th>\n",
       "      <th>1</th>\n",
       "      <th>2</th>\n",
       "      <th>3</th>\n",
       "      <th>4</th>\n",
       "      <th>5</th>\n",
       "      <th>6</th>\n",
       "      <th>7</th>\n",
       "      <th>8</th>\n",
       "      <th>9</th>\n",
       "    </tr>\n",
       "  </thead>\n",
       "  <tbody>\n",
       "    <tr>\n",
       "      <th>0</th>\n",
       "      <td>9</td>\n",
       "      <td>14</td>\n",
       "      <td>9</td>\n",
       "      <td>7</td>\n",
       "      <td>2</td>\n",
       "      <td>17</td>\n",
       "      <td>5</td>\n",
       "      <td>12</td>\n",
       "      <td>13</td>\n",
       "      <td>11</td>\n",
       "    </tr>\n",
       "    <tr>\n",
       "      <th>1</th>\n",
       "      <td>5</td>\n",
       "      <td>17</td>\n",
       "      <td>13</td>\n",
       "      <td>17</td>\n",
       "      <td>19</td>\n",
       "      <td>16</td>\n",
       "      <td>12</td>\n",
       "      <td>4</td>\n",
       "      <td>5</td>\n",
       "      <td>12</td>\n",
       "    </tr>\n",
       "    <tr>\n",
       "      <th>2</th>\n",
       "      <td>9</td>\n",
       "      <td>18</td>\n",
       "      <td>18</td>\n",
       "      <td>9</td>\n",
       "      <td>9</td>\n",
       "      <td>7</td>\n",
       "      <td>7</td>\n",
       "      <td>19</td>\n",
       "      <td>11</td>\n",
       "      <td>2</td>\n",
       "    </tr>\n",
       "    <tr>\n",
       "      <th>3</th>\n",
       "      <td>14</td>\n",
       "      <td>17</td>\n",
       "      <td>1</td>\n",
       "      <td>1</td>\n",
       "      <td>19</td>\n",
       "      <td>17</td>\n",
       "      <td>11</td>\n",
       "      <td>14</td>\n",
       "      <td>9</td>\n",
       "      <td>2</td>\n",
       "    </tr>\n",
       "    <tr>\n",
       "      <th>4</th>\n",
       "      <td>10</td>\n",
       "      <td>15</td>\n",
       "      <td>10</td>\n",
       "      <td>14</td>\n",
       "      <td>17</td>\n",
       "      <td>16</td>\n",
       "      <td>3</td>\n",
       "      <td>18</td>\n",
       "      <td>3</td>\n",
       "      <td>13</td>\n",
       "    </tr>\n",
       "    <tr>\n",
       "      <th>...</th>\n",
       "      <td>...</td>\n",
       "      <td>...</td>\n",
       "      <td>...</td>\n",
       "      <td>...</td>\n",
       "      <td>...</td>\n",
       "      <td>...</td>\n",
       "      <td>...</td>\n",
       "      <td>...</td>\n",
       "      <td>...</td>\n",
       "      <td>...</td>\n",
       "    </tr>\n",
       "    <tr>\n",
       "      <th>95</th>\n",
       "      <td>2</td>\n",
       "      <td>11</td>\n",
       "      <td>10</td>\n",
       "      <td>12</td>\n",
       "      <td>11</td>\n",
       "      <td>15</td>\n",
       "      <td>6</td>\n",
       "      <td>0</td>\n",
       "      <td>18</td>\n",
       "      <td>16</td>\n",
       "    </tr>\n",
       "    <tr>\n",
       "      <th>96</th>\n",
       "      <td>10</td>\n",
       "      <td>14</td>\n",
       "      <td>16</td>\n",
       "      <td>19</td>\n",
       "      <td>18</td>\n",
       "      <td>18</td>\n",
       "      <td>15</td>\n",
       "      <td>8</td>\n",
       "      <td>14</td>\n",
       "      <td>4</td>\n",
       "    </tr>\n",
       "    <tr>\n",
       "      <th>97</th>\n",
       "      <td>8</td>\n",
       "      <td>6</td>\n",
       "      <td>12</td>\n",
       "      <td>9</td>\n",
       "      <td>1</td>\n",
       "      <td>9</td>\n",
       "      <td>13</td>\n",
       "      <td>3</td>\n",
       "      <td>11</td>\n",
       "      <td>1</td>\n",
       "    </tr>\n",
       "    <tr>\n",
       "      <th>98</th>\n",
       "      <td>17</td>\n",
       "      <td>11</td>\n",
       "      <td>13</td>\n",
       "      <td>14</td>\n",
       "      <td>17</td>\n",
       "      <td>6</td>\n",
       "      <td>14</td>\n",
       "      <td>7</td>\n",
       "      <td>12</td>\n",
       "      <td>8</td>\n",
       "    </tr>\n",
       "    <tr>\n",
       "      <th>99</th>\n",
       "      <td>15</td>\n",
       "      <td>6</td>\n",
       "      <td>14</td>\n",
       "      <td>18</td>\n",
       "      <td>7</td>\n",
       "      <td>19</td>\n",
       "      <td>6</td>\n",
       "      <td>4</td>\n",
       "      <td>7</td>\n",
       "      <td>9</td>\n",
       "    </tr>\n",
       "  </tbody>\n",
       "</table>\n",
       "<p>100 rows × 10 columns</p>\n",
       "</div>"
      ],
      "text/plain": [
       "     0   1   2   3   4   5   6   7   8   9\n",
       "0    9  14   9   7   2  17   5  12  13  11\n",
       "1    5  17  13  17  19  16  12   4   5  12\n",
       "2    9  18  18   9   9   7   7  19  11   2\n",
       "3   14  17   1   1  19  17  11  14   9   2\n",
       "4   10  15  10  14  17  16   3  18   3  13\n",
       "..  ..  ..  ..  ..  ..  ..  ..  ..  ..  ..\n",
       "95   2  11  10  12  11  15   6   0  18  16\n",
       "96  10  14  16  19  18  18  15   8  14   4\n",
       "97   8   6  12   9   1   9  13   3  11   1\n",
       "98  17  11  13  14  17   6  14   7  12   8\n",
       "99  15   6  14  18   7  19   6   4   7   9\n",
       "\n",
       "[100 rows x 10 columns]"
      ]
     },
     "execution_count": 5,
     "metadata": {},
     "output_type": "execute_result"
    }
   ],
   "source": [
    "from numpy.random import default_rng\n",
    "\n",
    "# make a random-number generator\n",
    "rng = default_rng()\n",
    "\n",
    "# generate an array  of random integers\n",
    "X = pd.DataFrame(rng.integers(0,20,size=(100,10)))\n",
    "X\n"
   ]
  },
  {
   "cell_type": "code",
   "execution_count": 6,
   "metadata": {},
   "outputs": [
    {
     "data": {
      "text/plain": [
       "0      9\n",
       "1      5\n",
       "2      9\n",
       "3     14\n",
       "4     10\n",
       "      ..\n",
       "95     2\n",
       "96    10\n",
       "97     8\n",
       "98    17\n",
       "99    15\n",
       "Name: 0, Length: 100, dtype: int64"
      ]
     },
     "execution_count": 6,
     "metadata": {},
     "output_type": "execute_result"
    }
   ],
   "source": [
    "X[0]"
   ]
  },
  {
   "cell_type": "code",
   "execution_count": 7,
   "metadata": {},
   "outputs": [
    {
     "data": {
      "text/plain": [
       "np.int64(9)"
      ]
     },
     "execution_count": 7,
     "metadata": {},
     "output_type": "execute_result"
    }
   ],
   "source": [
    "X[0][0]"
   ]
  },
  {
   "cell_type": "code",
   "execution_count": 8,
   "metadata": {
    "slideshow": {
     "slide_type": "subslide"
    }
   },
   "outputs": [
    {
     "data": {
      "text/html": [
       "<div>\n",
       "<style scoped>\n",
       "    .dataframe tbody tr th:only-of-type {\n",
       "        vertical-align: middle;\n",
       "    }\n",
       "\n",
       "    .dataframe tbody tr th {\n",
       "        vertical-align: top;\n",
       "    }\n",
       "\n",
       "    .dataframe thead th {\n",
       "        text-align: right;\n",
       "    }\n",
       "</style>\n",
       "<table border=\"1\" class=\"dataframe\">\n",
       "  <thead>\n",
       "    <tr style=\"text-align: right;\">\n",
       "      <th></th>\n",
       "      <th>median</th>\n",
       "      <th>mean</th>\n",
       "    </tr>\n",
       "  </thead>\n",
       "  <tbody>\n",
       "    <tr>\n",
       "      <th>0</th>\n",
       "      <td>9.0</td>\n",
       "      <td>9.01</td>\n",
       "    </tr>\n",
       "    <tr>\n",
       "      <th>1</th>\n",
       "      <td>11.0</td>\n",
       "      <td>10.11</td>\n",
       "    </tr>\n",
       "    <tr>\n",
       "      <th>2</th>\n",
       "      <td>10.0</td>\n",
       "      <td>9.28</td>\n",
       "    </tr>\n",
       "    <tr>\n",
       "      <th>3</th>\n",
       "      <td>9.5</td>\n",
       "      <td>9.30</td>\n",
       "    </tr>\n",
       "    <tr>\n",
       "      <th>4</th>\n",
       "      <td>10.0</td>\n",
       "      <td>9.81</td>\n",
       "    </tr>\n",
       "    <tr>\n",
       "      <th>5</th>\n",
       "      <td>9.0</td>\n",
       "      <td>9.10</td>\n",
       "    </tr>\n",
       "    <tr>\n",
       "      <th>6</th>\n",
       "      <td>9.0</td>\n",
       "      <td>9.36</td>\n",
       "    </tr>\n",
       "    <tr>\n",
       "      <th>7</th>\n",
       "      <td>8.0</td>\n",
       "      <td>8.98</td>\n",
       "    </tr>\n",
       "    <tr>\n",
       "      <th>8</th>\n",
       "      <td>11.0</td>\n",
       "      <td>9.78</td>\n",
       "    </tr>\n",
       "    <tr>\n",
       "      <th>9</th>\n",
       "      <td>10.0</td>\n",
       "      <td>9.79</td>\n",
       "    </tr>\n",
       "  </tbody>\n",
       "</table>\n",
       "</div>"
      ],
      "text/plain": [
       "   median   mean\n",
       "0     9.0   9.01\n",
       "1    11.0  10.11\n",
       "2    10.0   9.28\n",
       "3     9.5   9.30\n",
       "4    10.0   9.81\n",
       "5     9.0   9.10\n",
       "6     9.0   9.36\n",
       "7     8.0   8.98\n",
       "8    11.0   9.78\n",
       "9    10.0   9.79"
      ]
     },
     "execution_count": 8,
     "metadata": {},
     "output_type": "execute_result"
    }
   ],
   "source": [
    "pd.DataFrame({\"median\":X.median(),\n",
    "              \"mean\":X.mean()})"
   ]
  },
  {
   "cell_type": "markdown",
   "metadata": {
    "slideshow": {
     "slide_type": "slide"
    }
   },
   "source": [
    "What do you lose by only knowing mean/median?\n",
    "==============================================\n",
    "\n",
    "Suppose that $X = \\{x_i\\}$ represents wait times in minutes at a certain bus-stop at 7:00 AM each day.\n",
    "Over $n$ days, you collect the wait time values $x_1,x_2,\\dots,x_n$. The mean wait time \n",
    "\n",
    "$$\\mu(X) = \\dfrac{1}{n} \\sum_{i=1}^n x_i$$\n",
    "\n",
    "is surely a relevant statistic! \n"
   ]
  },
  {
   "cell_type": "markdown",
   "metadata": {
    "slideshow": {
     "slide_type": "fragment"
    }
   },
   "source": [
    "Let's consider a number of different possible outcomes,\n",
    "and compute the mean/median for the alternative outcomes.\n"
   ]
  },
  {
   "cell_type": "code",
   "execution_count": 9,
   "metadata": {
    "slideshow": {
     "slide_type": "subslide"
    }
   },
   "outputs": [
    {
     "data": {
      "text/html": [
       "<div>\n",
       "<style scoped>\n",
       "    .dataframe tbody tr th:only-of-type {\n",
       "        vertical-align: middle;\n",
       "    }\n",
       "\n",
       "    .dataframe tbody tr th {\n",
       "        vertical-align: top;\n",
       "    }\n",
       "\n",
       "    .dataframe thead th {\n",
       "        text-align: right;\n",
       "    }\n",
       "</style>\n",
       "<table border=\"1\" class=\"dataframe\">\n",
       "  <thead>\n",
       "    <tr style=\"text-align: right;\">\n",
       "      <th></th>\n",
       "      <th>week1</th>\n",
       "      <th>week2</th>\n",
       "      <th>week3</th>\n",
       "      <th>week4</th>\n",
       "      <th>week5</th>\n",
       "    </tr>\n",
       "  </thead>\n",
       "  <tbody>\n",
       "    <tr>\n",
       "      <th>0</th>\n",
       "      <td>1</td>\n",
       "      <td>1</td>\n",
       "      <td>3</td>\n",
       "      <td>1</td>\n",
       "      <td>1</td>\n",
       "    </tr>\n",
       "    <tr>\n",
       "      <th>1</th>\n",
       "      <td>2</td>\n",
       "      <td>1</td>\n",
       "      <td>3</td>\n",
       "      <td>2</td>\n",
       "      <td>2</td>\n",
       "    </tr>\n",
       "    <tr>\n",
       "      <th>2</th>\n",
       "      <td>5</td>\n",
       "      <td>1</td>\n",
       "      <td>3</td>\n",
       "      <td>3</td>\n",
       "      <td>3</td>\n",
       "    </tr>\n",
       "    <tr>\n",
       "      <th>3</th>\n",
       "      <td>7</td>\n",
       "      <td>7</td>\n",
       "      <td>5</td>\n",
       "      <td>5</td>\n",
       "      <td>3</td>\n",
       "    </tr>\n",
       "    <tr>\n",
       "      <th>4</th>\n",
       "      <td>3</td>\n",
       "      <td>7</td>\n",
       "      <td>5</td>\n",
       "      <td>6</td>\n",
       "      <td>5</td>\n",
       "    </tr>\n",
       "    <tr>\n",
       "      <th>5</th>\n",
       "      <td>6</td>\n",
       "      <td>7</td>\n",
       "      <td>5</td>\n",
       "      <td>70</td>\n",
       "      <td>10</td>\n",
       "    </tr>\n",
       "  </tbody>\n",
       "</table>\n",
       "</div>"
      ],
      "text/plain": [
       "   week1  week2  week3  week4  week5\n",
       "0      1      1      3      1      1\n",
       "1      2      1      3      2      2\n",
       "2      5      1      3      3      3\n",
       "3      7      7      5      5      3\n",
       "4      3      7      5      6      5\n",
       "5      6      7      5     70     10"
      ]
     },
     "execution_count": 9,
     "metadata": {},
     "output_type": "execute_result"
    }
   ],
   "source": [
    "X = pd.DataFrame({\"week1\":[1,2,5,7,3,6],\n",
    "                  \"week2\":[1,1,1,7,7,7],\n",
    "                  \"week3\":[3,3,3,5,5,5],\n",
    "                  \"week4\":[1,2,3,5,6,70],\n",
    "                  \"week5\":[1,2,3,3,5,10]})\n",
    "X\n"
   ]
  },
  {
   "cell_type": "code",
   "execution_count": 10,
   "metadata": {
    "slideshow": {
     "slide_type": "fragment"
    }
   },
   "outputs": [
    {
     "data": {
      "text/html": [
       "<div>\n",
       "<style scoped>\n",
       "    .dataframe tbody tr th:only-of-type {\n",
       "        vertical-align: middle;\n",
       "    }\n",
       "\n",
       "    .dataframe tbody tr th {\n",
       "        vertical-align: top;\n",
       "    }\n",
       "\n",
       "    .dataframe thead th {\n",
       "        text-align: right;\n",
       "    }\n",
       "</style>\n",
       "<table border=\"1\" class=\"dataframe\">\n",
       "  <thead>\n",
       "    <tr style=\"text-align: right;\">\n",
       "      <th></th>\n",
       "      <th>mean</th>\n",
       "      <th>median</th>\n",
       "    </tr>\n",
       "  </thead>\n",
       "  <tbody>\n",
       "    <tr>\n",
       "      <th>week1</th>\n",
       "      <td>4.0</td>\n",
       "      <td>4.0</td>\n",
       "    </tr>\n",
       "    <tr>\n",
       "      <th>week2</th>\n",
       "      <td>4.0</td>\n",
       "      <td>4.0</td>\n",
       "    </tr>\n",
       "    <tr>\n",
       "      <th>week3</th>\n",
       "      <td>4.0</td>\n",
       "      <td>4.0</td>\n",
       "    </tr>\n",
       "    <tr>\n",
       "      <th>week4</th>\n",
       "      <td>14.5</td>\n",
       "      <td>4.0</td>\n",
       "    </tr>\n",
       "    <tr>\n",
       "      <th>week5</th>\n",
       "      <td>4.0</td>\n",
       "      <td>3.0</td>\n",
       "    </tr>\n",
       "  </tbody>\n",
       "</table>\n",
       "</div>"
      ],
      "text/plain": [
       "       mean  median\n",
       "week1   4.0     4.0\n",
       "week2   4.0     4.0\n",
       "week3   4.0     4.0\n",
       "week4  14.5     4.0\n",
       "week5   4.0     3.0"
      ]
     },
     "execution_count": 10,
     "metadata": {},
     "output_type": "execute_result"
    }
   ],
   "source": [
    "pd.DataFrame({\"mean\":X.mean(),\n",
    "              \"median\":X.median()})"
   ]
  },
  {
   "cell_type": "markdown",
   "metadata": {
    "slideshow": {
     "slide_type": "fragment"
    }
   },
   "source": [
    "### Observe:\n",
    "\n",
    "The crucial observation is that a number of different outcomes produce the same or similar medians and means!"
   ]
  },
  {
   "cell_type": "markdown",
   "metadata": {
    "slideshow": {
     "slide_type": "slide"
    }
   },
   "source": [
    "Variance\n",
    "========\n",
    "\n",
    "The preceding data was supposed to persuade you that by themselves, the mean and median hide information -- e.g. the \"range\" of the values taken.\n",
    "\n",
    "The **variance** of $X$, written $\\operatorname{var}(X)$, is the mean of the following values:\n",
    "\n",
    "$$\\{(x_i - \\mu)^2 \\mid i = 1,2,\\dots,n\\};$$\n",
    "\n",
    "thus\n",
    "$$\\operatorname{var}(X) = \\dfrac{1}{n} \\sum_{i=1}^n (x_i - \\mu)^2.$$\n",
    "\n",
    "The variance amounts to the average distance (really: squared distance) of the data values from the average value.\n",
    "\n"
   ]
  },
  {
   "cell_type": "markdown",
   "metadata": {
    "slideshow": {
     "slide_type": "subslide"
    }
   },
   "source": [
    "Unfortunately the *units* of the variance are the square of those of $X$. E.g. if the values in $X$ measure\n",
    "minutes (waiting for the bus, say) then the units of $\\operatorname{var}(X)$ are $\\operatorname{min}^2$.\n",
    "\n",
    "So rather than the variance, one often consider the **standard deviation** $\\sigma = \\sigma(X)$ which by definition is the *square root* of the variance:\n",
    "\n",
    "$$\\sigma(X) = \\left(\\operatorname{var}(X)\\right)^{1/2} = \\left(\\dfrac{1}{n} \\sum_{i=1}^n (x_i - \\mu)^2\\right)^{1/2}.$$\n",
    "\n",
    "The units of $\\sigma(X)$ match those of $X$."
   ]
  },
  {
   "cell_type": "code",
   "execution_count": 11,
   "metadata": {
    "slideshow": {
     "slide_type": "subslide"
    }
   },
   "outputs": [
    {
     "data": {
      "text/html": [
       "<div>\n",
       "<style scoped>\n",
       "    .dataframe tbody tr th:only-of-type {\n",
       "        vertical-align: middle;\n",
       "    }\n",
       "\n",
       "    .dataframe tbody tr th {\n",
       "        vertical-align: top;\n",
       "    }\n",
       "\n",
       "    .dataframe thead th {\n",
       "        text-align: right;\n",
       "    }\n",
       "</style>\n",
       "<table border=\"1\" class=\"dataframe\">\n",
       "  <thead>\n",
       "    <tr style=\"text-align: right;\">\n",
       "      <th></th>\n",
       "      <th>week1</th>\n",
       "      <th>week2</th>\n",
       "      <th>week3</th>\n",
       "      <th>week4</th>\n",
       "      <th>week5</th>\n",
       "    </tr>\n",
       "  </thead>\n",
       "  <tbody>\n",
       "    <tr>\n",
       "      <th>0</th>\n",
       "      <td>1</td>\n",
       "      <td>1</td>\n",
       "      <td>3</td>\n",
       "      <td>1</td>\n",
       "      <td>1</td>\n",
       "    </tr>\n",
       "    <tr>\n",
       "      <th>1</th>\n",
       "      <td>2</td>\n",
       "      <td>1</td>\n",
       "      <td>3</td>\n",
       "      <td>2</td>\n",
       "      <td>2</td>\n",
       "    </tr>\n",
       "    <tr>\n",
       "      <th>2</th>\n",
       "      <td>5</td>\n",
       "      <td>1</td>\n",
       "      <td>3</td>\n",
       "      <td>3</td>\n",
       "      <td>3</td>\n",
       "    </tr>\n",
       "    <tr>\n",
       "      <th>3</th>\n",
       "      <td>7</td>\n",
       "      <td>7</td>\n",
       "      <td>5</td>\n",
       "      <td>5</td>\n",
       "      <td>3</td>\n",
       "    </tr>\n",
       "    <tr>\n",
       "      <th>4</th>\n",
       "      <td>3</td>\n",
       "      <td>7</td>\n",
       "      <td>5</td>\n",
       "      <td>6</td>\n",
       "      <td>5</td>\n",
       "    </tr>\n",
       "    <tr>\n",
       "      <th>5</th>\n",
       "      <td>6</td>\n",
       "      <td>7</td>\n",
       "      <td>5</td>\n",
       "      <td>70</td>\n",
       "      <td>10</td>\n",
       "    </tr>\n",
       "  </tbody>\n",
       "</table>\n",
       "</div>"
      ],
      "text/plain": [
       "   week1  week2  week3  week4  week5\n",
       "0      1      1      3      1      1\n",
       "1      2      1      3      2      2\n",
       "2      5      1      3      3      3\n",
       "3      7      7      5      5      3\n",
       "4      3      7      5      6      5\n",
       "5      6      7      5     70     10"
      ]
     },
     "execution_count": 11,
     "metadata": {},
     "output_type": "execute_result"
    }
   ],
   "source": [
    "X"
   ]
  },
  {
   "cell_type": "code",
   "execution_count": 12,
   "metadata": {
    "slideshow": {
     "slide_type": "fragment"
    }
   },
   "outputs": [
    {
     "data": {
      "text/html": [
       "<div>\n",
       "<style scoped>\n",
       "    .dataframe tbody tr th:only-of-type {\n",
       "        vertical-align: middle;\n",
       "    }\n",
       "\n",
       "    .dataframe tbody tr th {\n",
       "        vertical-align: top;\n",
       "    }\n",
       "\n",
       "    .dataframe thead th {\n",
       "        text-align: right;\n",
       "    }\n",
       "</style>\n",
       "<table border=\"1\" class=\"dataframe\">\n",
       "  <thead>\n",
       "    <tr style=\"text-align: right;\">\n",
       "      <th></th>\n",
       "      <th>variance</th>\n",
       "      <th>standard deviation</th>\n",
       "    </tr>\n",
       "  </thead>\n",
       "  <tbody>\n",
       "    <tr>\n",
       "      <th>week1</th>\n",
       "      <td>5.6</td>\n",
       "      <td>2.366432</td>\n",
       "    </tr>\n",
       "    <tr>\n",
       "      <th>week2</th>\n",
       "      <td>10.8</td>\n",
       "      <td>3.286335</td>\n",
       "    </tr>\n",
       "    <tr>\n",
       "      <th>week3</th>\n",
       "      <td>1.2</td>\n",
       "      <td>1.095445</td>\n",
       "    </tr>\n",
       "    <tr>\n",
       "      <th>week4</th>\n",
       "      <td>742.7</td>\n",
       "      <td>27.252523</td>\n",
       "    </tr>\n",
       "    <tr>\n",
       "      <th>week5</th>\n",
       "      <td>10.4</td>\n",
       "      <td>3.224903</td>\n",
       "    </tr>\n",
       "  </tbody>\n",
       "</table>\n",
       "</div>"
      ],
      "text/plain": [
       "       variance  standard deviation\n",
       "week1       5.6            2.366432\n",
       "week2      10.8            3.286335\n",
       "week3       1.2            1.095445\n",
       "week4     742.7           27.252523\n",
       "week5      10.4            3.224903"
      ]
     },
     "execution_count": 12,
     "metadata": {},
     "output_type": "execute_result"
    }
   ],
   "source": [
    "pd.DataFrame({\"variance\": X.var(),\n",
    "              \"standard deviation\":X.std()})"
   ]
  },
  {
   "cell_type": "markdown",
   "metadata": {
    "slideshow": {
     "slide_type": "slide"
    }
   },
   "source": [
    "Random Variables & probability density functions\n",
    "================================================\n",
    "\n",
    "Now view the data set $X$ as arising from some *process*. \n",
    "\n",
    "For example, $X$ may be generated by rolling a 6-sided dice.\n",
    "Or $X$ may be generated by finding the wait-time at a certain bus stop at 7:00 AM.\n",
    "\n",
    "We want to be able to study or speak about the process that controls the generation of this data.\n",
    "\n"
   ]
  },
  {
   "cell_type": "markdown",
   "metadata": {
    "slideshow": {
     "slide_type": "subslide"
    }
   },
   "source": [
    "For this, we want to define the notion of a *random variable*. If you look e.g. at the discussion on the\n",
    "[wikipedia page](https://en.wikipedia.org/wiki/Random_variable) you'll see the following:\n",
    "\n",
    "> In probability and statistics, a random variable [...] is described informally as a variable whose values depend on outcomes of a random phenomenon\n",
    "\n",
    "> A random variable's possible values might represent the possible outcomes of a yet-to-be-performed experiment, or the possible outcomes of a past experiment whose already-existing value is uncertain (for example, because of imprecise measurements or quantum uncertainty). They may also conceptually represent either the results of an \"objectively\" random process (such as rolling a die) or the \"subjective\" randomness that results from incomplete knowledge of a quantity. The meaning of the probabilities assigned to the potential values of a random variable is not part of probability theory itself\n",
    "\n",
    "So we'll just say that a random variable $X$ is a variable that assumes a value each time a particular random process is realized.\n"
   ]
  },
  {
   "cell_type": "markdown",
   "metadata": {
    "slideshow": {
     "slide_type": "subslide"
    }
   },
   "source": [
    "Examples of random variables:\n",
    "-----------------------------\n",
    "\n",
    "- The value $Y$ representing the outcome of rolling a 6-sided dice.\n",
    "\n",
    "  $Y$ is a *discrete* random variable, because $Y$ can only take the values $\\{1,2,3,4,5,6\\}$.\n",
    "  \n",
    "- The value $T$ representing wait-time at the bus, in minutes.\n",
    "\n",
    "  $T$ is a *continuous* random variable, since the wait time is described by a non-negative *real number*."
   ]
  },
  {
   "cell_type": "markdown",
   "metadata": {
    "slideshow": {
     "slide_type": "slide"
    }
   },
   "source": [
    "Probability distribution\n",
    "========================\n",
    "\n",
    "A probability distribution describes the probabilities with which a random variable assume its possible values.\n",
    "\n",
    "For example, if $Y$ is the random variable as before which describes a roll of a *fair* 6-sided dice, there\n",
    "are 6 outcomes: $r = 1,2,3,4,5,6$. The probability that $Y$ assumes any of these values is\n",
    "$$P(Y=r) = \\dfrac{1}{6}.$$\n",
    "\n",
    "Let $Y2$ be the random variable that describes the result of adding the values for a simultaneous roll of 2 fair 6-sided dice.  Here the outcomes are the values $r=2,3,4,\\dots,12$.\n",
    "\n",
    "Let's compute the probabilities. The main thing we need is to count the number of times that a number $k$ can be written\n",
    "as a sum $k=i+j$ where $1 \\le i,j \\le 6$.\n",
    "\n",
    "We use the ``value_counts`` method for this:"
   ]
  },
  {
   "cell_type": "code",
   "execution_count": 13,
   "metadata": {
    "slideshow": {
     "slide_type": "subslide"
    }
   },
   "outputs": [
    {
     "data": {
      "text/plain": [
       "0 \n",
       "7     0.166667\n",
       "6     0.138889\n",
       "8     0.138889\n",
       "9     0.111111\n",
       "5     0.111111\n",
       "4     0.083333\n",
       "10    0.083333\n",
       "11    0.055556\n",
       "3     0.055556\n",
       "2     0.027778\n",
       "12    0.027778\n",
       "Name: count, dtype: float64"
      ]
     },
     "execution_count": 13,
     "metadata": {},
     "output_type": "execute_result"
    }
   ],
   "source": [
    "from itertools import product\n",
    "I = [1,2,3,4,5,6]\n",
    "\n",
    "results_2 = pd.DataFrame([i+j for i,j in product(I,I)])\n",
    "Y2_prob = results_2.value_counts()/len(I)**2\n",
    "\n",
    "Y2_prob"
   ]
  },
  {
   "cell_type": "code",
   "execution_count": 14,
   "metadata": {},
   "outputs": [
    {
     "data": {
      "text/plain": [
       "0 \n",
       "7     6\n",
       "6     5\n",
       "8     5\n",
       "9     4\n",
       "5     4\n",
       "4     3\n",
       "10    3\n",
       "11    2\n",
       "3     2\n",
       "2     1\n",
       "12    1\n",
       "Name: count, dtype: int64"
      ]
     },
     "execution_count": 14,
     "metadata": {},
     "output_type": "execute_result"
    }
   ],
   "source": [
    "results_2.value_counts()"
   ]
  },
  {
   "cell_type": "markdown",
   "metadata": {
    "slideshow": {
     "slide_type": "subslide"
    }
   },
   "source": [
    "The indices ``r`` in the dataframe ``Y2_prob`` represent the possible dice-roll values, and the values represent the corresponding probabilities.\n",
    "\n",
    "Continuing this point of view, consider the random variable Y3 determined by the sum of 3 simultaneous rolls of a 6-sided dice."
   ]
  },
  {
   "cell_type": "code",
   "execution_count": 15,
   "metadata": {
    "slideshow": {
     "slide_type": "fragment"
    }
   },
   "outputs": [
    {
     "data": {
      "text/plain": [
       "0 \n",
       "10    0.125000\n",
       "11    0.125000\n",
       "12    0.115741\n",
       "9     0.115741\n",
       "8     0.097222\n",
       "13    0.097222\n",
       "14    0.069444\n",
       "7     0.069444\n",
       "15    0.046296\n",
       "6     0.046296\n",
       "5     0.027778\n",
       "16    0.027778\n",
       "17    0.013889\n",
       "4     0.013889\n",
       "3     0.004630\n",
       "18    0.004630\n",
       "Name: count, dtype: float64"
      ]
     },
     "execution_count": 15,
     "metadata": {},
     "output_type": "execute_result"
    }
   ],
   "source": [
    "results_3 = pd.DataFrame([i+j+k for i,j,k in product(I,I,I)])\n",
    "Y3_prob = results_3.value_counts()/len(I)**3\n",
    "\n",
    "Y3_prob"
   ]
  },
  {
   "cell_type": "code",
   "execution_count": 16,
   "metadata": {
    "slideshow": {
     "slide_type": "subslide"
    }
   },
   "outputs": [
    {
     "data": {
      "text/plain": [
       "0\n",
       "1    0.166667\n",
       "2    0.166667\n",
       "3    0.166667\n",
       "4    0.166667\n",
       "5    0.166667\n",
       "6    0.166667\n",
       "Name: count, dtype: float64"
      ]
     },
     "execution_count": 16,
     "metadata": {},
     "output_type": "execute_result"
    }
   ],
   "source": [
    "\n",
    "## \n",
    "results_1 = pd.DataFrame([i for i in I])\n",
    "Y1_prob = results_1.value_counts()/len(I)\n",
    "Y1_prob"
   ]
  },
  {
   "cell_type": "markdown",
   "metadata": {
    "slideshow": {
     "slide_type": "slide"
    }
   },
   "source": [
    "Probability distributions -- case of a continuous random variable\n",
    "==================================================================\n",
    "\n",
    "For a continuous random variable $X$ and a real number $r$, usually the probability $P(X=r)$ is **zero**;\n",
    "this reflects the fact that there are *a lot* of real numbers!\n",
    "\n",
    "Instead, in this setting one considers the *probability density function* $f(x)$ with the following property:\n",
    "\n",
    "the probability that $X$ is in the interval $[a,b]$ is \n",
    "\n",
    "$$P(a\\le X \\le b) = \\int_a^b f(x)dx$$\n",
    "\n",
    "Note that the value of the random variable $X$ has to be *somewhere*, so in particular we require that\n",
    "\n",
    "$$P(-\\infty < X < \\infty) = \\int_{-\\infty}^\\infty f(x) dx = 1.$$\n",
    "\n",
    "On the other hand, as is well-known from integral calculus, we have:\n",
    "\n",
    "$$P(X=a) = \\int_a^a f(x) dx = 0$$\n",
    "\n"
   ]
  },
  {
   "cell_type": "markdown",
   "metadata": {
    "slideshow": {
     "slide_type": "subslide"
    }
   },
   "source": [
    "Statistics for a discrete random variable\n",
    "\n",
    "For a discrete random variable $Y$, the expected value $E(Y)$ is the weighted average of the possible values\n",
    "that $Y$ can take. More precisely, if the values that $Y$ can take are $I =\\{y_1,y_2,\\dots,y_N\\}$, then\n",
    "write_json('week09--data-market.json',list(map(lambda x: str(x),data)))\n",
    "\n",
    "$$E(Y) = \\sum_{i=1}^N y_iP(y_i)= \\sum_{i=1}^N y_iP(Y=y_i).$$\n",
    "\n",
    "and the *variance* of $Y$ is \n",
    "\n",
    "$$\\operatorname{var}(Y) = E\\left((Y-\\mu)^2\\right) \\quad \\text{if $\\mu = E(Y)$}$$\n"
   ]
  },
  {
   "cell_type": "markdown",
   "metadata": {
    "slideshow": {
     "slide_type": "subslide"
    }
   },
   "source": [
    "Example:\n",
    "\n",
    "- one roll of 6-sided dice\n",
    "\n",
    "  If $Y$ represents rolling a fair 6-sided dice, $P(r) = P(Y=r) = \\dfrac{1}{6}$, and so\n",
    "\n",
    "  $$E(Y) = \\sum_{i=1}^6 \\dfrac{1}{6}\\cdot i = \\dfrac{1+2+3+4+5+6}{6} = \\dfrac{21}{6} = 3.5$$\n",
    "\n",
    "  and the variance is\n",
    "  \n",
    "  $$\\operatorname{var}(Y) = E\\left( (Y-3.5)^2 \\right) = \\sum_{i=1}^6 \\dfrac{(3.5-i)^2}{6}$$\n",
    "  \n",
    "\n",
    "Let's confirm this using ``python``:"
   ]
  },
  {
   "cell_type": "code",
   "execution_count": 17,
   "metadata": {
    "slideshow": {
     "slide_type": "subslide"
    }
   },
   "outputs": [
    {
     "data": {
      "text/plain": [
       "[3.5, 2.9166666666666665]"
      ]
     },
     "execution_count": 17,
     "metadata": {},
     "output_type": "execute_result"
    }
   ],
   "source": [
    "Y_expected = sum([value*prob for (value,),prob in Y1_prob.items()],0)\n",
    "\n",
    "Y_var = sum([(Y_expected - value)**2 * prob for (value,),prob in Y1_prob.items()],0)\n",
    "\n",
    "[Y_expected, Y_var]"
   ]
  },
  {
   "cell_type": "markdown",
   "metadata": {
    "slideshow": {
     "slide_type": "subslide"
    }
   },
   "source": [
    "- two or three 6-sided dice\n",
    "\n",
    "  If $Y2$, $Y3$ represent the simultaneously rolling of two, resp. three, 6-sided dice and adding the results, we computed above\n",
    "  the values $P(Y2 = r)$ for $2 \\le r \\le 12$ and $P(Y3=r)$ for $3 \\le r \\le 18$.\n",
    "  \n",
    "  Let's compute the expected values. Recall that the probabilities are stored in the variables\n",
    "  ``Y2_prob`` and ``Y3_prob``."
   ]
  },
  {
   "cell_type": "code",
   "execution_count": 35,
   "metadata": {
    "slideshow": {
     "slide_type": "fragment"
    }
   },
   "outputs": [
    {
     "data": {
      "text/plain": [
       "[6.999999999999998, 5.833333333333333]"
      ]
     },
     "execution_count": 35,
     "metadata": {},
     "output_type": "execute_result"
    }
   ],
   "source": [
    "Y2_expected = sum([value*prob for (value,),prob in Y2_prob.items()],0)\n",
    "Y2_var = sum([(Y2_expected - value)**2 * prob for (value,),prob in Y2_prob.items()],0)\n",
    "\n",
    "[Y2_expected, Y2_var]"
   ]
  },
  {
   "cell_type": "code",
   "execution_count": 19,
   "metadata": {
    "slideshow": {
     "slide_type": "fragment"
    }
   },
   "outputs": [
    {
     "data": {
      "text/plain": [
       "[10.500000000000004, 8.75]"
      ]
     },
     "execution_count": 19,
     "metadata": {},
     "output_type": "execute_result"
    }
   ],
   "source": [
    "Y3_expected = sum([value*prob for (value,),prob in Y3_prob.items()],0)\n",
    "Y3_var = sum([(Y3_expected - value)**2 * prob for (value,),prob in Y3_prob.items()],0)\n",
    "\n",
    "\n",
    "[Y3_expected, Y3_var]"
   ]
  },
  {
   "cell_type": "markdown",
   "metadata": {
    "slideshow": {
     "slide_type": "slide"
    }
   },
   "source": [
    "Statistics for a continuous random variable (definitions)\n",
    "===========================================\n",
    "\n",
    "Suppose the continuous random variable $Y$ is determined by the probability distribution function $f(x)$.\n",
    "The expected value $E(Y)$ is given by\n",
    "\n",
    "$$\\mu = E(Y) = \\int_{-\\infty}^\\infty x\\cdot f(x) dx$$\n",
    "\n",
    "The *variance* of $Y$ is defined to be\n",
    "\n",
    "$$\\sigma^2 = \\operatorname{var}(Y) = \\int_{-\\infty}^\\infty (x - \\mu)^2\\cdot f(x) dx$$\n",
    "\n",
    "and the standard deviation is\n",
    "\n",
    "$$\\sigma = \\sqrt{\\operatorname{var}(Y)}$$."
   ]
  },
  {
   "cell_type": "markdown",
   "metadata": {
    "slideshow": {
     "slide_type": "slide"
    }
   },
   "source": [
    "Normal distribution\n",
    "===================\n",
    "\n",
    "Perhaps the most important probability distribution function is known as the *Gaussian* or *normal* distribution. For mean $\\mu$ and standard deviation $\\sigma$, the probability density function is determined by\n",
    "\n",
    "$$f(x) = \\dfrac{1}{\\sqrt{2\\pi \\sigma^2}} \\exp\\left({\\dfrac{-(x-\\mu)^2}{2\\sigma^2}}\\right)$$\n",
    "\n",
    "This probability distribution function determines a continuous random variable \n",
    "$Y_{\\operatorname{normal}}$ with expected value $\\mu$ and standard deviation $\\sigma$; these latter conditions mean:\n",
    "\n",
    "$$\\mu = E(Y_{\\operatorname{normal}}) = \\int_{-\\infty}^\\infty x \\cdot \\dfrac{1}{\\sqrt{2\\pi \\sigma^2}} \\exp\\left({\\dfrac{-(x-\\mu)^2}{2\\sigma^2}}\\right) dx$$\n",
    "\n",
    "and\n",
    "\n",
    "$$\\sigma^2 = \\operatorname{var}(Y_{\\operatorname{normal}}) = \\int_{-\\infty}^\\infty (x-\\mu)^2 \\cdot \\dfrac{1}{\\sqrt{2\\pi \\sigma^2}} \\exp\\left({\\dfrac{-(x-\\mu)^2}{2\\sigma^2}}\\right) dx $$\n",
    "\n",
    "-------"
   ]
  },
  {
   "cell_type": "code",
   "execution_count": 20,
   "metadata": {
    "slideshow": {
     "slide_type": "subslide"
    }
   },
   "outputs": [
    {
     "data": {
      "text/plain": [
       "<matplotlib.lines.Line2D at 0x7f59e5c22750>"
      ]
     },
     "execution_count": 20,
     "metadata": {},
     "output_type": "execute_result"
    },
    {
     "data": {
      "image/png": "[encoded data removed]",
      "text/plain": [
       "<Figure size 1000x500 with 1 Axes>"
      ]
     },
     "metadata": {},
     "output_type": "display_data"
    }
   ],
   "source": [
    "import matplotlib.pyplot as plt\n",
    "import numpy as np\n",
    "\n",
    "x=np.linspace(-5,5,200)\n",
    "## density function with mu = 0 and sigma = 1\n",
    "def f(x):\n",
    "    return np.exp(-x**2/2)/(2*np.pi)\n",
    "\n",
    "fig, ax = plt.subplots(figsize=(10, 5))\n",
    "ax.plot(x, f(x))\n",
    "ax.set_title(\"normal distribution\")\n",
    "ax.axvline(x=1,color=\"red\")\n",
    "ax.axvline(x=-1,color=\"red\")"
   ]
  },
  {
   "cell_type": "markdown",
   "metadata": {
    "slideshow": {
     "slide_type": "slide"
    }
   },
   "source": [
    "Law of Large Numbers\n",
    "====================\n",
    "\n",
    "Suppose that $Y$ is a random variable (discrete or continuous), and consider a sample $X_1,\\dots,X_n$ of $n$ events drawn from the random variable, for $n \\ge 1$. We write $\\overline{X}_n$ for the mean of this sample:\n",
    "\n",
    "$$\\overline{X}_n = \\dfrac{1}{n} \\sum_{i=1}^n X_i$$\n",
    "\n",
    "We can view the sample mean $\\overline{X}_n$ as a random variable (depending on the choices made)!\n",
    "\n",
    "**Law of Large Numbers:** The sample means $\\overline{X}_n$ converges to the expected value $E(Y)$ as $n \\to \\infty$.\n"
   ]
  },
  {
   "cell_type": "markdown",
   "metadata": {
    "slideshow": {
     "slide_type": "subslide"
    }
   },
   "source": [
    "\n",
    "This formulation hides a bit of complexity; namely, what does precisely is meant by convergence in this context? We'd like to write something like\n",
    "\n",
    "$$\\overline{X}_n \\xrightarrow{\\operatorname{prob}} E(Y) \\quad \\text{as $n \\to \\infty$}$$\n",
    "\n",
    "to indicate \"converges in probability\" (which we haven't defined...). Here is more a precise form, which is known as the *weak* law of large numbers. This weak law says that\n",
    "\n",
    "$$\\lim_{n \\to \\infty} P(|\\overline{X}_n - E(Y)| > \\epsilon) = 0 \\quad \\text{for any $\\epsilon > 0$}.$$\n",
    "\n",
    "Roughly speaking, this formulation means that the probability that the sample mean is even \"slightly\" different from the expected value goes to 0 as the number of trials goes to infinity.\n",
    "\n"
   ]
  },
  {
   "cell_type": "markdown",
   "metadata": {
    "slideshow": {
     "slide_type": "subslide"
    }
   },
   "source": [
    "We aren't going to try to be completely precise here -- this is a course about modeling, not the full details of probability! -- but it is perhaps worth mention that we need to be more precise about what is meant by the probability $P(|\\overline{X}_n - E(Y)| > \\epsilon)$; this depends on viewing the sample mean $\\overline{X}_n$ as a random variable.\n",
    "\n",
    "Very roughly speaking, the idea is that as the sample sizes grow, you can expect the sample mean to behave like the expected value of the random variable.\n",
    "\n",
    "If you'd like to know a bit more, the [wikipedia article on the Law of Large Numbers](https://en.wikipedia.org/wiki/Law_of_large_numbers) is worth scanning."
   ]
  },
  {
   "cell_type": "markdown",
   "metadata": {
    "slideshow": {
     "slide_type": "slide"
    }
   },
   "source": [
    "The Central Limit Theorem\n",
    "======================\n",
    "\n",
    "Let's keep the notation and terminology from the preceding discussion. Thus the $X_1,\\dots,X_n$ represent random samples of $n$ events drawn from the random variable $Y$, for $n \\ge 1$.\n",
    "\n",
    "We view the choice of each sample as $X_i$ as a random variable; we want to suppose that these random variables are [independent from one-another and identically distributed](https://en.wikipedia.org/wiki/Independent_and_identically_distributed_random_variables) -- abbreviated i.i.d. In particular,\n",
    "$E(X_i) = E(Y) = \\mu$ and $\\operatorname{var}(X_i) = \\operatorname{var}(Y) = \\sigma^2$.\n",
    "\n",
    "Recall that we view the sample mean $\\overline{X}_n$ as a random variable. Thus, we can view\n",
    "$\\sqrt{n} \\cdot (\\overline{X}_n - \\mu)$ as a random variable, which is thus given by its distribution -- i.e. by its probability density function.\n"
   ]
  },
  {
   "cell_type": "markdown",
   "metadata": {
    "slideshow": {
     "slide_type": "subslide"
    }
   },
   "source": [
    "\n",
    "**Theorem:** ([Central Limit Theorem](https://en.wikipedia.org/wiki/Central_limit_theorem)) If $\\{X_1,\\dots,X_n\\}$ are i.i.d., then as $n \\to\\infty$, the distribution of $\\sqrt{n} \\cdot (\\overline{X}_n - \\mu)$ converges to the normal distribution with expected value $0$ and variance $\\sigma^2$.\n",
    "\n",
    "---------------\n",
    "\n",
    "Note that if $f_n$ is the probability distribution function for the random variable $\\overline{X}_n$, then for real numbers $a<b$,\n",
    "\n",
    "$$P(a<\\overline{X}_n < b) = \\int_a^b f_n(x)ds$$\n",
    "\n",
    "so that\n",
    "\n",
    "$$(\\clubsuit) = P\\left(\\sqrt{n}(a - \\mu) < \\sqrt{n}(\\overline{X}_n - \\mu) < \\sqrt{n}(b - \\mu) \\right) = \\int_a^b f_n(x)dx$$"
   ]
  },
  {
   "cell_type": "markdown",
   "metadata": {
    "slideshow": {
     "slide_type": "subslide"
    }
   },
   "source": [
    "On the other hand, for large $n$ the Theorem says that, at least roughly,\n",
    "\n",
    "$$(\\clubsuit) \\approx \\dfrac{1}{\\sigma \\sqrt{2\\pi}} \\int_{\\sqrt{n}(a - \\mu)}^{\\sqrt{n}(b - \\mu)} \\exp\\left(-\\left(\\dfrac{x}{\\sigma}\\right)^2\\right)dx$$\n",
    "\n",
    "(The RHS reflects the indicated *normal distribution*).\n",
    "Now use the substitution $v = \\dfrac{x}{\\sqrt{n}} + \\mu$; the RHS becomes\n",
    "\n",
    "$$\\dfrac{1}{(\\sigma/\\sqrt{n}) \\sqrt{2\\pi}} \\int_a^b \\exp\\left(- \\left( \\dfrac{v-\\mu}{\\sigma/\\sqrt{n}}\\right)^2 \\right)dv\n",
    "$$ \n",
    "\n",
    "**Conclusion:** the theorem says that  for large enough $n$, the distribution of $\\overline{X}_n$ is close to the normal distribution with mean $μ$ and variance $\\sigma ^{2}/n$."
   ]
  },
  {
   "cell_type": "markdown",
   "metadata": {
    "slideshow": {
     "slide_type": "slide"
    }
   },
   "source": [
    "Examples\n",
    "========\n",
    "\n",
    "### Coin tossing\n",
    "\n",
    "First, view the a coin toss as a random variable making a choice between ``0`` and ``1``, and compute the mean of ``num_tosses`` choices -- i.e. $X_1,\\dots,X_n$ all represent the result of a coin toss, and $\\overline{X}_n$ is the mean of this trial.\n",
    "\n"
   ]
  },
  {
   "cell_type": "markdown",
   "metadata": {
    "slideshow": {
     "slide_type": "subslide"
    }
   },
   "source": [
    "We repeat this for several trials to describe the *distribution* of $\\overline{X}_n$:"
   ]
  },
  {
   "cell_type": "code",
   "execution_count": 37,
   "metadata": {
    "slideshow": {
     "slide_type": "fragment"
    }
   },
   "outputs": [],
   "source": [
    "def report(df):\n",
    "    ## return a string with the standard deviation and mean of the\n",
    "    ## DataFrame df\n",
    "    return \"\\n\".join([f\"std:  {df.std().values}\",\n",
    "                      f\"variance: {df.var().values}\",\n",
    "                      f\"mean: {df.mean().values}\"])\n",
    "\n",
    "#------------------------------\n",
    "\n",
    "\n",
    "## use  rng.choice([...],n) to pick n random elements from the list [...]\n",
    "\n",
    "def trial(num_events,results):\n",
    "    # return the data frame for a *trial* invovlving a number of *events*\n",
    "    return pd.DataFrame(rng.choice(results,num_events)).mean()\n",
    "\n",
    "def distribution(num_trials,num_events,results=[0,1]):\n",
    "    return pd.DataFrame( [ trial(num_events,results) for _ in range(num_trials) ] )\n",
    "\n",
    "cd_200=distribution(3000,200)"
   ]
  },
  {
   "cell_type": "code",
   "execution_count": 38,
   "metadata": {
    "slideshow": {
     "slide_type": "subslide"
    }
   },
   "outputs": [
    {
     "name": "stdout",
     "output_type": "stream",
     "text": [
      "std:  [0.05015489]\n",
      "variance: [0.00251551]\n",
      "mean: [0.49907333]\n"
     ]
    },
    {
     "data": {
      "image/png": "[encoded data removed]",
      "text/plain": [
       "<Figure size 640x480 with 1 Axes>"
      ]
     },
     "metadata": {},
     "output_type": "display_data"
    }
   ],
   "source": [
    "# 3000 trials, each consisting of 100 coin tosses\n",
    "cd_100=distribution(3000,100,results=[0,1])\n",
    "\n",
    "cd_100.hist(bins=300)\n",
    "print(report(cd_100))"
   ]
  },
  {
   "cell_type": "markdown",
   "metadata": {
    "slideshow": {
     "slide_type": "subslide"
    }
   },
   "source": [
    "Of course, this confirms that  the mean is tending to ``0.5``. \n",
    "\n",
    "Recall that each of the \"coin toss\" random variables $X_i$ has mean ``1/2`` and variance\n",
    "$$\\operatorname{var}(X_i) = \\left(\\left(0 - \\dfrac{1}{2}\\right)^2 + \\left(1 - \\dfrac{1}{2}\\right)^2 \\cdot \\right)\\dfrac{1}{2} = \\dfrac{1}{4}.$$\n",
    "\n",
    "Thus the central limit theorem predicts that the variance $\\operatorname{var}(\\overline{X}_n)$ should \n",
    "be $\\dfrac{1}{4n}$ and $\\sigma = \\sqrt{\\dfrac{1}{4n}}$.\n",
    "\n",
    "For $n=100$, this amounts to $\\operatorname{var}(\\overline{X}_{100}) =  \\dfrac{1}{400} = 0.0025$ and $\\sigma = \\sqrt{\\dfrac{1}{400}} = .05$\n",
    "\n",
    "For $n=200$, this amounts to $\\operatorname{var}(\\overline{X}_{100}) =  \\dfrac{1}{800} = 0.00125$ and $\\sigma = \\sqrt{\\dfrac{1}{800}} = .035355$"
   ]
  },
  {
   "cell_type": "code",
   "execution_count": 23,
   "metadata": {},
   "outputs": [
    {
     "name": "stdout",
     "output_type": "stream",
     "text": [
      "std:  [0.01545485]\n",
      "variance: [0.00023885]\n",
      "mean: [0.500376]\n"
     ]
    },
    {
     "data": {
      "image/png": "[encoded data removed]",
      "text/plain": [
       "<Figure size 640x480 with 1 Axes>"
      ]
     },
     "metadata": {},
     "output_type": "display_data"
    }
   ],
   "source": [
    "# 3000 trials, each consisting of 200 coin tosses\n",
    "cd_200=distribution(3000,1000,results=[0,1])\n",
    "\n",
    "cd_200.hist(bins=30)\n",
    "print(report(cd_200))"
   ]
  },
  {
   "cell_type": "code",
   "execution_count": 24,
   "metadata": {},
   "outputs": [
    {
     "name": "stdout",
     "output_type": "stream",
     "text": [
      "std:  [0.16925305]\n",
      "variance: [0.0286466]\n",
      "mean: [2.50050333]\n"
     ]
    },
    {
     "data": {
      "image/png": "[encoded data removed]",
      "text/plain": [
       "<Figure size 640x480 with 1 Axes>"
      ]
     },
     "metadata": {},
     "output_type": "display_data"
    }
   ],
   "source": [
    "# 3000 trials, each consisting of 100 dice rolls\n",
    "cd_100=distribution(3000,100,results=range(6))\n",
    "\n",
    "cd_100.hist(bins=200)\n",
    "print(report(cd_100))"
   ]
  },
  {
   "cell_type": "code",
   "execution_count": 25,
   "metadata": {
    "slideshow": {
     "slide_type": "subslide"
    }
   },
   "outputs": [
    {
     "name": "stdout",
     "output_type": "stream",
     "text": [
      "std:  [0.01545485]\n",
      "variance: [0.00023885]\n",
      "mean: [0.500376]\n"
     ]
    },
    {
     "data": {
      "image/png": "[encoded data removed]",
      "text/plain": [
       "<Figure size 640x480 with 1 Axes>"
      ]
     },
     "metadata": {},
     "output_type": "display_data"
    }
   ],
   "source": [
    "cd_200.hist(bins=30)\n",
    "print(report(cd_200))"
   ]
  },
  {
   "cell_type": "markdown",
   "metadata": {
    "slideshow": {
     "slide_type": "slide"
    }
   },
   "source": [
    "Dice Rolling\n",
    "------------\n",
    "\n",
    "We consider an ordinary 6-sided dice. We'll look at two scenarios: a *fair* die where all rolls occurs with equal probability, and a *broken* die.\n",
    "\n",
    "We view the random variable $X_i$ as the outcome of a die-roll. We consider a sample $X_1,X_2,\\dots,X_n$ and we compute the sample mean $\\overline{X}_n$. \n",
    "\n",
    "Our goal is to describe the distribution of the sample mean $\\overline{X}_n$.\n"
   ]
  },
  {
   "cell_type": "code",
   "execution_count": 26,
   "metadata": {
    "slideshow": {
     "slide_type": "subslide"
    }
   },
   "outputs": [],
   "source": [
    "six_sided_dice = [1,2,3,4,5,6]\n",
    "\n",
    "fair_prob    = np.array(6*[1/6])\n",
    "broken_prob = (1./9)*np.array([3,2,1,1,1,1])\n",
    "\n",
    "## rng.choice(six_sided_dice,n) = rng.choice(six_sided_dice,n,p=fair_prob) returns a list of \n",
    "##    n random of a fair six-sided dice\n",
    "## rng.choice(six_sided_dice,n,p=broken_prob) again rolls the dice n times, but with \n",
    "##    the indicated probabilities for the rolls\n",
    "\n",
    "def dice_trial(pr=fair_prob):\n",
    "    ## dice_trial() returns a function, suitable for passing to map(...)\n",
    "    ## if f = dice_trial(), then f(n) returns a DataFrame with the results \n",
    "    ## of n dice roll results\n",
    "    return lambda n: pd.DataFrame(rng.choice(six_sided_dice,n,p=pr)).mean()\n",
    "\n",
    "\n",
    "def dice_distribution(num_trials,sample_size,pr=fair_prob):\n",
    "    return pd.DataFrame(map(dice_trial(pr),num_trials*[sample_size]))"
   ]
  },
  {
   "cell_type": "markdown",
   "metadata": {
    "slideshow": {
     "slide_type": "subslide"
    }
   },
   "source": [
    "\n",
    "Recall for a fair die, each random variable has expected value\n",
    "\n",
    "$$E(X_i) = \\dfrac{1+2+3+4+5+6}{6} = 3.5$$\n",
    "\n",
    "and variance\n",
    "\n",
    "$$\\operatorname{var}(X_i) = \\dfrac{1}{6}\\sum_{j=1}^6 (j - 3.5)^2 \\approx 2.9167$$\n",
    "\n"
   ]
  },
  {
   "cell_type": "markdown",
   "metadata": {
    "slideshow": {
     "slide_type": "subslide"
    }
   },
   "source": [
    "Our \"broken die\" probabilities are ``[1/3,2/9,1/9,1/9,1/9,1/9]``\n",
    "\n",
    "So our expected value for the broken dice rolls can be determined using the following code:\n"
   ]
  },
  {
   "cell_type": "code",
   "execution_count": 39,
   "metadata": {
    "slideshow": {
     "slide_type": "fragment"
    }
   },
   "outputs": [
    {
     "data": {
      "text/plain": [
       "[np.float64(2.7777777777777772), np.float64(3.0617283950617282)]"
      ]
     },
     "execution_count": 39,
     "metadata": {},
     "output_type": "execute_result"
    }
   ],
   "source": [
    "\n",
    "broken_prob = (1./9)*np.array([3,2,1,1,1,1])\n",
    "E=sum([(j+1)*broken_prob[j] for j in range(6)],0)\n",
    "\n",
    "V=sum([(E-j-1)**2*broken_prob[j] for j in range(6)],0)\n",
    "\n",
    "[E,V]"
   ]
  },
  {
   "cell_type": "markdown",
   "metadata": {
    "slideshow": {
     "slide_type": "fragment"
    }
   },
   "source": [
    "Thus in this case $E(X_i) \\approx 2.778$ and $\\operatorname{var}(X_i) \\approx 3.062$.\n",
    "\n",
    "Lets simulate some trials for both sorts of diceand various sample sizes."
   ]
  },
  {
   "cell_type": "code",
   "execution_count": 40,
   "metadata": {
    "slideshow": {
     "slide_type": "subslide"
    }
   },
   "outputs": [],
   "source": [
    "\n",
    "\n",
    "dd_fair_50 = dice_distribution(num_trials=3000,sample_size = 50)\n",
    "dd_fair_100 = dice_distribution(num_trials=3000,sample_size = 100)\n",
    "\n",
    "dd_broken_50 = dice_distribution(num_trials=3000,sample_size=50,pr=broken_prob)\n",
    "dd_broken_100 = dice_distribution(num_trials=3000,sample_size=100,pr=broken_prob)\n",
    "\n"
   ]
  },
  {
   "cell_type": "markdown",
   "metadata": {
    "slideshow": {
     "slide_type": "subslide"
    }
   },
   "source": [
    "For a fair die, and $n$ trials, the central limit theorem predicts\n",
    "\n",
    "$\\operatorname{var}(\\overline{X}_n) = \\dfrac{2.9167}{n}$.\n",
    "\n",
    "|$n$  | var |\n",
    "|--:  | -------------------------:|\n",
    "|  50 | 0.05833                   | \n",
    "| 100 | 0.029167                  |\n"
   ]
  },
  {
   "cell_type": "code",
   "execution_count": 29,
   "metadata": {
    "slideshow": {
     "slide_type": "fragment"
    }
   },
   "outputs": [
    {
     "name": "stdout",
     "output_type": "stream",
     "text": [
      "std:  [0.24448632]\n",
      "variance: [0.05977356]\n",
      "mean: [3.48952]\n",
      "\n",
      "std:  [0.16508267]\n",
      "variance: [0.02725229]\n",
      "mean: [3.50127667]\n"
     ]
    }
   ],
   "source": [
    "print(report(dd_fair_50))\n",
    "print()\n",
    "print(report(dd_fair_100))"
   ]
  },
  {
   "cell_type": "code",
   "execution_count": 41,
   "metadata": {
    "slideshow": {
     "slide_type": "subslide"
    }
   },
   "outputs": [
    {
     "data": {
      "text/plain": [
       "array([[<Axes: title={'center': '0'}>]], dtype=object)"
      ]
     },
     "execution_count": 41,
     "metadata": {},
     "output_type": "execute_result"
    },
    {
     "data": {
      "image/png": "[encoded data removed]",
      "text/plain": [
       "<Figure size 640x480 with 1 Axes>"
      ]
     },
     "metadata": {},
     "output_type": "display_data"
    }
   ],
   "source": [
    "dd_fair_50.hist(bins=200)"
   ]
  },
  {
   "cell_type": "code",
   "execution_count": 31,
   "metadata": {
    "slideshow": {
     "slide_type": "subslide"
    }
   },
   "outputs": [
    {
     "data": {
      "text/plain": [
       "array([[<Axes: title={'center': '0'}>]], dtype=object)"
      ]
     },
     "execution_count": 31,
     "metadata": {},
     "output_type": "execute_result"
    },
    {
     "data": {
      "image/png": "[encoded data removed]",
      "text/plain": [
       "<Figure size 640x480 with 1 Axes>"
      ]
     },
     "metadata": {},
     "output_type": "display_data"
    }
   ],
   "source": [
    "dd_fair_100.hist(bins=30)"
   ]
  },
  {
   "cell_type": "markdown",
   "metadata": {
    "slideshow": {
     "slide_type": "subslide"
    }
   },
   "source": [
    "For our broken die, and $n$ trials, the central limit theorem predicts\n",
    "\n",
    "$\\operatorname{var}(\\overline{X}_n) = \\dfrac{3.062}{n}$.\n",
    "\n",
    "|$n$  | var |\n",
    "|--:  | -------------------------:|\n",
    "|  50 | 0.06124                   | \n",
    "| 100 | 0.03062                  |"
   ]
  },
  {
   "cell_type": "code",
   "execution_count": 32,
   "metadata": {
    "slideshow": {
     "slide_type": "fragment"
    }
   },
   "outputs": [
    {
     "name": "stdout",
     "output_type": "stream",
     "text": [
      "std:  [0.24694104]\n",
      "variance: [0.06097988]\n",
      "mean: [2.77364]\n",
      "std:  [0.17855012]\n",
      "variance: [0.03188015]\n",
      "mean: [2.78033667]\n"
     ]
    }
   ],
   "source": [
    "print(report(dd_broken_50))  \n",
    "print(report(dd_broken_100))  "
   ]
  },
  {
   "cell_type": "code",
   "execution_count": 42,
   "metadata": {
    "slideshow": {
     "slide_type": "subslide"
    }
   },
   "outputs": [
    {
     "data": {
      "text/plain": [
       "array([[<Axes: title={'center': '0'}>]], dtype=object)"
      ]
     },
     "execution_count": 42,
     "metadata": {},
     "output_type": "execute_result"
    },
    {
     "data": {
      "image/png": "[encoded data removed]",
      "text/plain": [
       "<Figure size 640x480 with 1 Axes>"
      ]
     },
     "metadata": {},
     "output_type": "display_data"
    }
   ],
   "source": [
    "## \"broken\" dice results\n",
    "##\n",
    "dd_broken_50.hist(bins=300)\n"
   ]
  },
  {
   "cell_type": "code",
   "execution_count": 34,
   "metadata": {
    "slideshow": {
     "slide_type": "subslide"
    }
   },
   "outputs": [
    {
     "data": {
      "text/plain": [
       "array([[<Axes: title={'center': '0'}>]], dtype=object)"
      ]
     },
     "execution_count": 34,
     "metadata": {},
     "output_type": "execute_result"
    },
    {
     "data": {
      "image/png": "[encoded data removed]",
      "text/plain": [
       "<Figure size 640x480 with 1 Axes>"
      ]
     },
     "metadata": {},
     "output_type": "display_data"
    }
   ],
   "source": [
    "dd_broken_100.hist(bins=30)"
   ]
  },
  {
   "cell_type": "markdown",
   "metadata": {
    "slideshow": {
     "slide_type": "slide"
    }
   },
   "source": [
    "Random Number Generation\n",
    "========================\n",
    "\n",
    "We have been using the [random number generator](https://en.wikipedia.org/wiki/Random_number_generation) provided by ``numpy`` without much comment.\n",
    "\n",
    "e.g. we've seen that\n",
    "\n",
    "```\n",
    "from numpy.random import default_rng\n",
    "rng = default_rng()\n",
    "```\n",
    "\n",
    "produces an object ``rng`` with methods include ``random`` and ``choice``:\n",
    "\n",
    "```\n",
    ">>> rng.random(4)\n",
    "array([0.1403315 , 0.32259798, 0.60620108, 0.7533085 ])\n",
    "\n",
    ">>> rng.choice([\"red\",\"blue\",\"green\"],5)\n",
    "array(['blue', 'green', 'blue', 'green', 'red'], dtype='<U5')\n",
    "```\n"
   ]
  },
  {
   "cell_type": "markdown",
   "metadata": {
    "slideshow": {
     "slide_type": "subslide"
    }
   },
   "source": [
    "\n",
    "Really, these methods only produce so-called *pseudo-random* results. A common way to produce a list of *pseudo-random* numbers is to begin with a ``seed`` value $X_0$, and then describe an algorithm\n",
    "for computing $X_n$ from $X_{n-1}$ for any $n \\ge 1$.\n",
    "\n",
    "A standard example for generating random integers depends on a  choice of large integers $a,b,m$; one then sets\n",
    "\n",
    "$$X_n = aX_{n-1} + b \\pmod{n}$$\n",
    "\n",
    "If the algorithm is good enough, the resulting sequence of numbers \"seems random\" e.g. in the sense of passing\n",
    "[statistical tests for randomness](https://en.wikipedia.org/wiki/Statistical_randomness). \n",
    "\n",
    "Note however, that if you know the seed and the algorithm, you can construct the sequence. One says that the sequence is deterministic -- which doesn't seem very random!! Such determinism can be problematic e.g. in crypotgraphy. But for our point-of-view, pseudo-random numbers are very useful in modeling.\n",
    "\n",
    "For example, statistics and random number generators will be very important to modeling applications of so-called *Monte-Carlo simulations* that we will study later."
   ]
  },
  {
   "cell_type": "code",
   "execution_count": 43,
   "metadata": {},
   "outputs": [],
   "source": [
    "from numpy.random import default_rng\n",
    "rng = default_rng()"
   ]
  },
  {
   "cell_type": "code",
   "execution_count": 45,
   "metadata": {},
   "outputs": [
    {
     "data": {
      "text/plain": [
       "array([18, 10, 16, 13,  7,  4, 12,  6,  0,  6])"
      ]
     },
     "execution_count": 45,
     "metadata": {},
     "output_type": "execute_result"
    }
   ],
   "source": [
    "rng.integers(0,20,10)"
   ]
  },
  {
   "cell_type": "code",
   "execution_count": null,
   "metadata": {},
   "outputs": [],
   "source": []
  }
 ],
 "metadata": {
  "jupytext": {
   "formats": "ipynb,md"
  },
  "kernelspec": {
   "display_name": "Python 3 (ipykernel)",
   "language": "python",
   "name": "python3"
  },
  "language_info": {
   "codemirror_mode": {
    "name": "ipython",
    "version": 3
   },
   "file_extension": ".py",
   "mimetype": "text/x-python",
   "name": "python",
   "nbconvert_exporter": "python",
   "pygments_lexer": "ipython3",
   "version": "3.11.2"
  }
 },
 "nbformat": 4,
 "nbformat_minor": 4
}
