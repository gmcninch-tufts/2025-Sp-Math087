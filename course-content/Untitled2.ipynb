{
 "cells": [
  {
   "cell_type": "code",
   "execution_count": 1,
   "id": "c89f4f8b-a59f-40ef-b53d-48f02abbc8a6",
   "metadata": {},
   "outputs": [],
   "source": [
    "import numpy as np\n",
    "import matplotlib.pyplot as mp\n",
    "\n",
    "\n",
    "from numpy.random import default_rng\n",
    "rng = default_rng()\n"
   ]
  },
  {
   "cell_type": "code",
   "execution_count": 5,
   "id": "f45f5d00-3dc8-4887-9f60-81287681fd70",
   "metadata": {},
   "outputs": [],
   "source": [
    "def pick_random_points(a,b,N):\n",
    "    return a+ (b-a)*rng.random(N)"
   ]
  },
  {
   "cell_type": "code",
   "execution_count": 7,
   "id": "1c26cd23-63cf-4dd5-94e2-6a4f09b97e66",
   "metadata": {},
   "outputs": [
    {
     "data": {
      "text/plain": [
       "array([4.78820262, 3.531991  , 4.07732156, 4.91540452, 3.60289289,\n",
       "       4.32172808, 4.39221687, 4.3360251 , 4.36542558, 4.25747356])"
      ]
     },
     "execution_count": 7,
     "metadata": {},
     "output_type": "execute_result"
    }
   ],
   "source": [
    "pick_random_points(3,5,10)"
   ]
  },
  {
   "cell_type": "code",
   "execution_count": 11,
   "id": "9e456b22-1dbf-4437-8064-522549271ff4",
   "metadata": {},
   "outputs": [
    {
     "data": {
      "text/plain": [
       "[(0, 1), (1, 2), (2, 3), (3, 4), (4, 5)]"
      ]
     },
     "execution_count": 11,
     "metadata": {},
     "output_type": "execute_result"
    }
   ],
   "source": [
    "list(zip(range(5),range(1,6)))"
   ]
  },
  {
   "cell_type": "code",
   "execution_count": 16,
   "id": "fa104122-e9e6-470b-856b-da9b72dfc840",
   "metadata": {},
   "outputs": [],
   "source": [
    "def method1(f,a,b,mu,N):\n",
    "    xs = pick_random_points(a,b,N)\n",
    "    ys = pick_random_points(0,mu,N)\n",
    "\n",
    "    below = list(filter(lambda z: z[1]<= f(z[0]) ,list(zip(xs,ys))))\n",
    "    return (b-a)*mu*len(below)/N"
   ]
  },
  {
   "cell_type": "code",
   "execution_count": 14,
   "id": "77086569-197d-4097-bc69-8a070eb92910",
   "metadata": {},
   "outputs": [],
   "source": [
    "def g(x):\n",
    "    return x"
   ]
  },
  {
   "cell_type": "code",
   "execution_count": 20,
   "id": "3d722893-cd07-4fe2-9b86-de7d4b163ffe",
   "metadata": {},
   "outputs": [
    {
     "data": {
      "text/plain": [
       "0.5036"
      ]
     },
     "execution_count": 20,
     "metadata": {},
     "output_type": "execute_result"
    }
   ],
   "source": [
    "method1(g,0,1,20,100000)"
   ]
  },
  {
   "cell_type": "code",
   "execution_count": 21,
   "id": "85a41b2c-4e22-4afd-b879-643e5532a953",
   "metadata": {},
   "outputs": [],
   "source": [
    "def method2(f,a,b,N):\n",
    "    xs = pick_random_points(a,b,N)\n",
    "    return (b-a)/N*sum([f(x) for x in xs])"
   ]
  },
  {
   "cell_type": "code",
   "execution_count": 22,
   "id": "bc99c3bf-e47b-4e09-b222-c98a8ca45061",
   "metadata": {},
   "outputs": [
    {
     "data": {
      "text/plain": [
       "np.float64(0.5167287163541635)"
      ]
     },
     "execution_count": 22,
     "metadata": {},
     "output_type": "execute_result"
    }
   ],
   "source": [
    "method2(g,0,1,1000)"
   ]
  },
  {
   "cell_type": "code",
   "execution_count": 23,
   "id": "578d2df6-57d1-4f48-89b6-ba797ca428bb",
   "metadata": {},
   "outputs": [],
   "source": [
    "import pandas as pd"
   ]
  },
  {
   "cell_type": "code",
   "execution_count": 24,
   "id": "d9a1fe1a-a50d-499e-9eb0-54a0181ec5af",
   "metadata": {},
   "outputs": [],
   "source": [
    "results = pd.DataFrame([ methd"
   ]
  },
  {
   "cell_type": "code",
   "execution_count": null,
   "id": "9d822613-0cdc-4011-b9e2-b698f2af75e6",
   "metadata": {},
   "outputs": [],
   "source": []
  }
 ],
 "metadata": {
  "kernelspec": {
   "display_name": "Python 3 (ipykernel)",
   "language": "python",
   "name": "python3"
  },
  "language_info": {
   "codemirror_mode": {
    "name": "ipython",
    "version": 3
   },
   "file_extension": ".py",
   "mimetype": "text/x-python",
   "name": "python",
   "nbconvert_exporter": "python",
   "pygments_lexer": "ipython3",
   "version": "3.11.2"
  }
 },
 "nbformat": 4,
 "nbformat_minor": 5
}
