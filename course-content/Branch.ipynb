{
 "cells": [
  {
   "cell_type": "code",
   "execution_count": 28,
   "id": "8c7b997c-4837-46b5-8139-bc540bd63fa5",
   "metadata": {},
   "outputs": [
    {
     "name": "stdout",
     "output_type": "stream",
     "text": [
      "[]\n",
      "[]\n"
     ]
    },
    {
     "data": {
      "text/plain": [
       "(-6.5, array([1.5, 0. , 1. ]))"
      ]
     },
     "execution_count": 28,
     "metadata": {},
     "output_type": "execute_result"
    }
   ],
   "source": [
    "import numpy as np\n",
    "\n",
    "from scipy.optimize import linprog\n",
    "\n",
    "def sbv(index,size):\n",
    "    return np.array([1.0 if i == index else 0.0 for i in range(size)])\n",
    "\n",
    "\n",
    "#lp = { \"goal\": \"maximize\",\n",
    "#       \"obj\": c,\n",
    "#       \"Aub\": A,\n",
    "#       \"bub\": b,\n",
    "#       \"bounds\": 3*[(0,None)]\n",
    "#     }\n",
    "\n",
    "# eqs should be a list of dictionaries\n",
    "# each dictionary has the form { index: i,\n",
    "#                                val: v  }\n",
    "# indicating the equality constraint x_i == v.\n",
    "\n",
    "def run_lp(lp,eqs= []):\n",
    "    n = len(lp[\"obj\"])\n",
    "    sgn = -1 if lp[\"goal\"] == \"maximize\" else +1\n",
    "\n",
    "    Aeq = [ sbv(ec[\"index\"],n) for ec in eqs ]\n",
    "    beq = [ ec[\"val\"] for ec in eqs ]\n",
    "\n",
    "    print(Aeq)\n",
    "    print(beq)\n",
    "    res = linprog(sgn*lp[\"obj\"], \n",
    "                  A_ub = lp[\"Aub\"],\n",
    "                  b_ub = lp[\"bub\"],\n",
    "                  A_eq = Aeq if not(Aeq==[]) else None,\n",
    "                  b_eq = beq if not(beq==[]) else None,\n",
    "                  bounds = lp[\"bounds\"])\n",
    "\n",
    "    return (res.fun, res.x)\n",
    "        \n",
    "c = np.array([3, 1.5, 2])\n",
    "\n",
    "A = np.array([[1, 1, 1],\n",
    "              [1, 1, 0]])\n",
    "\n",
    "b= np.array([2.5,1.5])\n",
    "\n",
    "\n",
    "lp = { \"goal\": \"maximize\",\n",
    "       \"obj\": c,\n",
    "       \"Aub\": A,\n",
    "       \"bub\": b,\n",
    "       \"bounds\": 3*[(0,None)]\n",
    "     }\n",
    "\n",
    "run_lp(lp)"
   ]
  },
  {
   "cell_type": "code",
   "execution_count": 29,
   "id": "e9ebcae7-16f1-4821-a83c-334dd37fe02b",
   "metadata": {},
   "outputs": [
    {
     "ename": "SyntaxError",
     "evalue": "incomplete input (872890788.py, line 1)",
     "output_type": "error",
     "traceback": [
      "\u001b[0;36m  Cell \u001b[0;32mIn[29], line 1\u001b[0;36m\u001b[0m\n\u001b[0;31m    [ run_lp(lp,[{index:1,val:0}])\u001b[0m\n\u001b[0m                                  ^\u001b[0m\n\u001b[0;31mSyntaxError\u001b[0m\u001b[0;31m:\u001b[0m incomplete input\n"
     ]
    }
   ],
   "source": [
    "[ run_lp(lp,[{index:1,val:0}])"
   ]
  },
  {
   "cell_type": "code",
   "execution_count": null,
   "id": "e0411443-3daf-481b-ad32-db0b123664cc",
   "metadata": {},
   "outputs": [],
   "source": []
  }
 ],
 "metadata": {
  "kernelspec": {
   "display_name": "Python 3 (ipykernel)",
   "language": "python",
   "name": "python3"
  },
  "language_info": {
   "codemirror_mode": {
    "name": "ipython",
    "version": 3
   },
   "file_extension": ".py",
   "mimetype": "text/x-python",
   "name": "python",
   "nbconvert_exporter": "python",
   "pygments_lexer": "ipython3",
   "version": "3.11.2"
  }
 },
 "nbformat": 4,
 "nbformat_minor": 5
}
