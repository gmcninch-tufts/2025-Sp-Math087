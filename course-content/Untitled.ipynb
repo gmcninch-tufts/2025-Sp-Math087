{
 "cells": [
  {
   "cell_type": "code",
   "execution_count": 1,
   "id": "4ba101f4-67de-42da-94fa-716e8ec94dbd",
   "metadata": {},
   "outputs": [
    {
     "data": {
      "text/plain": [
       "0.7999999999999998"
      ]
     },
     "execution_count": 1,
     "metadata": {},
     "output_type": "execute_result"
    }
   ],
   "source": [
    "-1 + .15*12\n"
   ]
  },
  {
   "cell_type": "code",
   "execution_count": 2,
   "id": "401b238a-ec6a-471f-8769-a45a9b70df02",
   "metadata": {},
   "outputs": [
    {
     "data": {
      "text/plain": [
       "-0.1515"
      ]
     },
     "execution_count": 2,
     "metadata": {},
     "output_type": "execute_result"
    }
   ],
   "source": [
    "-.15/100 - .15"
   ]
  },
  {
   "cell_type": "code",
   "execution_count": 3,
   "id": "5ff733e8-365c-4df8-b2e3-51a2bf1e7360",
   "metadata": {},
   "outputs": [],
   "source": [
    "r= .8/.15"
   ]
  },
  {
   "cell_type": "code",
   "execution_count": 4,
   "id": "693fd5a6-7df2-4aaf-a0af-9e9501b87762",
   "metadata": {},
   "outputs": [
    {
     "data": {
      "text/plain": [
       "5.333333333333334"
      ]
     },
     "execution_count": 4,
     "metadata": {},
     "output_type": "execute_result"
    }
   ],
   "source": [
    "r\n"
   ]
  },
  {
   "cell_type": "code",
   "execution_count": null,
   "id": "d3fac2a6-ee86-4665-ba10-12a698fdd88e",
   "metadata": {},
   "outputs": [],
   "source": []
  }
 ],
 "metadata": {
  "kernelspec": {
   "display_name": "Python 3 (ipykernel)",
   "language": "python",
   "name": "python3"
  },
  "language_info": {
   "codemirror_mode": {
    "name": "ipython",
    "version": 3
   },
   "file_extension": ".py",
   "mimetype": "text/x-python",
   "name": "python",
   "nbconvert_exporter": "python",
   "pygments_lexer": "ipython3",
   "version": "3.10.7"
  }
 },
 "nbformat": 4,
 "nbformat_minor": 5
}
