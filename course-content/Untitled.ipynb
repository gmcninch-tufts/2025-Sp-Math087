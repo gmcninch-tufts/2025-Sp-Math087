{
 "cells": [
  {
   "cell_type": "code",
   "execution_count": 1,
   "id": "8c015672-224a-4543-8aa3-7ce724b4bd74",
   "metadata": {},
   "outputs": [],
   "source": [
    "import numpy as np\n",
    "\n",
    "from numpy.random import default_rng\n",
    "rng = default_rng()\n"
   ]
  },
  {
   "cell_type": "code",
   "execution_count": 2,
   "id": "c0616d90-8436-45c7-ac7a-33776ff35a41",
   "metadata": {},
   "outputs": [],
   "source": [
    "def f(x): \n",
    "    return x**2"
   ]
  },
  {
   "cell_type": "code",
   "execution_count": 3,
   "id": "1e003477-cf96-40f6-be56-e59b03702020",
   "metadata": {},
   "outputs": [],
   "source": [
    "\n",
    "def get_random_points(a,b,N):\n",
    "    return a+(b-a)*rng.random(N)"
   ]
  },
  {
   "cell_type": "code",
   "execution_count": 20,
   "id": "009307a7-76ae-4b08-a4b3-ef18d5d5dc7d",
   "metadata": {},
   "outputs": [],
   "source": [
    "def approx_method_1(f,a,b,mu,N):\n",
    "    xs = get_random_points(a,b,N)\n",
    "    ys = get_random_points(0,mu,N)\n",
    "\n",
    "    M=len(list(filter(lambda z: z[1] <= f(z[0]),zip(xs,ys))))\n",
    "\n",
    "    return (b-a)*mu*M/N"
   ]
  },
  {
   "cell_type": "code",
   "execution_count": 24,
   "id": "7bcc6fd8-20df-4e86-91de-5ebf23c60215",
   "metadata": {},
   "outputs": [
    {
     "data": {
      "text/plain": [
       "0.504"
      ]
     },
     "execution_count": 24,
     "metadata": {},
     "output_type": "execute_result"
    }
   ],
   "source": [
    "approx_method_1(lambda x:x,0,1,1,1000)"
   ]
  },
  {
   "cell_type": "code",
   "execution_count": 25,
   "id": "7033de51-b2e3-4672-8d36-8f2c71031756",
   "metadata": {},
   "outputs": [],
   "source": [
    "def approx_method_2(f,a,b,N):\n",
    "    xs = get_random_points(a,b,N)\n",
    "    return (b-a)/N * sum(map(f,xs))"
   ]
  },
  {
   "cell_type": "code",
   "execution_count": 28,
   "id": "8cff8c0f-f461-4449-b85b-f959c971d00d",
   "metadata": {},
   "outputs": [
    {
     "data": {
      "text/plain": [
       "np.float64(0.5074600461174628)"
      ]
     },
     "execution_count": 28,
     "metadata": {},
     "output_type": "execute_result"
    }
   ],
   "source": [
    "approx_method_2(lambda x:x,0,1,1000)"
   ]
  },
  {
   "cell_type": "code",
   "execution_count": 29,
   "id": "76b6fbd6-bcac-4b01-b430-7faf86889648",
   "metadata": {},
   "outputs": [],
   "source": [
    "import pandas as pd"
   ]
  },
  {
   "cell_type": "code",
   "execution_count": 33,
   "id": "ac25f9f1-c4be-4760-a048-7325d0a95129",
   "metadata": {},
   "outputs": [
    {
     "data": {
      "text/html": [
       "<div>\n",
       "<style scoped>\n",
       "    .dataframe tbody tr th:only-of-type {\n",
       "        vertical-align: middle;\n",
       "    }\n",
       "\n",
       "    .dataframe tbody tr th {\n",
       "        vertical-align: top;\n",
       "    }\n",
       "\n",
       "    .dataframe thead th {\n",
       "        text-align: right;\n",
       "    }\n",
       "</style>\n",
       "<table border=\"1\" class=\"dataframe\">\n",
       "  <thead>\n",
       "    <tr style=\"text-align: right;\">\n",
       "      <th></th>\n",
       "      <th>0</th>\n",
       "    </tr>\n",
       "  </thead>\n",
       "  <tbody>\n",
       "    <tr>\n",
       "      <th>0</th>\n",
       "      <td>0.341</td>\n",
       "    </tr>\n",
       "    <tr>\n",
       "      <th>1</th>\n",
       "      <td>0.329</td>\n",
       "    </tr>\n",
       "    <tr>\n",
       "      <th>2</th>\n",
       "      <td>0.353</td>\n",
       "    </tr>\n",
       "    <tr>\n",
       "      <th>3</th>\n",
       "      <td>0.338</td>\n",
       "    </tr>\n",
       "    <tr>\n",
       "      <th>4</th>\n",
       "      <td>0.348</td>\n",
       "    </tr>\n",
       "    <tr>\n",
       "      <th>5</th>\n",
       "      <td>0.342</td>\n",
       "    </tr>\n",
       "    <tr>\n",
       "      <th>6</th>\n",
       "      <td>0.325</td>\n",
       "    </tr>\n",
       "    <tr>\n",
       "      <th>7</th>\n",
       "      <td>0.317</td>\n",
       "    </tr>\n",
       "    <tr>\n",
       "      <th>8</th>\n",
       "      <td>0.306</td>\n",
       "    </tr>\n",
       "    <tr>\n",
       "      <th>9</th>\n",
       "      <td>0.331</td>\n",
       "    </tr>\n",
       "    <tr>\n",
       "      <th>10</th>\n",
       "      <td>0.342</td>\n",
       "    </tr>\n",
       "    <tr>\n",
       "      <th>11</th>\n",
       "      <td>0.314</td>\n",
       "    </tr>\n",
       "    <tr>\n",
       "      <th>12</th>\n",
       "      <td>0.332</td>\n",
       "    </tr>\n",
       "    <tr>\n",
       "      <th>13</th>\n",
       "      <td>0.351</td>\n",
       "    </tr>\n",
       "    <tr>\n",
       "      <th>14</th>\n",
       "      <td>0.351</td>\n",
       "    </tr>\n",
       "    <tr>\n",
       "      <th>15</th>\n",
       "      <td>0.362</td>\n",
       "    </tr>\n",
       "    <tr>\n",
       "      <th>16</th>\n",
       "      <td>0.321</td>\n",
       "    </tr>\n",
       "    <tr>\n",
       "      <th>17</th>\n",
       "      <td>0.309</td>\n",
       "    </tr>\n",
       "    <tr>\n",
       "      <th>18</th>\n",
       "      <td>0.352</td>\n",
       "    </tr>\n",
       "    <tr>\n",
       "      <th>19</th>\n",
       "      <td>0.342</td>\n",
       "    </tr>\n",
       "  </tbody>\n",
       "</table>\n",
       "</div>"
      ],
      "text/plain": [
       "        0\n",
       "0   0.341\n",
       "1   0.329\n",
       "2   0.353\n",
       "3   0.338\n",
       "4   0.348\n",
       "5   0.342\n",
       "6   0.325\n",
       "7   0.317\n",
       "8   0.306\n",
       "9   0.331\n",
       "10  0.342\n",
       "11  0.314\n",
       "12  0.332\n",
       "13  0.351\n",
       "14  0.351\n",
       "15  0.362\n",
       "16  0.321\n",
       "17  0.309\n",
       "18  0.352\n",
       "19  0.342"
      ]
     },
     "execution_count": 33,
     "metadata": {},
     "output_type": "execute_result"
    }
   ],
   "source": [
    "trial = pd.DataFrame([ approx_method_1(f,0,1,1,1000) for t in range(20)])\n",
    "trial"
   ]
  },
  {
   "cell_type": "code",
   "execution_count": 35,
   "id": "e62bcb2b-e708-4b30-aff6-74abb2c0160a",
   "metadata": {},
   "outputs": [
    {
     "data": {
      "text/plain": [
       "[0    0.3353\n",
       " dtype: float64,\n",
       " 0    0.015981\n",
       " dtype: float64]"
      ]
     },
     "execution_count": 35,
     "metadata": {},
     "output_type": "execute_result"
    }
   ],
   "source": [
    "[trial.mean(), trial.std() ]"
   ]
  },
  {
   "cell_type": "code",
   "execution_count": 36,
   "id": "9cd81699-35cf-4502-b63b-43fa834a8bc5",
   "metadata": {},
   "outputs": [
    {
     "name": "stdout",
     "output_type": "stream",
     "text": [
      "0    0.015981\n",
      "dtype: float64\n"
     ]
    }
   ],
   "source": [
    "print(trial.std())"
   ]
  },
  {
   "cell_type": "code",
   "execution_count": null,
   "id": "5c92ddf3-b27d-485a-a742-bdf463b7a2d3",
   "metadata": {},
   "outputs": [],
   "source": []
  }
 ],
 "metadata": {
  "kernelspec": {
   "display_name": "Python 3 (ipykernel)",
   "language": "python",
   "name": "python3"
  },
  "language_info": {
   "codemirror_mode": {
    "name": "ipython",
    "version": 3
   },
   "file_extension": ".py",
   "mimetype": "text/x-python",
   "name": "python",
   "nbconvert_exporter": "python",
   "pygments_lexer": "ipython3",
   "version": "3.11.2"
  }
 },
 "nbformat": 4,
 "nbformat_minor": 5
}
