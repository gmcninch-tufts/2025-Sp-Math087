{
 "cells": [
  {
   "cell_type": "code",
   "execution_count": 1,
   "id": "9679b6e1-fc22-479c-8685-f708f3ee281f",
   "metadata": {},
   "outputs": [],
   "source": [
    "#lang iracket/lang #:require racket\n",
    "\n",
    "(require flomat)"
   ]
  },
  {
   "cell_type": "code",
   "execution_count": 34,
   "id": "5f651e9a-bbaa-4724-881d-a3ecface7f6a",
   "metadata": {},
   "outputs": [],
   "source": [
    "(define A (matrix '[[1/2 1/3] [4 5]]))\n",
    "\n",
    "(define B (matrix '[[1 1] [0 1]]))\n",
    "\n",
    "(define C (matrix '[[1 1 1] [1 2 0]]))\n",
    "\n",
    "(define v (column 1 0))\n",
    "\n",
    "(define w (matrix '((10 -10))))"
   ]
  },
  {
   "cell_type": "code",
   "execution_count": 29,
   "id": "322e1a39-4c5f-443e-83c8-d61cf75075f5",
   "metadata": {},
   "outputs": [
    {
     "data": {
      "text/html": [
       "<code>'((flomat: ((1.0) (0.0))) (flomat: ((1.0 0.0))))</code>"
      ],
      "text/plain": [
       "'((flomat: ((1.0) (0.0))) (flomat: ((1.0 0.0))))"
      ]
     },
     "execution_count": 29,
     "metadata": {},
     "output_type": "execute_result"
    }
   ],
   "source": [
    "(list v (transpose v))"
   ]
  },
  {
   "cell_type": "code",
   "execution_count": 3,
   "id": "04b61a0b-a612-49d6-baf3-f94570b3a80f",
   "metadata": {},
   "outputs": [
    {
     "data": {
      "text/html": [
       "<code>(flomat: ((0.5 0.3333333333333333) (4.0 5.0)))</code>"
      ],
      "text/plain": [
       "(flomat: ((0.5 0.3333333333333333) (4.0 5.0)))"
      ]
     },
     "execution_count": 3,
     "metadata": {},
     "output_type": "execute_result"
    }
   ],
   "source": [
    "A"
   ]
  },
  {
   "cell_type": "code",
   "execution_count": 13,
   "id": "f06a6151-bcc8-4b97-a7ad-87b4f929d4da",
   "metadata": {},
   "outputs": [
    {
     "data": {
      "text/html": [
       "<code>(flomat: ((1.5 1.3333333333333333) (4.0 6.0)))</code>"
      ],
      "text/plain": [
       "(flomat: ((1.5 1.3333333333333333) (4.0 6.0)))"
      ]
     },
     "execution_count": 13,
     "metadata": {},
     "output_type": "execute_result"
    }
   ],
   "source": [
    "(plus A B)"
   ]
  },
  {
   "cell_type": "code",
   "execution_count": 7,
   "id": "fa0e0adb-fde5-461e-a9e5-2100e42502b6",
   "metadata": {},
   "outputs": [
    {
     "data": {
      "text/html": [
       "<code>(flomat: ((0.5 0.8333333333333333) (4.0 9.0)))</code>"
      ],
      "text/plain": [
       "(flomat: ((0.5 0.8333333333333333) (4.0 9.0)))"
      ]
     },
     "execution_count": 7,
     "metadata": {},
     "output_type": "execute_result"
    }
   ],
   "source": [
    "(times A B)"
   ]
  },
  {
   "cell_type": "code",
   "execution_count": 28,
   "id": "d99a1820-2894-42cb-b57e-a7d301aa1cad",
   "metadata": {},
   "outputs": [
    {
     "data": {
      "text/html": [
       "<code>(flomat: ((0.5) (4.0)))</code>"
      ],
      "text/plain": [
       "(flomat: ((0.5) (4.0)))"
      ]
     },
     "execution_count": 28,
     "metadata": {},
     "output_type": "execute_result"
    }
   ],
   "source": [
    "(times A v)"
   ]
  },
  {
   "cell_type": "code",
   "execution_count": 35,
   "id": "af859144-e91c-4eb2-b68f-7f462e5963c6",
   "metadata": {},
   "outputs": [
    {
     "data": {
      "text/html": [
       "<code>(flomat: ((-35.0 -46.666666666666664)))</code>"
      ],
      "text/plain": [
       "(flomat: ((-35.0 -46.666666666666664)))"
      ]
     },
     "execution_count": 35,
     "metadata": {},
     "output_type": "execute_result"
    }
   ],
   "source": [
    "(times w A)"
   ]
  },
  {
   "cell_type": "code",
   "execution_count": 12,
   "id": "522d97ec-f1d1-412f-bd70-b71692c1dcef",
   "metadata": {},
   "outputs": [
    {
     "data": {
      "text/html": [
       "<code>(flomat: ((2.0 3.0 1.0) (1.0 2.0 0.0)))</code>"
      ],
      "text/plain": [
       "(flomat: ((2.0 3.0 1.0) (1.0 2.0 0.0)))"
      ]
     },
     "execution_count": 12,
     "metadata": {},
     "output_type": "execute_result"
    }
   ],
   "source": [
    "(times B C)"
   ]
  },
  {
   "cell_type": "code",
   "execution_count": 17,
   "id": "fb26ebaf-482e-4f7b-ba83-c9c707068ee9",
   "metadata": {},
   "outputs": [
    {
     "data": {
      "text/html": [
       "<code>(flomat: ((3.0 4.0 2.0) (2.0 4.0 0.0)))</code>"
      ],
      "text/plain": [
       "(flomat: ((3.0 4.0 2.0) (2.0 4.0 0.0)))"
      ]
     },
     "execution_count": 17,
     "metadata": {},
     "output_type": "execute_result"
    }
   ],
   "source": [
    "(plus C (times B C))"
   ]
  },
  {
   "cell_type": "code",
   "execution_count": 18,
   "id": "6895044d-8bda-4fdb-991f-a597490e9998",
   "metadata": {},
   "outputs": [
    {
     "data": {
      "text/html": [
       "<code>'#(0.2210015157510803 5.27899848424892)</code>"
      ],
      "text/plain": [
       "'#(0.2210015157510803 5.27899848424892)"
      ]
     },
     "execution_count": 18,
     "metadata": {},
     "output_type": "execute_result"
    },
    {
     "data": {
      "text/html": [
       "<code>(flomat: ((-0.7668383834739328 -0.06958057134477617) (0.6418402399593574 -0.9975763349695774)))</code>"
      ],
      "text/plain": [
       "(flomat: ((-0.7668383834739328 -0.06958057134477617) (0.6418402399593574 -0.9975763349695774)))"
      ]
     },
     "execution_count": 18,
     "metadata": {},
     "output_type": "execute_result"
    }
   ],
   "source": [
    "(eig A)"
   ]
  },
  {
   "cell_type": "code",
   "execution_count": null,
   "id": "2b6a560f-e105-4fb9-b8a6-4090428ce105",
   "metadata": {},
   "outputs": [],
   "source": []
  }
 ],
 "metadata": {
  "kernelspec": {
   "display_name": "Racket",
   "language": "racket",
   "name": "racket"
  },
  "language_info": {
   "codemirror_mode": "scheme",
   "file_extension": ".rkt",
   "mimetype": "text/x-racket",
   "name": "Racket",
   "pygments_lexer": "racket",
   "version": "8.15"
  }
 },
 "nbformat": 4,
 "nbformat_minor": 5
}
