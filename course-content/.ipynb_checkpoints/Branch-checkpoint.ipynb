{
 "cells": [
  {
   "cell_type": "code",
   "execution_count": 16,
   "id": "8c7b997c-4837-46b5-8139-bc540bd63fa5",
   "metadata": {},
   "outputs": [
    {
     "data": {
      "text/plain": [
       "        message: Optimization terminated successfully. (HiGHS Status 7: Optimal)\n",
       "        success: True\n",
       "         status: 0\n",
       "            fun: -6.5\n",
       "              x: [ 1.500e+00  0.000e+00  1.000e+00]\n",
       "            nit: 0\n",
       "          lower:  residual: [ 1.500e+00  0.000e+00  1.000e+00]\n",
       "                 marginals: [ 0.000e+00  1.500e+00  0.000e+00]\n",
       "          upper:  residual: [       inf        inf        inf]\n",
       "                 marginals: [ 0.000e+00  0.000e+00  0.000e+00]\n",
       "          eqlin:  residual: []\n",
       "                 marginals: []\n",
       "        ineqlin:  residual: [ 0.000e+00  0.000e+00]\n",
       "                 marginals: [-2.000e+00 -1.000e+00]\n",
       " mip_node_count: 0\n",
       " mip_dual_bound: 0.0\n",
       "        mip_gap: 0.0"
      ]
     },
     "execution_count": 16,
     "metadata": {},
     "output_type": "execute_result"
    }
   ],
   "source": [
    "import numpy as np\n",
    "\n",
    "from scipy.optimize import linprog\n",
    "\n",
    "def sbv(index,size):\n",
    "    return np.array([1.0 if i == index else 0.0 for i in range(size)])\n",
    "\n",
    "c = np.array([3, 1.5, 2])\n",
    "\n",
    "A = np.array([[1, 1, 1],\n",
    "              [1, 1, 0]])\n",
    "\n",
    "b= np.array([2.5,1.5])\n",
    "\n",
    "\n",
    "lp = { \"goal\": \"maximize\",\n",
    "       \"obj\": c,\n",
    "       \"Aub\": A,\n",
    "       \"bub\": b,\n",
    "       \"bounds\": 3*[(0,None)]\n",
    "     }\n",
    "\n",
    "relaxed_top = linprog((-1)*lp[\"obj\"], \n",
    "                      A_ub=lp[\"Aub\"],\n",
    "                      b_ub=lp[\"bub\"],\n",
    "                      bounds=lp[\"bounds\"])\n",
    "\n",
    "relaxed_top"
   ]
  },
  {
   "cell_type": "code",
   "execution_count": null,
   "id": "e0411443-3daf-481b-ad32-db0b123664cc",
   "metadata": {},
   "outputs": [],
   "source": []
  }
 ],
 "metadata": {
  "kernelspec": {
   "display_name": "Python 3 (ipykernel)",
   "language": "python",
   "name": "python3"
  },
  "language_info": {
   "codemirror_mode": {
    "name": "ipython",
    "version": 3
   },
   "file_extension": ".py",
   "mimetype": "text/x-python",
   "name": "python",
   "nbconvert_exporter": "python",
   "pygments_lexer": "ipython3",
   "version": "3.11.2"
  }
 },
 "nbformat": 4,
 "nbformat_minor": 5
}
