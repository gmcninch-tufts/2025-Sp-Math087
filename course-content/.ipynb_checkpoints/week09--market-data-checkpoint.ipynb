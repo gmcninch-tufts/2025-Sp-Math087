{
 "cells": [
  {
   "cell_type": "code",
   "execution_count": 32,
   "id": "7fe4462f-893b-4fc2-9fc3-eb60566dd10f",
   "metadata": {},
   "outputs": [],
   "source": [
    "import pandas as pd\n",
    "import numpy as np\n",
    "\n",
    "import json\n",
    "\n",
    "\n",
    "def read_json(filename):\n",
    "    with open(filename) as f:\n",
    "        return json.load(f)\n",
    "\n",
    "def write_json(filename,data):\n",
    "    with open(filename,'w') as f:\n",
    "        json.dump(data,f,indent=3)\n"
   ]
  },
  {
   "cell_type": "code",
   "execution_count": 55,
   "id": "b75bc9eb-fb5c-4d2f-a2e4-3b12dd3f3c50",
   "metadata": {},
   "outputs": [],
   "source": [
    "\n",
    "import os\n",
    "os.chdir('/home/george/Prof-VC/classes-and-advising/2025-Sp-Math087/course-content/')\n",
    "\n",
    "# this `json` file contains 20 years of (fictional) market state\n",
    "\n",
    "a = np.array(read_json('./week09--data-market.json'))\n"
   ]
  },
  {
   "cell_type": "code",
   "execution_count": 63,
   "id": "1057501c-bf54-4dc7-b1da-517569f58527",
   "metadata": {},
   "outputs": [],
   "source": [
    "def get_indices(a,state):\n",
    "    return np.array([i for i in range(len(a)) if a[i] == state ])"
   ]
  },
  {
   "cell_type": "code",
   "execution_count": 65,
   "id": "72e09fcf-970a-4b93-a320-d59c59765f0e",
   "metadata": {},
   "outputs": [
    {
     "data": {
      "text/plain": [
       "array([   1,    3,   15,   33,   41,   47,   51,   52,   59,   65,   70,\n",
       "         72,   74,   79,   88,   91,  110,  122,  130,  137,  144,  145,\n",
       "        148,  150,  163,  173,  174,  175,  177,  180,  183,  189,  209,\n",
       "        215,  219,  225,  235,  240,  258,  262,  274,  276,  278,  286,\n",
       "        288,  291,  292,  293,  299,  308,  319,  331,  332,  336,  340,\n",
       "        358,  361,  368,  371,  372,  381,  405,  417,  421,  425,  431,\n",
       "        432,  433,  439,  442,  457,  459,  465,  474,  478,  481,  485,\n",
       "        489,  494,  496,  506,  509,  514,  520,  523,  527,  528,  535,\n",
       "        542,  543,  545,  558,  581,  601,  604,  630,  631,  653,  658,\n",
       "        661,  666,  669,  670,  672,  677,  688,  691,  703,  720,  721,\n",
       "        725,  734,  735,  744,  755,  757,  758,  759,  762,  767,  770,\n",
       "        780,  783,  790,  810,  819,  822,  827,  831,  835,  846,  851,\n",
       "        852,  860,  888,  896,  908,  936,  945,  955,  956,  959,  994,\n",
       "       1000, 1019, 1028, 1035])"
      ]
     },
     "execution_count": 65,
     "metadata": {},
     "output_type": "execute_result"
    }
   ],
   "source": [
    "get_indices(a,'recess')"
   ]
  },
  {
   "cell_type": "code",
   "execution_count": 106,
   "id": "1ec8c7bb-1341-432a-b5ee-65ca134554fd",
   "metadata": {},
   "outputs": [],
   "source": [
    "states = [ 'bull', 'bear', 'recess' ]\n",
    "\n",
    "def get_next_week_probs(a,state):\n",
    "    inds = get_indices(a,state)\n",
    "    \n",
    "    if (len(a)-1) in inds:\n",
    "         n=len(inds)-1\n",
    "    else:\n",
    "         n=len(inds)\n",
    "    N = len(a)\n",
    "\n",
    "    # get the list of states for weeks following weeks of the input state\n",
    "    nxt = { ns: [ i for i in inds if i+1<N and a[i+1] == ns] for ns in states }\n",
    "    \n",
    "    return { ns: len(nxt[ns])/n for ns in states }"
   ]
  },
  {
   "cell_type": "code",
   "execution_count": 109,
   "id": "8cab7505-edfe-469c-be59-1dd7f502bc9a",
   "metadata": {},
   "outputs": [
    {
     "data": {
      "text/plain": [
       "{'bull': 0.5920398009950248,\n",
       " 'bear': 0.2752902155887231,\n",
       " 'recess': 0.13266998341625208}"
      ]
     },
     "execution_count": 109,
     "metadata": {},
     "output_type": "execute_result"
    }
   ],
   "source": [
    "pbull = get_next_week_probs(a,'bull')\n",
    "pbull"
   ]
  },
  {
   "cell_type": "code",
   "execution_count": 110,
   "id": "75626cbe-72b6-4c92-942d-80653b8435a6",
   "metadata": {},
   "outputs": [
    {
     "data": {
      "text/plain": [
       "1.0"
      ]
     },
     "execution_count": 110,
     "metadata": {},
     "output_type": "execute_result"
    }
   ],
   "source": [
    "sum([ pbull[i] for i in pbull.keys() ])"
   ]
  },
  {
   "cell_type": "code",
   "execution_count": 114,
   "id": "0072c334-d6fd-4c6b-9a84-6a446a1bfa3a",
   "metadata": {},
   "outputs": [
    {
     "data": {
      "text/plain": [
       "array([[0.5920398 , 0.57093426, 0.55102041],\n",
       "       [0.27529022, 0.26643599, 0.31292517],\n",
       "       [0.13266998, 0.16262976, 0.13605442]])"
      ]
     },
     "execution_count": 114,
     "metadata": {},
     "output_type": "execute_result"
    }
   ],
   "source": [
    "pmat = np.array([ [get_next_week_probs(a,w)[nw] for w in states] for nw in states ])\n",
    "pmat"
   ]
  },
  {
   "cell_type": "code",
   "execution_count": null,
   "id": "328b4f32-359f-433c-a318-f9042a48f035",
   "metadata": {},
   "outputs": [],
   "source": []
  }
 ],
 "metadata": {
  "kernelspec": {
   "display_name": "Python 3 (ipykernel)",
   "language": "python",
   "name": "python3"
  },
  "language_info": {
   "codemirror_mode": {
    "name": "ipython",
    "version": 3
   },
   "file_extension": ".py",
   "mimetype": "text/x-python",
   "name": "python",
   "nbconvert_exporter": "python",
   "pygments_lexer": "ipython3",
   "version": "3.11.2"
  }
 },
 "nbformat": 4,
 "nbformat_minor": 5
}
