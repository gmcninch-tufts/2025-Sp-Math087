{
 "cells": [
  {
   "cell_type": "markdown",
   "id": "172f46aa-dde9-4ba7-bf26-29f53bdd28cd",
   "metadata": {},
   "source": [
    "# [George McNinch](http://gmcninch.math.tufts.edu) Math 87 - Spring 2025\n",
    "\n",
    "# Week 5 - Last week's Restaurant network flow example recapitulated\n"
   ]
  },
  {
   "cell_type": "markdown",
   "id": "984c48ef-af01-4a3f-a19e-a05cdd283781",
   "metadata": {},
   "source": [
    "I'd like to recapitulate the \"restaurant tablecloths\" example, to show you a bit more of how we've represented the data\n",
    "describing the linear program that we use as parameters for the `linprog` function.\n",
    "\n",
    "So: we need the objective function, a vector `c`.\n",
    "\n",
    "And we need our inequality constraints, determined by a matrix `Aub` and a vector `bub`\n",
    "\n",
    "And we need equality constraints (coming from the conservation laws). These are described by a matrix `Aeq` and a vector `beq` (in fact, `beq` is the zero vector of the right size)."
   ]
  },
  {
   "cell_type": "markdown",
   "id": "fa7e5528-e616-4f94-8fc7-54689d6cb20e",
   "metadata": {},
   "source": [
    "We first import the code we used to solve `network flow` problems. This main function is `runNetworkFlow` which takes as arguments\n",
    "`vertices` and `edges`.\n",
    "\n",
    "Here `vertices` should be a list of `strings`.\n",
    "\n",
    "And `edges` should be a list of `python dictionaries` each of the form:\n",
    "\n",
    "```\n",
    " { \"from\": \"from vertex\",\n",
    "   \"to\":   \"to vertex\",\n",
    "   \"label\": \"edge label\",\n",
    "   \"weight\": 0,\n",
    "   # \"lower\": 0,\n",
    "   # \"upper\": np.inf\n",
    "    }\n",
    "```\n",
    "\n",
    "where `lower` and or `upper` may be omitted.\n",
    "\n",
    "My goal here is to show you how we can extract `c`, `Aub`, `bub`, etc. from the data `vertices` and `edges`.\n",
    "(Of course, this is precisely what the `runNetworkFlow` function does).\n",
    "\n",
    "Here is the code, copied from the previous notebook:"
   ]
  },
  {
   "cell_type": "code",
   "execution_count": 49,
   "id": "fe93f578-2ef8-4eb4-b8f2-09e5a5b9cf26",
   "metadata": {},
   "outputs": [],
   "source": [
    "import numpy as np\n",
    "from scipy.optimize import linprog\n",
    "from pprint import pprint\n",
    "\n",
    "float_formatter = \"{:.2f}\".format\n",
    "np.set_printoptions(formatter={'float_kind':float_formatter})\n",
    "\n",
    "import math\n",
    "\n",
    "\n",
    "def sbv(index,size):\n",
    "    return np.array([1.0 if i == index else 0.0 for i in range(size)])\n",
    "\n",
    "# objective vector \n",
    "def objective(edges):\n",
    "    return sum([e[\"weight\"]*sbv(edges.index(e),len(edges)) for e in edges])\n",
    "\n",
    "def getIncoming(vertex,edges):\n",
    "    return [ e for e in edges if e[\"to\"] == vertex ]\n",
    "    \n",
    "def getOutgoing(vertex,edges):\n",
    "    return [ e for e in edges if e[\"from\"] == vertex ] \n",
    "\n",
    "def isSource(vertex,edges):\n",
    "    return getIncoming(vertex,edges) == []\n",
    "\n",
    "def isSink(vertex,edges):\n",
    "    return getOutgoing(vertex,edges) == []\n",
    "\n",
    "def interiorVertices(vertices,edges):\n",
    "    return [ v for v in vertices if not( isSource(v,edges) or isSink(v,edges) ) ]\n",
    "\n",
    "def conservationLaw(vertex,edges):\n",
    "    ii = sum([ sbv(edges.index(e),len(edges)) for e in getIncoming(vertex,edges) ])\n",
    "    oo = sum([ sbv(edges.index(e),len(edges)) for e in getOutgoing(vertex,edges) ])\n",
    "    return ii - oo\n",
    "\n",
    "def conservationMatrix(vertices,edges):\n",
    "    return np.array([conservationLaw(v,edges) for v in interiorVertices(vertices,edges) ])\n",
    "\n",
    "\n",
    "def lowerBound(edge):\n",
    "    if 'lower' in edge.keys():\n",
    "        return edge['lower']\n",
    "    else:\n",
    "        return -math.inf\n",
    "\n",
    "def upperBound(edge):\n",
    "    if 'upper' in edge.keys():\n",
    "        return edge['upper']\n",
    "    else:\n",
    "        return math.inf\n",
    "\n",
    "def ineqConstraints(edges):\n",
    "    m = np.array([*[ sbv(edges.index(e),len(edges)) \n",
    "                     for e in edges \n",
    "                     if not upperBound(e) == math.inf ],\n",
    "                  *[ -sbv(edges.index(e),len(edges))\n",
    "                     for e in edges\n",
    "                     if not lowerBound(e) == -math.inf ]\n",
    "                 ])\n",
    "    \n",
    "    b = np.array([ *[ upperBound(e) \n",
    "                      for e in edges \n",
    "                      if not upperBound(e) == math.inf],\n",
    "                   *[ -lowerBound(e) \n",
    "                      for e in edges \n",
    "                      if not lowerBound(e) == -math.inf]\n",
    "                 ])\n",
    "\n",
    "    return m,b\n",
    "\n",
    "def reportEdge(edge):\n",
    "    if \"label\" in edge.keys():\n",
    "        return f\"{edge['label']} ({edge['from']} --> {edge['to']})\"\n",
    "    else:\n",
    "        return f\"     ({edge['from']} --> {edge['to']})\"\n",
    " \n",
    "\n",
    "def runNetworkFlow(vertices,edges,maximize=False):\n",
    "    obj = objective(edges)\n",
    "    Aeq = conservationMatrix(vertices,edges)\n",
    "    Aub,bub = ineqConstraints(edges)\n",
    "\n",
    "    beq = np.zeros(len(interiorVertices(vertices,edges)))\n",
    "\n",
    "    sgn = -1 if maximize else 1\n",
    "    \n",
    "    lr  = linprog(sgn*obj,\n",
    "                  A_eq = Aeq,\n",
    "                  b_eq = beq,\n",
    "                  A_ub = Aub,\n",
    "                  b_ub = bub\n",
    "                  )\n",
    "    if lr.success:\n",
    "        optimal_value = sgn*lr.fun\n",
    "        return [ f\"optimal value: {optimal_value}\" ] + [ (reportEdge(e), float(lr.x[edges.index(e)])) for e in edges] \n",
    "    else:\n",
    "        print(\"Linear program failed\")\n",
    "    "
   ]
  },
  {
   "cell_type": "markdown",
   "id": "45fdfee3-eebf-40a4-9655-bc5fb42a9a79",
   "metadata": {},
   "source": [
    "And here is the code describing the `vertices` and `edges` for the restaurant example:"
   ]
  },
  {
   "cell_type": "code",
   "execution_count": 3,
   "id": "c03f17a5-62b3-4c6e-9c78-b24e8297e60f",
   "metadata": {},
   "outputs": [],
   "source": [
    "\n",
    "# usage requirements\n",
    "\n",
    "tt = {1: 10,  \n",
    "      2: 10,  \n",
    "      3: 15,  \n",
    "      4: 20,  \n",
    "      5: 40,  \n",
    "      6: 40,  \n",
    "      7: 30 \n",
    "     }\n",
    "\n",
    "\n",
    "source = [ 'source' ]\n",
    "cleanVert = [ f\"day {n} clean\" for n in range(1,8) ]\n",
    "usedVert = [ f\"day {n} used\" for n in range(1,8) ]\n",
    "\n",
    "# in python, addition of lists amounts to concatentation\n",
    "# e.g. [1,2] + [3,4] = [1,2,3,4].\n",
    "#\n",
    "restaurant_vertices = source + cleanVert + usedVert\n",
    "\n",
    "\n",
    "edges_from_source = [ {\"from\": 'source',\n",
    "                       \"to\": f\"day {n} clean\",\n",
    "                       'label': \"purchase\",\n",
    "                       \"weight\": 5} \n",
    "                       for n in range(1,8)\n",
    "                    ] \n",
    "\n",
    "edges_carryover = [ {\"from\": f\"day {n} clean\",\n",
    "                     \"to\":   f\"day {n+1} clean\",\n",
    "                     \"label\": \"carryover\",\n",
    "                     \"weight\": 0\n",
    "                    }\n",
    "                    for n in range(1,7)\n",
    "                    ]\n",
    "\n",
    "edges_use = [ { \"from\": f\"day {n} clean\",\n",
    "                \"to\":   f\"day {n} used\",\n",
    "                \"label\": \"tablecloth use\",\n",
    "                \"weight\": 0,\n",
    "                \"lower\": tt[n]\n",
    "                }\n",
    "                for n in range(1,8)\n",
    "            ]\n",
    "edges_fast_laundry = [ { \"from\": f\"day {n} used\",\n",
    "                         \"to\": f\"day {n+1} clean\",\n",
    "                         \"label\": \"fast laundry\",\n",
    "                         \"weight\": 2\n",
    "                       }\n",
    "                       for n in range(1,7)\n",
    "                     ]\n",
    "\n",
    "edges_slow_laundry = [ { \"from\": f\"day {n} used\",\n",
    "                         \"to\":   f\"day {n+2} clean\",\n",
    "                         \"label\": \"slow laundry\",\n",
    "                         \"weight\": 1\n",
    "                         }\n",
    "                        for n in range(1,6)\n",
    "                    ]\n",
    "\n",
    "restaurant_edges = edges_from_source + edges_carryover + edges_use + edges_fast_laundry + edges_slow_laundry\n"
   ]
  },
  {
   "cell_type": "markdown",
   "id": "a9a20e9d-a84c-48e9-af90-8e766dbfca68",
   "metadata": {},
   "source": [
    "We keep the edges in the list `restaurant_edges`. We can see in what order the edges appear as follows:"
   ]
  },
  {
   "cell_type": "code",
   "execution_count": 7,
   "id": "46f0da59-ec70-47da-84cd-6c3fdaa895a6",
   "metadata": {},
   "outputs": [
    {
     "name": "stdout",
     "output_type": "stream",
     "text": [
      "source -> day 1 clean\n",
      "source -> day 2 clean\n",
      "source -> day 3 clean\n",
      "source -> day 4 clean\n",
      "source -> day 5 clean\n",
      "source -> day 6 clean\n",
      "source -> day 7 clean\n",
      "day 1 clean -> day 2 clean\n",
      "day 2 clean -> day 3 clean\n",
      "day 3 clean -> day 4 clean\n",
      "day 4 clean -> day 5 clean\n",
      "day 5 clean -> day 6 clean\n",
      "day 6 clean -> day 7 clean\n",
      "day 1 clean -> day 1 used\n",
      "day 2 clean -> day 2 used\n",
      "day 3 clean -> day 3 used\n",
      "day 4 clean -> day 4 used\n",
      "day 5 clean -> day 5 used\n",
      "day 6 clean -> day 6 used\n",
      "day 7 clean -> day 7 used\n",
      "day 1 used -> day 2 clean\n",
      "day 2 used -> day 3 clean\n",
      "day 3 used -> day 4 clean\n",
      "day 4 used -> day 5 clean\n",
      "day 5 used -> day 6 clean\n",
      "day 6 used -> day 7 clean\n",
      "day 1 used -> day 3 clean\n",
      "day 2 used -> day 4 clean\n",
      "day 3 used -> day 5 clean\n",
      "day 4 used -> day 6 clean\n",
      "day 5 used -> day 7 clean\n"
     ]
    }
   ],
   "source": [
    "for e in restaurant_edges:\n",
    "    print(f\"{e['from']} -> {e['to']}\")"
   ]
  },
  {
   "cell_type": "markdown",
   "id": "96d90482-12b6-4c1d-8a54-6f04f8836235",
   "metadata": {},
   "source": [
    "And we can see the *objective function*:\n"
   ]
  },
  {
   "cell_type": "code",
   "execution_count": 42,
   "id": "c51ca6b2-d4dd-4786-a84e-5195106401e6",
   "metadata": {},
   "outputs": [
    {
     "data": {
      "text/plain": [
       "array([5.00, 5.00, 5.00, 5.00, 5.00, 5.00, 5.00, 0.00, 0.00, 0.00, 0.00,\n",
       "       0.00, 0.00, 0.00, 0.00, 0.00, 0.00, 0.00, 0.00, 0.00, 2.00, 2.00,\n",
       "       2.00, 2.00, 2.00, 2.00, 1.00, 1.00, 1.00, 1.00, 1.00])"
      ]
     },
     "execution_count": 42,
     "metadata": {},
     "output_type": "execute_result"
    }
   ],
   "source": [
    "c=objective(restaurant_edges)\n",
    "c"
   ]
  },
  {
   "cell_type": "markdown",
   "id": "a1ad5d69-b0a3-48a4-ad91-c2a5e6ad081c",
   "metadata": {},
   "source": [
    "We can see the *conservation matrix*:"
   ]
  },
  {
   "cell_type": "code",
   "execution_count": 43,
   "id": "9e92e4db-8e40-4cc7-9929-817c39709112",
   "metadata": {},
   "outputs": [
    {
     "data": {
      "text/plain": [
       "(array([[1.00, 0.00, 0.00, 0.00, 0.00, 0.00, 0.00, -1.00, 0.00, 0.00,\n",
       "         0.00, 0.00, 0.00, -1.00, 0.00, 0.00, 0.00, 0.00, 0.00, 0.00,\n",
       "         0.00, 0.00, 0.00, 0.00, 0.00, 0.00, 0.00, 0.00, 0.00, 0.00, 0.00],\n",
       "        [0.00, 1.00, 0.00, 0.00, 0.00, 0.00, 0.00, 1.00, -1.00, 0.00,\n",
       "         0.00, 0.00, 0.00, 0.00, -1.00, 0.00, 0.00, 0.00, 0.00, 0.00,\n",
       "         1.00, 0.00, 0.00, 0.00, 0.00, 0.00, 0.00, 0.00, 0.00, 0.00, 0.00],\n",
       "        [0.00, 0.00, 1.00, 0.00, 0.00, 0.00, 0.00, 0.00, 1.00, -1.00,\n",
       "         0.00, 0.00, 0.00, 0.00, 0.00, -1.00, 0.00, 0.00, 0.00, 0.00,\n",
       "         0.00, 1.00, 0.00, 0.00, 0.00, 0.00, 1.00, 0.00, 0.00, 0.00, 0.00],\n",
       "        [0.00, 0.00, 0.00, 1.00, 0.00, 0.00, 0.00, 0.00, 0.00, 1.00,\n",
       "         -1.00, 0.00, 0.00, 0.00, 0.00, 0.00, -1.00, 0.00, 0.00, 0.00,\n",
       "         0.00, 0.00, 1.00, 0.00, 0.00, 0.00, 0.00, 1.00, 0.00, 0.00, 0.00],\n",
       "        [0.00, 0.00, 0.00, 0.00, 1.00, 0.00, 0.00, 0.00, 0.00, 0.00, 1.00,\n",
       "         -1.00, 0.00, 0.00, 0.00, 0.00, 0.00, -1.00, 0.00, 0.00, 0.00,\n",
       "         0.00, 0.00, 1.00, 0.00, 0.00, 0.00, 0.00, 1.00, 0.00, 0.00],\n",
       "        [0.00, 0.00, 0.00, 0.00, 0.00, 1.00, 0.00, 0.00, 0.00, 0.00, 0.00,\n",
       "         1.00, -1.00, 0.00, 0.00, 0.00, 0.00, 0.00, -1.00, 0.00, 0.00,\n",
       "         0.00, 0.00, 0.00, 1.00, 0.00, 0.00, 0.00, 0.00, 1.00, 0.00],\n",
       "        [0.00, 0.00, 0.00, 0.00, 0.00, 0.00, 1.00, 0.00, 0.00, 0.00, 0.00,\n",
       "         0.00, 1.00, 0.00, 0.00, 0.00, 0.00, 0.00, 0.00, -1.00, 0.00,\n",
       "         0.00, 0.00, 0.00, 0.00, 1.00, 0.00, 0.00, 0.00, 0.00, 1.00],\n",
       "        [0.00, 0.00, 0.00, 0.00, 0.00, 0.00, 0.00, 0.00, 0.00, 0.00, 0.00,\n",
       "         0.00, 0.00, 1.00, 0.00, 0.00, 0.00, 0.00, 0.00, 0.00, -1.00,\n",
       "         0.00, 0.00, 0.00, 0.00, 0.00, -1.00, 0.00, 0.00, 0.00, 0.00],\n",
       "        [0.00, 0.00, 0.00, 0.00, 0.00, 0.00, 0.00, 0.00, 0.00, 0.00, 0.00,\n",
       "         0.00, 0.00, 0.00, 1.00, 0.00, 0.00, 0.00, 0.00, 0.00, 0.00,\n",
       "         -1.00, 0.00, 0.00, 0.00, 0.00, 0.00, -1.00, 0.00, 0.00, 0.00],\n",
       "        [0.00, 0.00, 0.00, 0.00, 0.00, 0.00, 0.00, 0.00, 0.00, 0.00, 0.00,\n",
       "         0.00, 0.00, 0.00, 0.00, 1.00, 0.00, 0.00, 0.00, 0.00, 0.00, 0.00,\n",
       "         -1.00, 0.00, 0.00, 0.00, 0.00, 0.00, -1.00, 0.00, 0.00],\n",
       "        [0.00, 0.00, 0.00, 0.00, 0.00, 0.00, 0.00, 0.00, 0.00, 0.00, 0.00,\n",
       "         0.00, 0.00, 0.00, 0.00, 0.00, 1.00, 0.00, 0.00, 0.00, 0.00, 0.00,\n",
       "         0.00, -1.00, 0.00, 0.00, 0.00, 0.00, 0.00, -1.00, 0.00],\n",
       "        [0.00, 0.00, 0.00, 0.00, 0.00, 0.00, 0.00, 0.00, 0.00, 0.00, 0.00,\n",
       "         0.00, 0.00, 0.00, 0.00, 0.00, 0.00, 1.00, 0.00, 0.00, 0.00, 0.00,\n",
       "         0.00, 0.00, -1.00, 0.00, 0.00, 0.00, 0.00, 0.00, -1.00],\n",
       "        [0.00, 0.00, 0.00, 0.00, 0.00, 0.00, 0.00, 0.00, 0.00, 0.00, 0.00,\n",
       "         0.00, 0.00, 0.00, 0.00, 0.00, 0.00, 0.00, 1.00, 0.00, 0.00, 0.00,\n",
       "         0.00, 0.00, 0.00, -1.00, 0.00, 0.00, 0.00, 0.00, 0.00]]),\n",
       " array([0.00, 0.00, 0.00, 0.00, 0.00, 0.00, 0.00, 0.00, 0.00, 0.00, 0.00,\n",
       "        0.00, 0.00]))"
      ]
     },
     "execution_count": 43,
     "metadata": {},
     "output_type": "execute_result"
    }
   ],
   "source": [
    "## remember that the rows of the conservation matrix are determined by the interior vertices\n",
    "## so the length of the zero-vector veq should be the number of interior vertices.\n",
    "\n",
    "Aeq = conservationMatrix(restaurant_vertices,restaurant_edges)\n",
    "beq = np.zeros(len(interiorVertices(restaurant_vertices,restaurant_edges)))\n",
    "Aeq,beq"
   ]
  },
  {
   "cell_type": "code",
   "execution_count": 44,
   "id": "92986998-24b5-449a-b23e-6750a50b7a54",
   "metadata": {},
   "outputs": [
    {
     "data": {
      "text/plain": [
       "(array([[-0.00, -0.00, -0.00, -0.00, -0.00, -0.00, -0.00, -0.00, -0.00,\n",
       "         -0.00, -0.00, -0.00, -0.00, -1.00, -0.00, -0.00, -0.00, -0.00,\n",
       "         -0.00, -0.00, -0.00, -0.00, -0.00, -0.00, -0.00, -0.00, -0.00,\n",
       "         -0.00, -0.00, -0.00, -0.00],\n",
       "        [-0.00, -0.00, -0.00, -0.00, -0.00, -0.00, -0.00, -0.00, -0.00,\n",
       "         -0.00, -0.00, -0.00, -0.00, -0.00, -1.00, -0.00, -0.00, -0.00,\n",
       "         -0.00, -0.00, -0.00, -0.00, -0.00, -0.00, -0.00, -0.00, -0.00,\n",
       "         -0.00, -0.00, -0.00, -0.00],\n",
       "        [-0.00, -0.00, -0.00, -0.00, -0.00, -0.00, -0.00, -0.00, -0.00,\n",
       "         -0.00, -0.00, -0.00, -0.00, -0.00, -0.00, -1.00, -0.00, -0.00,\n",
       "         -0.00, -0.00, -0.00, -0.00, -0.00, -0.00, -0.00, -0.00, -0.00,\n",
       "         -0.00, -0.00, -0.00, -0.00],\n",
       "        [-0.00, -0.00, -0.00, -0.00, -0.00, -0.00, -0.00, -0.00, -0.00,\n",
       "         -0.00, -0.00, -0.00, -0.00, -0.00, -0.00, -0.00, -1.00, -0.00,\n",
       "         -0.00, -0.00, -0.00, -0.00, -0.00, -0.00, -0.00, -0.00, -0.00,\n",
       "         -0.00, -0.00, -0.00, -0.00],\n",
       "        [-0.00, -0.00, -0.00, -0.00, -0.00, -0.00, -0.00, -0.00, -0.00,\n",
       "         -0.00, -0.00, -0.00, -0.00, -0.00, -0.00, -0.00, -0.00, -1.00,\n",
       "         -0.00, -0.00, -0.00, -0.00, -0.00, -0.00, -0.00, -0.00, -0.00,\n",
       "         -0.00, -0.00, -0.00, -0.00],\n",
       "        [-0.00, -0.00, -0.00, -0.00, -0.00, -0.00, -0.00, -0.00, -0.00,\n",
       "         -0.00, -0.00, -0.00, -0.00, -0.00, -0.00, -0.00, -0.00, -0.00,\n",
       "         -1.00, -0.00, -0.00, -0.00, -0.00, -0.00, -0.00, -0.00, -0.00,\n",
       "         -0.00, -0.00, -0.00, -0.00],\n",
       "        [-0.00, -0.00, -0.00, -0.00, -0.00, -0.00, -0.00, -0.00, -0.00,\n",
       "         -0.00, -0.00, -0.00, -0.00, -0.00, -0.00, -0.00, -0.00, -0.00,\n",
       "         -0.00, -1.00, -0.00, -0.00, -0.00, -0.00, -0.00, -0.00, -0.00,\n",
       "         -0.00, -0.00, -0.00, -0.00]]),\n",
       " array([-10, -10, -15, -20, -40, -40, -30]))"
      ]
     },
     "execution_count": 44,
     "metadata": {},
     "output_type": "execute_result"
    }
   ],
   "source": [
    "Aub,bub = ineqConstraints(restaurant_edges)\n",
    "Aub,bub"
   ]
  },
  {
   "cell_type": "markdown",
   "id": "2a6ef1e0-d7e6-4a5f-9226-94505af58744",
   "metadata": {},
   "source": [
    "And we could have just directly run `linprog` to solve the linear program, with these data:"
   ]
  },
  {
   "cell_type": "code",
   "execution_count": 52,
   "id": "070c6967-9177-4ec2-8625-0ae84cb2cd19",
   "metadata": {},
   "outputs": [
    {
     "data": {
      "text/plain": [
       "        message: Optimization terminated successfully. (HiGHS Status 7: Optimal)\n",
       "        success: True\n",
       "         status: 0\n",
       "            fun: 435.0\n",
       "              x: [ 1.000e+01  1.000e+01 ...  0.000e+00 -0.000e+00]\n",
       "            nit: 21\n",
       "          lower:  residual: [ 1.000e+01  1.000e+01 ...  0.000e+00\n",
       "                             -0.000e+00]\n",
       "                 marginals: [ 0.000e+00  0.000e+00 ...  3.000e+00\n",
       "                              0.000e+00]\n",
       "          upper:  residual: [       inf        inf ...        inf\n",
       "                                    inf]\n",
       "                 marginals: [ 0.000e+00  0.000e+00 ...  0.000e+00\n",
       "                              0.000e+00]\n",
       "          eqlin:  residual: [ 0.000e+00  0.000e+00 ...  0.000e+00\n",
       "                              0.000e+00]\n",
       "                 marginals: [ 5.000e+00  5.000e+00 ... -1.000e+00\n",
       "                             -2.000e+00]\n",
       "        ineqlin:  residual: [ 0.000e+00  0.000e+00  0.000e+00  0.000e+00\n",
       "                              0.000e+00  0.000e+00  1.000e+01]\n",
       "                 marginals: [-1.000e+00 -1.000e+00 -1.000e+00 -2.000e+00\n",
       "                             -6.000e+00 -3.000e+00 -0.000e+00]\n",
       " mip_node_count: 0\n",
       " mip_dual_bound: 0.0\n",
       "        mip_gap: 0.0"
      ]
     },
     "execution_count": 52,
     "metadata": {},
     "output_type": "execute_result"
    }
   ],
   "source": [
    "c = objective(restaurant_edges)\n",
    "Aeq = conservationMatrix(restaurant_vertices,restaurant_edges)\n",
    "Aub,bub = ineqConstraints(restaurant_edges)\n",
    "beq = np.zeros(len(interiorVertices(restaurant_vertices,restaurant_edges)))\n",
    "\n",
    "lr  = linprog(c,\n",
    "              A_eq = Aeq,\n",
    "              b_eq = beq,\n",
    "              A_ub = Aub,\n",
    "              b_ub = bub\n",
    "              )\n",
    "lr"
   ]
  },
  {
   "cell_type": "markdown",
   "id": "ff9cd305-9b84-4d62-8251-a8183212dfbe",
   "metadata": {},
   "source": [
    "To get detailed information about the optimal values of the *variables* (associated with the edges) you must inspect the `x` field of the result from `linprog`.\n",
    "The report you see when you just examine the result elides the details -- you need to examine the values themselves. This can be done as follows:"
   ]
  },
  {
   "cell_type": "code",
   "execution_count": 55,
   "id": "96726981-acb4-411c-ace4-63967149cc50",
   "metadata": {},
   "outputs": [
    {
     "data": {
      "text/plain": [
       "(435.0,\n",
       " array([10.00, 10.00, 5.00, 15.00, 0.00, 0.00, 0.00, 0.00, 0.00, 0.00,\n",
       "        5.00, 0.00, 0.00, 10.00, 10.00, 15.00, 20.00, 40.00, 40.00, 40.00,\n",
       "        0.00, 0.00, 0.00, 20.00, 40.00, 40.00, 10.00, 10.00, 15.00, 0.00,\n",
       "        -0.00]))"
      ]
     },
     "execution_count": 55,
     "metadata": {},
     "output_type": "execute_result"
    }
   ],
   "source": [
    "lr.fun,lr.x"
   ]
  },
  {
   "cell_type": "markdown",
   "id": "eda572a9-dc17-42fc-a797-516d10ba2b58",
   "metadata": {},
   "source": [
    "Finally, notice that we get the same answer as `runNetworkFlow`:"
   ]
  },
  {
   "cell_type": "code",
   "execution_count": 50,
   "id": "b25de915-fd45-42d8-ba1f-5626b896347f",
   "metadata": {},
   "outputs": [
    {
     "data": {
      "text/plain": [
       "['optimal value: 435.0',\n",
       " ('purchase (source --> day 1 clean)', 10.0),\n",
       " ('purchase (source --> day 2 clean)', 10.0),\n",
       " ('purchase (source --> day 3 clean)', 5.0),\n",
       " ('purchase (source --> day 4 clean)', 15.0),\n",
       " ('purchase (source --> day 5 clean)', 0.0),\n",
       " ('purchase (source --> day 6 clean)', 0.0),\n",
       " ('purchase (source --> day 7 clean)', 0.0),\n",
       " ('carryover (day 1 clean --> day 2 clean)', 0.0),\n",
       " ('carryover (day 2 clean --> day 3 clean)', 0.0),\n",
       " ('carryover (day 3 clean --> day 4 clean)', 0.0),\n",
       " ('carryover (day 4 clean --> day 5 clean)', 5.0),\n",
       " ('carryover (day 5 clean --> day 6 clean)', 0.0),\n",
       " ('carryover (day 6 clean --> day 7 clean)', 0.0),\n",
       " ('tablecloth use (day 1 clean --> day 1 used)', 10.0),\n",
       " ('tablecloth use (day 2 clean --> day 2 used)', 10.0),\n",
       " ('tablecloth use (day 3 clean --> day 3 used)', 15.0),\n",
       " ('tablecloth use (day 4 clean --> day 4 used)', 20.0),\n",
       " ('tablecloth use (day 5 clean --> day 5 used)', 40.0),\n",
       " ('tablecloth use (day 6 clean --> day 6 used)', 40.0),\n",
       " ('tablecloth use (day 7 clean --> day 7 used)', 40.0),\n",
       " ('fast laundry (day 1 used --> day 2 clean)', 0.0),\n",
       " ('fast laundry (day 2 used --> day 3 clean)', 0.0),\n",
       " ('fast laundry (day 3 used --> day 4 clean)', 0.0),\n",
       " ('fast laundry (day 4 used --> day 5 clean)', 20.0),\n",
       " ('fast laundry (day 5 used --> day 6 clean)', 40.0),\n",
       " ('fast laundry (day 6 used --> day 7 clean)', 40.0),\n",
       " ('slow laundry (day 1 used --> day 3 clean)', 10.0),\n",
       " ('slow laundry (day 2 used --> day 4 clean)', 10.0),\n",
       " ('slow laundry (day 3 used --> day 5 clean)', 15.0),\n",
       " ('slow laundry (day 4 used --> day 6 clean)', 0.0),\n",
       " ('slow laundry (day 5 used --> day 7 clean)', -0.0)]"
      ]
     },
     "execution_count": 50,
     "metadata": {},
     "output_type": "execute_result"
    }
   ],
   "source": [
    "runNetworkFlow(restaurant_vertices,restaurant_edges)"
   ]
  }
 ],
 "metadata": {
  "kernelspec": {
   "display_name": "Python 3 (ipykernel)",
   "language": "python",
   "name": "python3"
  },
  "language_info": {
   "codemirror_mode": {
    "name": "ipython",
    "version": 3
   },
   "file_extension": ".py",
   "mimetype": "text/x-python",
   "name": "python",
   "nbconvert_exporter": "python",
   "pygments_lexer": "ipython3",
   "version": "3.11.2"
  }
 },
 "nbformat": 4,
 "nbformat_minor": 5
}
