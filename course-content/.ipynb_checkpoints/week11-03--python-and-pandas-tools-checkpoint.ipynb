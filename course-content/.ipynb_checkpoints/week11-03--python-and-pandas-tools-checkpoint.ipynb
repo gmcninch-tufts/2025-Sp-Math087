{
 "cells": [
  {
   "cell_type": "markdown",
   "metadata": {},
   "source": [
    "# Some useful tools"
   ]
  },
  {
   "cell_type": "code",
   "execution_count": 3,
   "metadata": {},
   "outputs": [],
   "source": [
    "import pandas as pd\n",
    "import numpy as np\n",
    "\n",
    "from numpy.random import default_rng\n",
    "\n",
    "rng = default_rng()\n"
   ]
  },
  {
   "cell_type": "code",
   "execution_count": 4,
   "metadata": {},
   "outputs": [],
   "source": [
    "def report(df):\n",
    "    ## return a string with the standard deviation and mean of the\n",
    "    ## DataFrame df\n",
    "    return \"\\n\".join([f\"std:  {df.std().values}\",\n",
    "                      f\"variance: {df.var().values}\",\n",
    "                      f\"mean: {df.mean().values}\"])\n",
    "\n",
    "#------------------------------\n",
    "\n",
    "results=[0,1]\n",
    "\n",
    "## use  rng.choice([...],n) to pick n random elements from the list [...]\n",
    "\n",
    "def coin_toss_trial(num_tosses):\n",
    "    return pd.DataFrame(rng.choice(results,num_tosses)).mean()\n",
    "\n",
    "def coin_distribution(num_trials,num_tosses):\n",
    "    return pd.DataFrame(map(coin_toss_trial,num_trials*[num_tosses]))\n",
    "\n",
    "cd_100=coin_distribution(3000,100)"
   ]
  },
  {
   "cell_type": "code",
   "execution_count": 7,
   "metadata": {},
   "outputs": [
    {
     "name": "stdout",
     "output_type": "stream",
     "text": [
      "std:  [0.05020218]\n",
      "variance: [0.00252026]\n",
      "mean: [0.50160667]\n"
     ]
    },
    {
     "data": {
      "image/png": "[encoded data removed]",
      "text/plain": [
       "<Figure size 640x480 with 1 Axes>"
      ]
     },
     "metadata": {},
     "output_type": "display_data"
    }
   ],
   "source": [
    "cd_100.hist(bins=75)\n",
    "print(report(cd_100))"
   ]
  },
  {
   "cell_type": "markdown",
   "metadata": {},
   "source": [
    "Monte-carlo integration\n",
    "=======================\n",
    "\n",
    "Approximating \n",
    "\n",
    "$$\\int_1^3 x^3 dx = \\dfrac{1}{4} x^4 \\bigg \\vert^3_1 = \\dfrac{81 - 1}{4} = \\dfrac{80}{4} = 20$$\n",
    "    \n"
   ]
  },
  {
   "cell_type": "code",
   "execution_count": 35,
   "metadata": {},
   "outputs": [],
   "source": [
    "def in_region(x,y):\n",
    "    return y < x**3\n",
    "\n",
    "def approx(N):\n",
    "    xl = 1+2*rng.random(N)\n",
    "    yl = 27*rng.random(N)\n",
    "    M = 0\n",
    "    for i in range(N):\n",
    "        if in_region(xl[i],yl[i]):\n",
    "            M = M+1\n",
    "    return 2*27.*M/N\n"
   ]
  },
  {
   "cell_type": "code",
   "execution_count": 36,
   "metadata": {},
   "outputs": [
    {
     "data": {
      "text/plain": [
       "20.2554"
      ]
     },
     "execution_count": 36,
     "metadata": {},
     "output_type": "execute_result"
    }
   ],
   "source": [
    "approx(10000)"
   ]
  },
  {
   "cell_type": "code",
   "execution_count": 40,
   "metadata": {},
   "outputs": [],
   "source": [
    "approx_data = pd.DataFrame([approx(10000) for i in range(50)])"
   ]
  },
  {
   "cell_type": "code",
   "execution_count": 41,
   "metadata": {},
   "outputs": [
    {
     "name": "stdout",
     "output_type": "stream",
     "text": [
      "std:  [0.2613967]\n",
      "variance: [0.06832824]\n",
      "mean: [20.002032]\n"
     ]
    }
   ],
   "source": [
    "print(report(approx_data))"
   ]
  },
  {
   "cell_type": "markdown",
   "metadata": {},
   "source": [
    "Monte Carlo Simulation\n",
    "======================"
   ]
  },
  {
   "cell_type": "code",
   "execution_count": 42,
   "metadata": {},
   "outputs": [],
   "source": [
    "\n",
    "def customer(prob=1./7):\n",
    "    return rng.choice([1,0],p=[prob,1-prob])\n",
    "\n",
    "\n",
    "class JFTE():\n",
    "    def __init__(self,N,prob=1./7):\n",
    "        self.customers = [customer(prob) for n in range(N)]\n",
    "        self.reset()\n",
    "    \n",
    "    def reset(self):\n",
    "        self.stock = 1\n",
    "        self.sales = 0\n",
    "        self.lost_sales = 0\n",
    "        self.storage_days = 0\n",
    "        self.max_stock = 1\n",
    "    \n",
    "    def num_days(self):\n",
    "        return len(self.customers)\n",
    "    \n",
    "    def add_stock(self):\n",
    "        self.stock = self.stock + 1\n",
    "        if self.stock > self.max_stock:\n",
    "            self.max_stock = self.stock\n",
    "    \n",
    "    def sale(self):\n",
    "        self.stock = self.stock - 1\n",
    "        self.sales = self.sales + 1\n",
    "        \n",
    "    def result(self):\n",
    "        return result(self.num_days(),self.sales,self.lost_sales,\n",
    "                      self.storage_days,self.max_stock)"
   ]
  },
  {
   "cell_type": "code",
   "execution_count": 54,
   "metadata": {},
   "outputs": [
    {
     "name": "stdout",
     "output_type": "stream",
     "text": [
      "00 Sun\n",
      "01 Mon\n",
      "02 Tue\n",
      "03 !!Wed\n",
      "04 Thu\n",
      "05 Fri\n",
      "06 Sat\n",
      "07 Sun\n",
      "08 Mon\n",
      "09 Tue\n",
      "10 !!Wed\n",
      "11 Thu\n",
      "12 Fri\n",
      "13 Sat\n",
      "14 Sun\n",
      "15 Mon\n",
      "16 Tue\n",
      "17 !!Wed\n",
      "18 Thu\n",
      "19 Fri\n",
      "20 Sat\n",
      "21 Sun\n",
      "22 Mon\n",
      "23 Tue\n",
      "24 !!Wed\n",
      "25 Thu\n",
      "26 Fri\n",
      "27 Sat\n",
      "28 Sun\n",
      "29 Mon\n",
      "30 Tue\n",
      "31 !!Wed\n",
      "32 Thu\n",
      "33 Fri\n",
      "34 Sat\n"
     ]
    }
   ],
   "source": [
    "dow_name_dict = {0:\"Sun\",1:\"Mon\",2:\"Tue\",3:\"Wed\",4:\"Thu\",5:\"Fri\",6:\"Sat\"}\n",
    "\n",
    "def dow_name(n):\n",
    "    if np.mod(n,7)==3:\n",
    "        return f\"!!{dow_name_dict[np.mod(n,7)]}\"\n",
    "    else:\n",
    "        return dow_name_dict[np.mod(n,7)]\n",
    "        \n",
    "for i in range(35):\n",
    "    print(f\"{i:02d} {dow_name(i)}\")"
   ]
  },
  {
   "cell_type": "code",
   "execution_count": 58,
   "metadata": {},
   "outputs": [],
   "source": [
    "## differing probability on even-number days  and on odd-numbered days\n",
    "prob_dict = {0:1./7, 1:1./8}\n",
    "\n",
    "def customer(n):\n",
    "    # simulate customer arrival on day n\n",
    "    prob = prob_dict[np.mod(n,2)]\n",
    "    return rng.choice([1,0],p=[prob,1-prob])\n"
   ]
  },
  {
   "cell_type": "code",
   "execution_count": null,
   "metadata": {},
   "outputs": [],
   "source": []
  }
 ],
 "metadata": {
  "kernelspec": {
   "display_name": "Python 3 (ipykernel)",
   "language": "python",
   "name": "python3"
  },
  "language_info": {
   "codemirror_mode": {
    "name": "ipython",
    "version": 3
   },
   "file_extension": ".py",
   "mimetype": "text/x-python",
   "name": "python",
   "nbconvert_exporter": "python",
   "pygments_lexer": "ipython3",
   "version": "3.11.2"
  }
 },
 "nbformat": 4,
 "nbformat_minor": 4
}
