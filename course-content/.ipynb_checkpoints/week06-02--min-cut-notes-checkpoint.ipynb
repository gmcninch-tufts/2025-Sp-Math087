{
 "cells": [
  {
   "cell_type": "markdown",
   "id": "5f18b693-9233-4c80-b657-90d3b9b22f6b",
   "metadata": {},
   "source": [
    "Write `V0` for the interior vertices of our directed graph, so that the vertices `V`  of `G` are the union of `[s,t]` and `V0`\n",
    "\n",
    "We want to describe all possible partitions of `V` into an `s-group` and a `t-group`.\n",
    "\n",
    "Our starting point is a library function that produces all of the sub-lists of a given list.\n",
    "\n",
    "That library function comes from the `itertools` library and is named `combinations`."
   ]
  },
  {
   "cell_type": "code",
   "execution_count": 12,
   "id": "49449b92-564b-457a-90a5-13dcd94786cf",
   "metadata": {},
   "outputs": [
    {
     "data": {
      "text/plain": [
       "[(1, 2), (1, 3), (1, 4), (2, 3), (2, 4), (3, 4)]"
      ]
     },
     "execution_count": 12,
     "metadata": {},
     "output_type": "execute_result"
    }
   ],
   "source": [
    "from itertools import combinations, chain\n",
    "\n",
    "list(combinations([1,2,3,4],2))"
   ]
  },
  {
   "cell_type": "markdown",
   "id": "99e938c4-0700-4ffb-b0ed-e384471c48c2",
   "metadata": {},
   "source": [
    "Now we need a way to concatenate the output of `combinations(ll,j)` for varying values of `j`."
   ]
  },
  {
   "cell_type": "code",
   "execution_count": 73,
   "id": "2c071e15-5976-4152-b15a-97f3dc0284b9",
   "metadata": {},
   "outputs": [
    {
     "data": {
      "text/plain": [
       "[(),\n",
       " (1,),\n",
       " (2,),\n",
       " (3,),\n",
       " (4,),\n",
       " (1, 2),\n",
       " (1, 3),\n",
       " (1, 4),\n",
       " (2, 3),\n",
       " (2, 4),\n",
       " (3, 4),\n",
       " (1, 2, 3),\n",
       " (1, 2, 4),\n",
       " (1, 3, 4),\n",
       " (2, 3, 4),\n",
       " (1, 2, 3, 4)]"
      ]
     },
     "execution_count": 73,
     "metadata": {},
     "output_type": "execute_result"
    }
   ],
   "source": [
    "def powerset(ll):\n",
    "    lol = [ combinations(ll,j) for j in range(len(ll) + 1) ]\n",
    "    return list(chain.from_iterable(lol))\n",
    "\n",
    "powerset([1,2,3,4])"
   ]
  },
  {
   "cell_type": "markdown",
   "id": "64bf38a2-83dd-4974-a5b8-faf8cbc5359f",
   "metadata": {},
   "source": [
    "Let's suppose we have represented the (weighted) edges in our graph `G` using a dictionary `edges`. The keys to the dictionary\n",
    "are pairs `(v,w)` where `v` and `w` are vertices.\n",
    "and the value `edges[(v,w)]` is the `capacity` of the edge.\n",
    "\n",
    "So we could have something like the following:\n"
   ]
  },
  {
   "cell_type": "code",
   "execution_count": 20,
   "id": "75c537f9-2779-4079-ae49-74c97b205500",
   "metadata": {},
   "outputs": [],
   "source": [
    "verts0 = ['a','b','c','d' ]\n",
    "verts = ['s','t'] + verts0\n",
    "edges = { ('a','b'):  10,\n",
    "          ('a','c'):  20,\n",
    "          ('b','d'):  30,\n",
    "          ('c','d'):  40,\n",
    "#\n",
    "          ('s','a'):  5,\n",
    "          ('s','d'):  7,\n",
    "          ('b','t'):  8,\n",
    "          ('c','t'): 10\n",
    "        }"
   ]
  },
  {
   "cell_type": "markdown",
   "id": "18fc67b1-a316-42ea-a8c4-8b0534df6334",
   "metadata": {},
   "source": [
    "Now, given an `s-group` `I`, we want to compute the corresponding `cut-value` based on our capacities.\n",
    "So we have to compute the sum of the `capacity` for each edge in `edges` which connects a vertex in the `s-group` to the `t-group` `V - I`\n",
    "\n",
    "Well, we can sum the values in a list using the `sum` function:"
   ]
  },
  {
   "cell_type": "code",
   "execution_count": 23,
   "id": "3ec6cb93-0291-4038-9598-af01de07081c",
   "metadata": {},
   "outputs": [
    {
     "data": {
      "text/plain": [
       "6"
      ]
     },
     "execution_count": 23,
     "metadata": {},
     "output_type": "execute_result"
    }
   ],
   "source": [
    "sum([1,2,3])"
   ]
  },
  {
   "cell_type": "code",
   "execution_count": 24,
   "id": "3d892b50-59a2-41e1-9e7c-27cd9a728797",
   "metadata": {},
   "outputs": [
    {
     "data": {
      "text/plain": [
       "1225"
      ]
     },
     "execution_count": 24,
     "metadata": {},
     "output_type": "execute_result"
    }
   ],
   "source": [
    "sum(range(50))"
   ]
  },
  {
   "cell_type": "code",
   "execution_count": 55,
   "id": "3833d343-ad62-47b0-b592-c5e71e406887",
   "metadata": {},
   "outputs": [],
   "source": [
    "def isCutEdge(I,v,w):\n",
    "    # I: the s-group\n",
    "    # returns True is the edge v->w goes from the s-group to the t-group\n",
    "    # and False otherwise\n",
    "    if v in I and (not (w in I)):\n",
    "        return True\n",
    "    else:\n",
    "        return False\n",
    "\n",
    "def cutValueForGroup(edges,I):\n",
    "\n",
    "    # determine the cut-value determined by s-group I\n",
    "    \n",
    "    cut_edges = [ edges[(v,w)] for (v,w) in edges.keys() if isCutEdge(I,v,w) ] \n",
    "    \n",
    "    return sum(cut_edges)\n",
    "    "
   ]
  },
  {
   "cell_type": "code",
   "execution_count": 74,
   "id": "994d5f9d-a4e8-4262-8cec-14074c80b96a",
   "metadata": {},
   "outputs": [
    {
     "data": {
      "text/plain": [
       "12"
      ]
     },
     "execution_count": 74,
     "metadata": {},
     "output_type": "execute_result"
    }
   ],
   "source": [
    "cutValue(edges,['s'])"
   ]
  },
  {
   "cell_type": "code",
   "execution_count": 75,
   "id": "c9d71637-fa03-478b-b171-94bf6c307949",
   "metadata": {},
   "outputs": [],
   "source": [
    "def minCut(verts0,edges):\n",
    "    ps = powerset(verts0)\n",
    "    cuts = [ cutValueForGroup(edges, ('s',) + I) for I in ps ]\n",
    "    return min(cuts)"
   ]
  },
  {
   "cell_type": "code",
   "execution_count": 70,
   "id": "0af98af2-239c-4cce-a1ae-d0304a39ce81",
   "metadata": {},
   "outputs": [
    {
     "data": {
      "text/plain": [
       "['s', 't', 'a', 'b', 'c', 'd']"
      ]
     },
     "execution_count": 70,
     "metadata": {},
     "output_type": "execute_result"
    }
   ],
   "source": [
    "verts"
   ]
  },
  {
   "cell_type": "code",
   "execution_count": 71,
   "id": "e2bd5f20-9b60-4a25-a26e-8265e7d2fa0b",
   "metadata": {},
   "outputs": [
    {
     "data": {
      "text/plain": [
       "{('a', 'b'): 10,\n",
       " ('a', 'c'): 20,\n",
       " ('b', 'd'): 30,\n",
       " ('c', 'd'): 40,\n",
       " ('s', 'a'): 5,\n",
       " ('s', 'd'): 7,\n",
       " ('b', 't'): 8,\n",
       " ('c', 't'): 10}"
      ]
     },
     "execution_count": 71,
     "metadata": {},
     "output_type": "execute_result"
    }
   ],
   "source": [
    "edges"
   ]
  },
  {
   "cell_type": "code",
   "execution_count": 76,
   "id": "2c555a82-19b5-4af2-83a6-779f3f2eaa4f",
   "metadata": {
    "scrolled": true
   },
   "outputs": [
    {
     "data": {
      "text/plain": [
       "5"
      ]
     },
     "execution_count": 76,
     "metadata": {},
     "output_type": "execute_result"
    }
   ],
   "source": [
    "minCut(verts0,edges)"
   ]
  },
  {
   "cell_type": "code",
   "execution_count": null,
   "id": "40a8accb-7503-49ea-b0f6-c5d0a80ecba7",
   "metadata": {},
   "outputs": [],
   "source": []
  }
 ],
 "metadata": {
  "kernelspec": {
   "display_name": "Python 3 (ipykernel)",
   "language": "python",
   "name": "python3"
  },
  "language_info": {
   "codemirror_mode": {
    "name": "ipython",
    "version": 3
   },
   "file_extension": ".py",
   "mimetype": "text/x-python",
   "name": "python",
   "nbconvert_exporter": "python",
   "pygments_lexer": "ipython3",
   "version": "3.11.2"
  }
 },
 "nbformat": 4,
 "nbformat_minor": 5
}
