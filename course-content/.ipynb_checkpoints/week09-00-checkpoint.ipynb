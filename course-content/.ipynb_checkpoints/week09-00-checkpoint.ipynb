{
 "cells": [
  {
   "cell_type": "markdown",
   "id": "967c8c70-50d7-4157-bc8b-d3e740f133c4",
   "metadata": {},
   "source": [
    "# Sorting..."
   ]
  },
  {
   "cell_type": "code",
   "execution_count": null,
   "id": "0c470071-9a11-4232-8cc8-e629d8203599",
   "metadata": {},
   "outputs": [],
   "source": [
    "import numpy as np\n",
    "\n",
    "L = np.random.rand(20)\n",
    "L\n"
   ]
  },
  {
   "cell_type": "code",
   "execution_count": null,
   "id": "aced7350-8506-4e96-ab5d-d35dea3804d4",
   "metadata": {},
   "outputs": [],
   "source": [
    "L.sort()\n",
    "L\n"
   ]
  },
  {
   "cell_type": "code",
   "execution_count": null,
   "id": "464fd1a5-1d71-4064-8abd-b086a164380a",
   "metadata": {},
   "outputs": [],
   "source": [
    "np.flip(L)"
   ]
  },
  {
   "cell_type": "code",
   "execution_count": null,
   "id": "f4376758-447b-4fbd-a76d-3d9fe94aaf81",
   "metadata": {},
   "outputs": [],
   "source": [
    "rng = np.random.default_rng()\n",
    "\n",
    "import pprint\n",
    "float_formatter = \"{:.5f}\".format\n",
    "np.set_printoptions(formatter={'float_kind':float_formatter})\n",
    "\n",
    "colors = [ \"Gainsboro\",\n",
    "           \"Gamboge\",\n",
    "           \"Glossy grape\",\n",
    "           \"Gold (metallic)\",\n",
    "           \"Gold (Crayola)\",\n",
    "           \"Golden poppy\",\n",
    "           \"Golden yellow\",\n",
    "           \"Goldenrod\",\n",
    "           \"Gotham green\",\n",
    "           \"Granite gray\",\n",
    "           \"Granny Smith apple\",\n",
    "           \"Gray (web)\",\n",
    "           \"Gray (X11 gray)\",\n",
    "           \"Green\",\n",
    "           \"Green (Crayola)\",\n",
    "           \"Green (web)\",\n",
    "           \"Green (Munsell)\",\n",
    "           \"Green (pigment)\",\n",
    "           \"Green-blue\",\n",
    "           \"Green Lizard\"\n",
    "           ]\n",
    "\n",
    "vals = rng.random(20)\n",
    "\n",
    "{ colors[i]:vals[i] for i in range(20) }"
   ]
  },
  {
   "cell_type": "code",
   "execution_count": null,
   "id": "5323e433-a927-48c5-9d4d-bfa0b646a2a7",
   "metadata": {},
   "outputs": [],
   "source": [
    "np.argsort(vals)"
   ]
  },
  {
   "cell_type": "code",
   "execution_count": null,
   "id": "710ed498-9ac2-497d-a1da-d1c41a99ace4",
   "metadata": {},
   "outputs": [],
   "source": [
    "np.array([ colors[i] for i in np.argsort(vals) ])"
   ]
  },
  {
   "cell_type": "code",
   "execution_count": null,
   "id": "26f4c2b8-2ea5-45e8-a4d5-c10589201240",
   "metadata": {},
   "outputs": [],
   "source": [
    "np.array([ colors[i] for i in np.argsort( -vals) ])"
   ]
  },
  {
   "cell_type": "code",
   "execution_count": null,
   "id": "313f3497-cc5b-4b7f-87d2-209296fb69ab",
   "metadata": {},
   "outputs": [],
   "source": [
    "{ colors[i]:vals[i] for i in np.argsort( - vals) }"
   ]
  },
  {
   "cell_type": "markdown",
   "id": "354b3688-60e9-499f-babd-2171698e5028",
   "metadata": {},
   "source": [
    "# Example: financial markets, again briefly"
   ]
  },
  {
   "cell_type": "markdown",
   "id": "0d7668af-220f-4e1a-82ba-485dbaed67f4",
   "metadata": {},
   "source": [
    "Recall our model:\n",
    "\n",
    "|                  | *bull*   | *bear*   | *recession*| \n",
    "| :--------------- | -------: | -------: | ---------: |\n",
    "|     followed by bull         | 0.90     | 0.15     | 0.25      |\n",
    "|     followed by bear         | 0.075    | 0.80     | 0.25       |\n",
    "|     followed by recession    | 0.025    | 0.05     | 0.50       |"
   ]
  },
  {
   "cell_type": "code",
   "execution_count": null,
   "id": "ff89a1eb-5580-46e7-a927-2f7a10741b6a",
   "metadata": {},
   "outputs": [],
   "source": [
    "import numpy.linalg as npl\n",
    "\n",
    "states = [ \"bull\", \"bear\", \"recession\" ]\n",
    "\n",
    "A = np.array([[0.90 , 0.15 , 0.25],\n",
    "              [0.075, 0.80 , 0.25],\n",
    "              [0.025, 0.05 , 0.50]])"
   ]
  },
  {
   "cell_type": "code",
   "execution_count": null,
   "id": "d58557ad-d0d3-4f23-a6bc-e3dc2f9c5fd7",
   "metadata": {},
   "outputs": [],
   "source": [
    "vals, vecs = npl.eig(A)\n",
    "vals"
   ]
  },
  {
   "cell_type": "markdown",
   "id": "5cbf9aa5-1c0e-4fda-a063-357ecc873828",
   "metadata": {},
   "source": [
    "Now, recall that the long term behavior of the market is predicted by the *normalized* 1-eigenvector."
   ]
  },
  {
   "cell_type": "code",
   "execution_count": null,
   "id": "58d3cff6-abe8-4a07-b6d5-72df0a88e8c6",
   "metadata": {},
   "outputs": [],
   "source": [
    "w = vecs[:,0]\n",
    "\n",
    "# not normalized!\n",
    "(w, sum(w))\n"
   ]
  },
  {
   "cell_type": "code",
   "execution_count": null,
   "id": "268fa613-67e4-45c1-b9c7-5bc3c740e130",
   "metadata": {},
   "outputs": [],
   "source": [
    "# normalized\n",
    "nw = 1/sum(w) * w\n",
    "(nw,sum(nw))"
   ]
  },
  {
   "cell_type": "markdown",
   "id": "7163c73d-0e8b-421e-bd53-0570ff7ab354",
   "metadata": {},
   "source": [
    "Now we can display the market states in descending order of their long-term probabilities:"
   ]
  },
  {
   "cell_type": "code",
   "execution_count": null,
   "id": "827233f2-f285-42ef-a352-1c9a2ed1830f",
   "metadata": {},
   "outputs": [],
   "source": [
    "{ states[i] : float(nw[i])  for i in np.argsort(-nw) }"
   ]
  },
  {
   "cell_type": "code",
   "execution_count": null,
   "id": "822a471b-74a4-40d3-9f91-5988212a50cf",
   "metadata": {},
   "outputs": [],
   "source": [
    "def market_probabilities(A):\n",
    "    vals, vecs = npl.eig(A)\n",
    "\n",
    "    # get the 1-eigenvectors,as a  list (which should be of length 1)\n",
    "    oe = [ vecs[:,i] for i in range(len(vals)) if vals[i] - 1 < 1E-5 ] \n",
    "    w = oe[0]\n",
    "\n",
    "    nw = 1/sum(w) * w\n",
    "\n",
    "    return { states[i] : float(nw[i]) for i in np.argsort(-nw) }"
   ]
  },
  {
   "cell_type": "code",
   "execution_count": null,
   "id": "682584e1-77af-4a78-be6e-d12acc8e6573",
   "metadata": {},
   "outputs": [],
   "source": [
    "market_probabilities(A)"
   ]
  },
  {
   "cell_type": "code",
   "execution_count": null,
   "id": "cf387eb4-6fbc-4486-bc80-e7dd65914e7b",
   "metadata": {},
   "outputs": [],
   "source": [
    "B = np.array([[0.80 , 0.15 , 0.25],\n",
    "              [0.075, 0.80 , 0.25],\n",
    "              [0.035, 0.05 , 0.50]])"
   ]
  },
  {
   "cell_type": "code",
   "execution_count": null,
   "id": "1cb69421-a664-49fd-9113-26621500ba97",
   "metadata": {},
   "outputs": [],
   "source": [
    "market_probabilities(B)"
   ]
  },
  {
   "cell_type": "code",
   "execution_count": null,
   "id": "222abff5-3716-4e23-b121-8d750a9d7f25",
   "metadata": {},
   "outputs": [],
   "source": []
  }
 ],
 "metadata": {
  "kernelspec": {
   "display_name": "Python 3 (ipykernel)",
   "language": "python",
   "name": "python3"
  },
  "language_info": {
   "codemirror_mode": {
    "name": "ipython",
    "version": 3
   },
   "file_extension": ".py",
   "mimetype": "text/x-python",
   "name": "python",
   "nbconvert_exporter": "python",
   "pygments_lexer": "ipython3",
   "version": "3.11.2"
  }
 },
 "nbformat": 4,
 "nbformat_minor": 5
}
