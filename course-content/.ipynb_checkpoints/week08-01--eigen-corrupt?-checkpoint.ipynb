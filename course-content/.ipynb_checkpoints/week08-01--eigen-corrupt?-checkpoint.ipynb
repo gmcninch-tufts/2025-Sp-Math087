{
 "cells": [
  {
   "cell_type": "markdown",
   "metadata": {
    "slideshow": {
     "slide_type": "slide"
    }
   },
   "source": [
    "# [George McNinch](http://gmcninch.math.tufts.edu) Math 87 - Spring 2025\n",
    "\n",
    "# Week 8\n",
    "\n",
    "# Power-iteration & eigenvalues"
   ]
  },
  {
   "cell_type": "markdown",
   "metadata": {
    "slideshow": {
     "slide_type": "slide"
    }
   },
   "source": [
    "Eigenvalues & power-iteration\n",
    "=============================\n",
    "\n",
    "Let $A \\in \\mathbb{R}^{n \\times n}$ be a square matrix.\n",
    "Our goal is to understand the *eventual behavior* of powers of $A$; i.e. the matrices $A^m$ for $m \\to \\infty$.\n",
    "\n",
    "\n"
   ]
  },
  {
   "cell_type": "markdown",
   "metadata": {
    "slideshow": {
     "slide_type": "slide"
    }
   },
   "source": [
    "Example: Diagonal matrices\n",
    "---------------------------\n",
    "\n",
    "Let's look at a simple example. Consider the following matrix:\n",
    "\n",
    "$$A = \\begin{bmatrix}\n",
    "\\lambda_1 & 0 & 0 & 0 \\\\\n",
    "0 & \\lambda_2 & 0 & 0 \\\\\n",
    "0 & 0 & \\lambda_3 & 0  \\\\\n",
    "0 & 0 & 0 & \\lambda_4 \\\\\n",
    "\\end{bmatrix}$$\n",
    "\n",
    "In this case, it is easy to understand the powers of $A$; indeed, we have\n",
    "\n",
    "$$A^m = \\begin{bmatrix}\n",
    "\\lambda_1^m & 0 & 0 & 0 \\\\\n",
    "0 & \\lambda_2^m & 0 & 0 \\\\\n",
    "0 & 0 & \\lambda_3^m & 0  \\\\\n",
    "0 & 0 & 0 & \\lambda_4^m \\\\\n",
    "\\end{bmatrix}$$\n",
    "\n",
    "\n"
   ]
  },
  {
   "cell_type": "markdown",
   "metadata": {
    "slideshow": {
     "slide_type": "subslide"
    }
   },
   "source": [
    "example, continued\n",
    "------------------\n",
    "Observe that if $|\\lambda| < 1$, then $\\lambda^m \\to 0$ as $m \\to \\infty$. So e.g.\n",
    "if $|\\lambda_i| < 1$ for $i=1,2,3,4$, then \n",
    "\n",
    "$$A^m \\to \\mathbf{0} \\quad \\text{as} \\quad m \\to \\infty.$$\n",
    "\n",
    "If $\\lambda_1 = 1$ and $|\\lambda_i| < 1$ for $i = 2,3,4$, then\n",
    "\n",
    "$$A^m \\to  \\begin{bmatrix}\n",
    "1 & 0 & 0 & 0 \\\\\n",
    "0 & 0 & 0 & 0 \\\\\n",
    "0 & 0 & 0 & 0  \\\\\n",
    "0 & 0 & 0 & 0 \\\\\n",
    "\\end{bmatrix}.$$\n",
    "\n",
    "On the other hand, if $|\\lambda_i| > 1$ for some $i$, \n",
    "then $\\lim_{m \\to \\infty} A^m$ doesn't exist, because\n",
    "$\\lambda_i^m \\to \\pm \\infty$ as $m \\to \\infty$.\n",
    "\n",
    "Of course, \"most\" matrices aren't diagonal, or at least not *literally*."
   ]
  },
  {
   "cell_type": "markdown",
   "metadata": {
    "slideshow": {
     "slide_type": "slide"
    }
   },
   "source": [
    "Eigenvalues and eigenvectors\n",
    "-----------------------------\n",
    "\n",
    "Recall that a number $\\lambda \\in\\mathbb{R}$ is an *eigenvalue* of the $n \\times n$ matrix \n",
    "$A$ if there is a non-zero vector $\\mathbf{v} \\in \\mathbb{R}^n$ for which\n",
    "$$A \\mathbf{v} = \\lambda \\mathbf{v};$$\n",
    "$\\mathbf{v}$ is then called an *eigenvector*.\n",
    "\n",
    "If $A$ is diagonal -- e.g. if \n",
    "\n",
    "$$A = \\begin{bmatrix}\n",
    "\\lambda_1 & 0 & 0 & 0 \\\\\n",
    "0 & \\lambda_2 & 0 & 0 \\\\\n",
    "0 & 0 & \\lambda_3 & 0  \\\\\n",
    "0 & 0 & 0 & \\lambda_4 \\\\\n",
    "\\end{bmatrix} =\\operatorname{diag}(\\lambda_1,\\lambda_2,\\lambda_3,\\lambda_4)$$\n",
    "\n",
    "-- it is easy to see that each standard basis vector $\\mathbf{e}_i$\n",
    "is an eigenvector, with corresponding eigenvalue $\\lambda_i$ (the $(i,i)$-the entry of $A$).\n",
    "\n"
   ]
  },
  {
   "cell_type": "markdown",
   "metadata": {
    "slideshow": {
     "slide_type": "subslide"
    }
   },
   "source": [
    "Eigenvectors\n",
    "------------\n",
    "\n",
    "Now suppose that $A$ is an $n\\times n$ matrix, that\n",
    "$\\mathbf{v}_1,\\dots,\\mathbf{v}_n$ are eigenvectors for $A$, and that\n",
    "$\\lambda_1,\\dots,\\lambda_n$ are the corresponding eigenvalues.\n",
    "Write\n",
    "$$P = \\begin{bmatrix} \\mathbf{v}_1 & \\cdots & \\mathbf{v}_n \\end{bmatrix}$$\n",
    "for the matrix whose columns are the $\\mathbf{v}_i$.\n",
    "\n",
    "**Theorem 0**: $P$ is invertible if and only if the vectors $\\mathbf{v}_1,\\dots,\\mathbf{v}_n$ are linearly independent.\n",
    "\n",
    "**Theorem 1**: If the eigenvalues $\\lambda_1,\\dots,\\lambda_n$ are *distinct*, then the vectors $\\mathbf{v}_1,\\dots,\\mathbf{v}_n$ are\n",
    "linearly independent, and in particular, the matrix $P$ is invertible.\n",
    "\n",
    "\n"
   ]
  },
  {
   "cell_type": "markdown",
   "metadata": {
    "slideshow": {
     "slide_type": "slide"
    }
   },
   "source": [
    "Diagonalizable matrices\n",
    "-----------------------\n",
    "\n",
    "**Theorem 2**: If the eigenvectors $\\mathbf{v}_1,\\dots,\\mathbf{v}_n$\n",
    "are linearly independent -- equivalently, if the matrix $P$ is invertible -- then \n",
    "$$P^{-1} A P = \\begin{bmatrix}\n",
    "\\lambda_1 & 0 & 0 & 0 \\\\\n",
    "0 & \\lambda_2 & 0 & 0 \\\\\n",
    "\\vdots & \\vdots & \\ddots & \\vdots  \\\\\n",
    "0 & 0 & 0 & \\lambda_n \\\\\n",
    "\\end{bmatrix} = \\operatorname{diag}(\\lambda_1,\\dots,\\lambda_n)$$\n",
    "i.e. $P^{-1} A P$ is the diagonal matrix $n \\times n$ matrix whose diagonal entries\n",
    "are $\\lambda_1,\\dots,\\lambda_n$.\n",
    "\n",
    "Because of **Theorem 2**, one says that the $n \\times n$ matrix $A$ is *diagonalizable* if it has $n$ linearly independent eigenvectors.\n",
    "\n",
    "Thus if we are willing to replace our matrix by the *conjugate* matrix $P^{-1} A P$, then for $A$ diagonalizable, for some purposes \"we  may as well suppose that $A$ is diagonal\" (though of course that statement is imprecise!).\n",
    "\n"
   ]
  },
  {
   "cell_type": "markdown",
   "metadata": {
    "slideshow": {
     "slide_type": "slide"
    }
   },
   "source": [
    "Finding eigenvalues\n",
    "-------------------\n",
    "\n",
    "One might wonder \"how do I find eigenvalues\"? The answer is: the eigenvalues of $A$ are the roots of the *characteristic polynomial* $p_A(t)$ of $A$, where:\n",
    "\n",
    "$$p_A(t) = \\operatorname{det}(A - t \\cdot \\mathbf{I_n}).$$\n",
    "\n",
    "**Proposition**: The characteristic polynomial $p_A(t)$ of the $n\\times n$ matrix $A$ has degree $n$, and thus $A$ has no more than $n$ distinct eigenvalues.\n",
    "\n",
    "**Remark:** The eigenvalues of $A$ are complex numbers which in general may fail to be real numbers, even when $A$ has only real-number coefficients.\n",
    "\n",
    "--------------\n",
    "\n"
   ]
  },
  {
   "cell_type": "markdown",
   "metadata": {
    "slideshow": {
     "slide_type": "subslide"
    }
   },
   "source": [
    "Tools for finding eigenvalues\n",
    "-----------------------------\n",
    "\n",
    "`python` and `numpy` provides tools for finding eigenvalues. Let's look at the following\n",
    "example:\n",
    "\n",
    "\n",
    "**Example:** Consider the matrix\n",
    "$$A = \\left(\\dfrac{1}{10}\\right)\\cdot \\begin{bmatrix} \n",
    "1 & 1 & 0 & 0 \\\\\n",
    "0 & 2 & 2 & 0 \\\\\n",
    "0 & 3 & 3 & 1 \\\\\n",
    "0 & 0 & 1 & 2 \n",
    "\\end{bmatrix}.$$"
   ]
  },
  {
   "cell_type": "code",
   "execution_count": 1,
   "metadata": {
    "slideshow": {
     "slide_type": "subslide"
    }
   },
   "outputs": [
    {
     "data": {
      "text/plain": [
       "array([[0.10, 0.10, 0.00, 0.00],\n",
       "       [0.00, 0.20, 0.20, 0.00],\n",
       "       [0.00, 0.30, 0.30, 0.10],\n",
       "       [0.00, 0.00, 0.10, 0.20]])"
      ]
     },
     "execution_count": 1,
     "metadata": {},
     "output_type": "execute_result"
    }
   ],
   "source": [
    "import numpy as np\n",
    "import numpy.linalg as npl\n",
    "\n",
    "\n",
    "float_formatter = \"{:.2f}\".format\n",
    "np.set_printoptions(formatter={'float_kind':float_formatter})\n",
    "\n",
    "\n",
    "A = (1/10)*np.array([[1,1,0,0],[0,2,2,0],[0,3,3,1],[0,0,1,2]])\n",
    "\n",
    "A"
   ]
  },
  {
   "cell_type": "markdown",
   "metadata": {
    "slideshow": {
     "slide_type": "fragment"
    }
   },
   "source": [
    "Let's find the eigenvectors/values of this $4 \\times 4$ matrix $A$; we'll use\n",
    "the function ``eig`` found in the python module ``numpy.linalg``:"
   ]
  },
  {
   "cell_type": "code",
   "execution_count": 3,
   "metadata": {
    "slideshow": {
     "slide_type": "fragment"
    }
   },
   "outputs": [
    {
     "data": {
      "text/plain": [
       "[array([0.10, 0.52, -0.02, 0.20]),\n",
       " array([[1.00, -0.12, -0.47, -0.30],\n",
       "        [0.00, -0.51, 0.56, -0.30],\n",
       "        [0.00, -0.81, -0.62, -0.00],\n",
       "        [0.00, -0.25, 0.28, 0.90]])]"
      ]
     },
     "execution_count": 3,
     "metadata": {},
     "output_type": "execute_result"
    }
   ],
   "source": [
    "(e_vals,e_vecs) = npl.eig(A)\n",
    "[e_vals,e_vecs]"
   ]
  },
  {
   "cell_type": "code",
   "execution_count": 8,
   "metadata": {},
   "outputs": [
    {
     "data": {
      "text/plain": [
       "array([0.00, -0.51, 0.56, -0.30])"
      ]
     },
     "execution_count": 8,
     "metadata": {},
     "output_type": "execute_result"
    }
   ],
   "source": [
    "e_vecs[1,:]\n"
   ]
  },
  {
   "cell_type": "markdown",
   "metadata": {
    "slideshow": {
     "slide_type": "subslide"
    }
   },
   "source": [
    "The function ``eig`` returns a \"list of np arrays\". This first array contains\n",
    "the eigenvalues, and the second contains the a matrix whose *columns* are the eigenvectors.\n",
    "\n",
    "We've assigned the first component of the list to the variable ``e_vals``\n",
    "and the second to ``e_vecs``.\n",
    "\n",
    "To get the individual eigenvectors, we need to [slice](https://numpy.org/doc/stable/user/basics.indexing.html#basics-indexing) the array ``e_vecs``.\n",
    "\n",
    "For example, to get the 0-th (\"first\"!) eigenvector, we can use\n",
    "\n",
    "``e_vecs[:,0]``\n",
    "\n",
    "Here, the argument ``:`` indicates that the full range should be used in the first index dimension, and the argument ``0`` indicates the the second index dimension of the slice is ``0``. Thus ``numpy`` returns the array whose entries are ``e_vecs[0,0], e_vecs[1,0], e_vecs[2,0], e_vecs[3,0]``.\n",
    "\n",
    "Let's confirm that this is really an eigenvector with the indicated eigenvalue:"
   ]
  },
  {
   "cell_type": "code",
   "execution_count": 10,
   "metadata": {
    "slideshow": {
     "slide_type": "subslide"
    }
   },
   "outputs": [
    {
     "data": {
      "text/plain": [
       "[array([-0.30, -0.30, -0.00, 0.90]),\n",
       " array([-0.06, -0.06, -0.00, 0.18]),\n",
       " array([-0.06, -0.06, -0.00, 0.18]),\n",
       "[array([1.00, 0.00, 0.00, 0.00]),\n",
       " array([0.10, 0.00, 0.00, 0.00]),\n",
       " array([0.10, 0.00, 0.00, 0.00]),\n",
       " np.True_]"
      ]
     },
     "execution_count": 10,
     "metadata": {},
     "output_type": "execute_result"
    }
   ],
   "source": [
    "v = e_vecs[:,3]\n",
    "[v,A @ v,e_vals[3]*v, (A @ v - e_vals[3] * v < 1e-7).all()]"
   ]
  },
  {
   "cell_type": "markdown",
   "metadata": {
    "slideshow": {
     "slide_type": "subslide"
    }
   },
   "source": [
    "Let's check *all* of the eigenvalues:"
   ]
  },
  {
   "cell_type": "code",
   "execution_count": 4,
   "metadata": {
    "slideshow": {
     "slide_type": "subslide"
    }
   },
   "outputs": [],
   "source": [
    "import pprint\n",
    "\n",
    "def check(A):\n",
    "    e_vals,e_vecs = npl.eig(A)\n",
    "    \n",
    "    def check_i(i):\n",
    "        lam = float(e_vals[i])\n",
    "        v= e_vecs[:,i]\n",
    "        return { \"lambda\": lam,\n",
    "                 \"A.v\": A @ v,\n",
    "                 \"lambda.v\": lam*v,\n",
    "                 \"match?\": np.abs(A @ v - lam*v < 1e-6).all()\n",
    "               }\n",
    "    return [ check_i(i) for i in range(len(e_vals)) ]\n",
    "        \n"
   ]
  },
  {
   "cell_type": "code",
   "execution_count": 5,
   "metadata": {
    "slideshow": {
     "slide_type": "subslide"
    }
   },
   "outputs": [
    {
     "name": "stdout",
     "output_type": "stream",
     "text": [
      "[{'lambda': 0.1,\n",
      "  'A.v': array([0.10, 0.00, 0.00, 0.00]),\n",
      "  'lambda.v': array([0.10, 0.00, 0.00, 0.00]),\n",
      "  'match?': np.True_},\n",
      " {'lambda': 0.5192582403567257,\n",
      "  'A.v': array([-0.06, -0.26, -0.42, -0.13]),\n",
      "  'lambda.v': array([-0.06, -0.26, -0.42, -0.13]),\n",
      "  'match?': np.True_},\n",
      " {'lambda': -0.019258240356725218,\n",
      "  'A.v': array([0.01, -0.01, 0.01, -0.01]),\n",
      "  'lambda.v': array([0.01, -0.01, 0.01, -0.01]),\n",
      "  'match?': np.True_},\n",
      " {'lambda': 0.19999999999999998,\n",
      "  'A.v': array([-0.06, -0.06, -0.00, 0.18]),\n",
      "  'lambda.v': array([-0.06, -0.06, -0.00, 0.18]),\n",
      "  'match?': np.True_}]\n"
     ]
    }
   ],
   "source": [
    "pprint.pp(check(A))"
   ]
  },
  {
   "cell_type": "markdown",
   "metadata": {
    "slideshow": {
     "slide_type": "subslide"
    }
   },
   "source": [
    "Let's observe that $A$ has 4 distinct eigenvalues, and is thus diagonalizable.\n",
    "Moreover, every eigenvalue $\\lambda$ of $A$ satisfies $|\\lambda| < 1$.\n",
    "Thus, we conclude that $A^m \\to \\mathbf{0}$ as $m \\to \\infty$.\n",
    "\n",
    "And indeed, we confirm that:"
   ]
  },
  {
   "cell_type": "code",
   "execution_count": 6,
   "metadata": {
    "slideshow": {
     "slide_type": "fragment"
    }
   },
   "outputs": [
    {
     "name": "stdout",
     "output_type": "stream",
     "text": [
      "A^24 == 0\n"
     ]
    }
   ],
   "source": [
    "res=[(npl.matrix_power(A,j) - np.zeros((4,4)) < 1e-7*np.ones((4,4))).all() for j in range(50)]\n",
    "\n",
    "j = res.index(True)   ## find the first instance in the list of results      \n",
    "\n",
    "print(f\"A^{j} == 0\")"
   ]
  },
  {
   "cell_type": "markdown",
   "metadata": {
    "slideshow": {
     "slide_type": "slide"
    }
   },
   "source": [
    "Eigenvalues and power iteration.\n",
    "--------------------------------\n",
    "\n",
    "**Theorem 3**: Let $A$ be a diagonalizable $n \\times n$, with $n$ linearly independent eigenvectors $\\mathbf{v}_1,\\dots,\\mathbf{v}_n$\n",
    "with corresponding eigenvalues $\\lambda_1,\\dots,\\lambda_n$.\n",
    "As before, write\n",
    "\n",
    "$$P = \\begin{bmatrix} \n",
    "\\mathbf{v}_1 & \\cdots & \\mathbf{v}_n \n",
    "\\end{bmatrix}.$$\n",
    "\n",
    "**a)** Suppose $|\\lambda_i| <1$ for all $i$. Then $A^m \\to \\mathbf{0}$ as $m \\to \\infty$.\n",
    "\n",
    "**b)** Suppose that $\\lambda_1 = 1$, and $|\\lambda_i| <1$ for $2 \\le i \\le n$. \n",
    "Any vector $\\mathbf{v} \\in \\mathbb{R}^n$ may be written\n",
    "\n",
    "$$\\mathbf{v} = \\sum_{i=1}^n c_i \\mathbf{v}_i.$$\n",
    "\n",
    "If $c_1 \\ne 0$, then \n",
    "$$A^m \\mathbf{v} = c_1\\mathbf{v}_1 \n",
    "\\quad \\text{as} \\quad m \\to \\infty.$$\n",
    "\n",
    "If $c_1 = 0$ then\n",
    "$$A^m \\mathbf{v} =  \\mathbf{0}\n",
    "\\quad \\text{as} \\quad m \\to \\infty.$$"
   ]
  },
  {
   "cell_type": "markdown",
   "metadata": {
    "slideshow": {
     "slide_type": "subslide"
    }
   },
   "source": [
    "Proof:\n",
    "------\n",
    "\n",
    "For **a)**, note that $P^{-1} A P = \\operatorname{diag}(\\lambda_1,\\dots,\\lambda_n)$.\n",
    "Which shows that\n",
    "\n",
    "$$(P^{-1} A P)^m = \\operatorname{diag}(\\lambda_1,\\dots,\\lambda_n)^m = \n",
    "\\operatorname{diag}(\\lambda_1^m,\\dots,\\lambda_n^m) \\to \\mathbf{0} \\quad \\text{as $m \\to \\infty$}.$$\n",
    "\n",
    "Let's now notice that\n",
    "$$(P^{-1} A P)^2 = (P^{-1} A P)(P^{-1} A P) = P^{-1} A A P = P^{-1} A^2 P$$\n",
    "and more generally\n",
    "$$(P^{-1} A P)^m = P^{-1} A^m P \\quad \\text{for $m \\ge 0$}.$$\n",
    "\n",
    "We now see that \n",
    "$$P^{-1} A^m P  \\to \\mathbf{0} \\quad \\text{as $m \\to \\infty$}$$\n",
    "so that\n",
    "$$A^m  \\to P \\cdot \\mathbf{0} \\cdot P^{-1} = \\mathbf{0} \\quad \\text{as $m \\to \\infty$}$$\n"
   ]
  },
  {
   "cell_type": "markdown",
   "metadata": {
    "slideshow": {
     "slide_type": "subslide"
    }
   },
   "source": [
    "Proof of **b)**:\n",
    "----------------\n",
    "\n",
    "Recall that $\\mathbf{v} = \\sum_{i=1}^n c_i \\mathbf{v}_i$.\n",
    "\n",
    "For $i > 1$, **a)** shows that \n",
    "$$A^m \\mathbf{v}_i \\to \\mathbf{0} \\quad \\text{as $m \\to \\infty$}.$$\n",
    "\n",
    "while\n",
    "\n",
    "$$A^m \\mathbf{v}_1 = \\mathbf{v}_1 \\quad \\text{for all $m$}.$$\n",
    "\n",
    "The preceding discussion now shows that \n",
    "\n",
    "$$A^m \\mathbf{v} = \\sum_{i=1}^n c_i A^m \\mathbf{v}_i \\mapsto c_1 \\mathbf{v_1}$$\n",
    "\n",
    "and **b)** follows at once."
   ]
  },
  {
   "cell_type": "markdown",
   "metadata": {
    "slideshow": {
     "slide_type": "slide"
    }
   },
   "source": [
    "Corollary\n",
    "---------\n",
    "\n",
    "Suppose that $A$ is diagonalizable with eigenvalues $\\lambda_1,\\dots,\\lambda_n$, that\n",
    "$\\lambda_1 = 1$, and that $|\\lambda_i| < 1$ for $i =2,...,n$.\n",
    "Let $\\mathbf{v_1}$ be a 1-eigenvector for $A$.\n",
    "\n",
    "Then \n",
    "\n",
    "$$A^m \\to B \\quad \\text{as $m \\to \\infty$}$$\n",
    "\n",
    "for a matrix $B$ with the property that each column of $B$ is either $\\mathbf{0}$\n",
    "or some multiple of $\\mathbf{v_1}$.\n",
    "\n",
    "**Indeed:** the $i$th column of $B$ can be found by computing\n",
    "\n",
    "$$(\\heartsuit) \\quad \\lim_{m \\to \\infty} A^m \\mathbf{e}_i$$\n",
    "\n",
    "where $\\mathbf{e}_i$ is the $i$th standard basis vector.\n",
    "\n",
    "We've seen above that $(\\heartsuit)$ is either $0$ or a multiple of $\\mathbf{v}$, depending\n",
    "on whether or not the coefficient $c_1$ in the expression\n",
    "\n",
    "$$\\mathbf{e}_i = \\sum_{j =1}^n c_j \\mathbf{v}_j$$\n",
    "\n",
    "is zero."
   ]
  },
  {
   "cell_type": "markdown",
   "metadata": {
    "slideshow": {
     "slide_type": "slide"
    }
   },
   "source": [
    "Examples revisited: population growth & aging\n",
    "---------------------------------------------\n",
    "\n",
    "Recall from last week our finite-state machine describing population & aging.\n",
    "\n",
    "We considered a population of organisms described by:"
   ]
  },
  {
   "cell_type": "code",
   "execution_count": 7,
   "metadata": {
    "slideshow": {
     "slide_type": "subslide"
    },
    "tags": [
     "hide"
    ]
   },
   "outputs": [
    {
     "ename": "ExecutableNotFound",
     "evalue": "failed to execute PosixPath('dot'), make sure the Graphviz executables are on your systems' PATH",
     "output_type": "error",
     "traceback": [
      "\u001b[31m---------------------------------------------------------------------------\u001b[39m",
      "\u001b[31mFileNotFoundError\u001b[39m                         Traceback (most recent call last)",
      "\u001b[36mFile \u001b[39m\u001b[32m~/Prof-VC/classes-and-advising/AY2024-25--2025-sp--Math087/.venv/lib/python3.11/site-packages/graphviz/backend/execute.py:76\u001b[39m, in \u001b[36mrun_check\u001b[39m\u001b[34m(cmd, input_lines, encoding, quiet, **kwargs)\u001b[39m\n\u001b[32m     75\u001b[39m         kwargs[\u001b[33m'\u001b[39m\u001b[33mstdout\u001b[39m\u001b[33m'\u001b[39m] = kwargs[\u001b[33m'\u001b[39m\u001b[33mstderr\u001b[39m\u001b[33m'\u001b[39m] = subprocess.PIPE\n\u001b[32m---> \u001b[39m\u001b[32m76\u001b[39m     proc = \u001b[43m_run_input_lines\u001b[49m\u001b[43m(\u001b[49m\u001b[43mcmd\u001b[49m\u001b[43m,\u001b[49m\u001b[43m \u001b[49m\u001b[43minput_lines\u001b[49m\u001b[43m,\u001b[49m\u001b[43m \u001b[49m\u001b[43mkwargs\u001b[49m\u001b[43m=\u001b[49m\u001b[43mkwargs\u001b[49m\u001b[43m)\u001b[49m\n\u001b[32m     77\u001b[39m \u001b[38;5;28;01melse\u001b[39;00m:\n",
      "\u001b[36mFile \u001b[39m\u001b[32m~/Prof-VC/classes-and-advising/AY2024-25--2025-sp--Math087/.venv/lib/python3.11/site-packages/graphviz/backend/execute.py:96\u001b[39m, in \u001b[36m_run_input_lines\u001b[39m\u001b[34m(cmd, input_lines, kwargs)\u001b[39m\n\u001b[32m     95\u001b[39m \u001b[38;5;28;01mdef\u001b[39;00m\u001b[38;5;250m \u001b[39m\u001b[34m_run_input_lines\u001b[39m(cmd, input_lines, *, kwargs):\n\u001b[32m---> \u001b[39m\u001b[32m96\u001b[39m     popen = \u001b[43msubprocess\u001b[49m\u001b[43m.\u001b[49m\u001b[43mPopen\u001b[49m\u001b[43m(\u001b[49m\u001b[43mcmd\u001b[49m\u001b[43m,\u001b[49m\u001b[43m \u001b[49m\u001b[43mstdin\u001b[49m\u001b[43m=\u001b[49m\u001b[43msubprocess\u001b[49m\u001b[43m.\u001b[49m\u001b[43mPIPE\u001b[49m\u001b[43m,\u001b[49m\u001b[43m \u001b[49m\u001b[43m*\u001b[49m\u001b[43m*\u001b[49m\u001b[43mkwargs\u001b[49m\u001b[43m)\u001b[49m\n\u001b[32m     98\u001b[39m     stdin_write = popen.stdin.write\n",
      "\u001b[36mFile \u001b[39m\u001b[32m/usr/lib/python3.11/subprocess.py:1024\u001b[39m, in \u001b[36mPopen.__init__\u001b[39m\u001b[34m(self, args, bufsize, executable, stdin, stdout, stderr, preexec_fn, close_fds, shell, cwd, env, universal_newlines, startupinfo, creationflags, restore_signals, start_new_session, pass_fds, user, group, extra_groups, encoding, errors, text, umask, pipesize, process_group)\u001b[39m\n\u001b[32m   1021\u001b[39m             \u001b[38;5;28mself\u001b[39m.stderr = io.TextIOWrapper(\u001b[38;5;28mself\u001b[39m.stderr,\n\u001b[32m   1022\u001b[39m                     encoding=encoding, errors=errors)\n\u001b[32m-> \u001b[39m\u001b[32m1024\u001b[39m     \u001b[38;5;28;43mself\u001b[39;49m\u001b[43m.\u001b[49m\u001b[43m_execute_child\u001b[49m\u001b[43m(\u001b[49m\u001b[43margs\u001b[49m\u001b[43m,\u001b[49m\u001b[43m \u001b[49m\u001b[43mexecutable\u001b[49m\u001b[43m,\u001b[49m\u001b[43m \u001b[49m\u001b[43mpreexec_fn\u001b[49m\u001b[43m,\u001b[49m\u001b[43m \u001b[49m\u001b[43mclose_fds\u001b[49m\u001b[43m,\u001b[49m\n\u001b[32m   1025\u001b[39m \u001b[43m                        \u001b[49m\u001b[43mpass_fds\u001b[49m\u001b[43m,\u001b[49m\u001b[43m \u001b[49m\u001b[43mcwd\u001b[49m\u001b[43m,\u001b[49m\u001b[43m \u001b[49m\u001b[43menv\u001b[49m\u001b[43m,\u001b[49m\n\u001b[32m   1026\u001b[39m \u001b[43m                        \u001b[49m\u001b[43mstartupinfo\u001b[49m\u001b[43m,\u001b[49m\u001b[43m \u001b[49m\u001b[43mcreationflags\u001b[49m\u001b[43m,\u001b[49m\u001b[43m \u001b[49m\u001b[43mshell\u001b[49m\u001b[43m,\u001b[49m\n\u001b[32m   1027\u001b[39m \u001b[43m                        \u001b[49m\u001b[43mp2cread\u001b[49m\u001b[43m,\u001b[49m\u001b[43m \u001b[49m\u001b[43mp2cwrite\u001b[49m\u001b[43m,\u001b[49m\n\u001b[32m   1028\u001b[39m \u001b[43m                        \u001b[49m\u001b[43mc2pread\u001b[49m\u001b[43m,\u001b[49m\u001b[43m \u001b[49m\u001b[43mc2pwrite\u001b[49m\u001b[43m,\u001b[49m\n\u001b[32m   1029\u001b[39m \u001b[43m                        \u001b[49m\u001b[43merrread\u001b[49m\u001b[43m,\u001b[49m\u001b[43m \u001b[49m\u001b[43merrwrite\u001b[49m\u001b[43m,\u001b[49m\n\u001b[32m   1030\u001b[39m \u001b[43m                        \u001b[49m\u001b[43mrestore_signals\u001b[49m\u001b[43m,\u001b[49m\n\u001b[32m   1031\u001b[39m \u001b[43m                        \u001b[49m\u001b[43mgid\u001b[49m\u001b[43m,\u001b[49m\u001b[43m \u001b[49m\u001b[43mgids\u001b[49m\u001b[43m,\u001b[49m\u001b[43m \u001b[49m\u001b[43muid\u001b[49m\u001b[43m,\u001b[49m\u001b[43m \u001b[49m\u001b[43mumask\u001b[49m\u001b[43m,\u001b[49m\n\u001b[32m   1032\u001b[39m \u001b[43m                        \u001b[49m\u001b[43mstart_new_session\u001b[49m\u001b[43m,\u001b[49m\u001b[43m \u001b[49m\u001b[43mprocess_group\u001b[49m\u001b[43m)\u001b[49m\n\u001b[32m   1033\u001b[39m \u001b[38;5;28;01mexcept\u001b[39;00m:\n\u001b[32m   1034\u001b[39m     \u001b[38;5;66;03m# Cleanup if the child failed starting.\u001b[39;00m\n",
      "\u001b[36mFile \u001b[39m\u001b[32m/usr/lib/python3.11/subprocess.py:1901\u001b[39m, in \u001b[36mPopen._execute_child\u001b[39m\u001b[34m(self, args, executable, preexec_fn, close_fds, pass_fds, cwd, env, startupinfo, creationflags, shell, p2cread, p2cwrite, c2pread, c2pwrite, errread, errwrite, restore_signals, gid, gids, uid, umask, start_new_session, process_group)\u001b[39m\n\u001b[32m   1900\u001b[39m         err_msg = os.strerror(errno_num)\n\u001b[32m-> \u001b[39m\u001b[32m1901\u001b[39m     \u001b[38;5;28;01mraise\u001b[39;00m child_exception_type(errno_num, err_msg, err_filename)\n\u001b[32m   1902\u001b[39m \u001b[38;5;28;01mraise\u001b[39;00m child_exception_type(err_msg)\n",
      "\u001b[31mFileNotFoundError\u001b[39m: [Errno 2] No such file or directory: PosixPath('dot')",
      "\nThe above exception was the direct cause of the following exception:\n",
      "\u001b[31mExecutableNotFound\u001b[39m                        Traceback (most recent call last)",
      "\u001b[36mFile \u001b[39m\u001b[32m~/Prof-VC/classes-and-advising/AY2024-25--2025-sp--Math087/.venv/lib/python3.11/site-packages/IPython/core/formatters.py:1036\u001b[39m, in \u001b[36mMimeBundleFormatter.__call__\u001b[39m\u001b[34m(self, obj, include, exclude)\u001b[39m\n\u001b[32m   1033\u001b[39m     method = get_real_method(obj, \u001b[38;5;28mself\u001b[39m.print_method)\n\u001b[32m   1035\u001b[39m     \u001b[38;5;28;01mif\u001b[39;00m method \u001b[38;5;129;01mis\u001b[39;00m \u001b[38;5;129;01mnot\u001b[39;00m \u001b[38;5;28;01mNone\u001b[39;00m:\n\u001b[32m-> \u001b[39m\u001b[32m1036\u001b[39m         \u001b[38;5;28;01mreturn\u001b[39;00m \u001b[43mmethod\u001b[49m\u001b[43m(\u001b[49m\u001b[43minclude\u001b[49m\u001b[43m=\u001b[49m\u001b[43minclude\u001b[49m\u001b[43m,\u001b[49m\u001b[43m \u001b[49m\u001b[43mexclude\u001b[49m\u001b[43m=\u001b[49m\u001b[43mexclude\u001b[49m\u001b[43m)\u001b[49m\n\u001b[32m   1037\u001b[39m     \u001b[38;5;28;01mreturn\u001b[39;00m \u001b[38;5;28;01mNone\u001b[39;00m\n\u001b[32m   1038\u001b[39m \u001b[38;5;28;01melse\u001b[39;00m:\n",
      "\u001b[36mFile \u001b[39m\u001b[32m~/Prof-VC/classes-and-advising/AY2024-25--2025-sp--Math087/.venv/lib/python3.11/site-packages/graphviz/jupyter_integration.py:98\u001b[39m, in \u001b[36mJupyterIntegration._repr_mimebundle_\u001b[39m\u001b[34m(self, include, exclude, **_)\u001b[39m\n\u001b[32m     96\u001b[39m include = \u001b[38;5;28mset\u001b[39m(include) \u001b[38;5;28;01mif\u001b[39;00m include \u001b[38;5;129;01mis\u001b[39;00m \u001b[38;5;129;01mnot\u001b[39;00m \u001b[38;5;28;01mNone\u001b[39;00m \u001b[38;5;28;01melse\u001b[39;00m {\u001b[38;5;28mself\u001b[39m._jupyter_mimetype}\n\u001b[32m     97\u001b[39m include -= \u001b[38;5;28mset\u001b[39m(exclude \u001b[38;5;129;01mor\u001b[39;00m [])\n\u001b[32m---> \u001b[39m\u001b[32m98\u001b[39m \u001b[38;5;28;01mreturn\u001b[39;00m \u001b[43m{\u001b[49m\u001b[43mmimetype\u001b[49m\u001b[43m:\u001b[49m\u001b[43m \u001b[49m\u001b[38;5;28;43mgetattr\u001b[39;49m\u001b[43m(\u001b[49m\u001b[38;5;28;43mself\u001b[39;49m\u001b[43m,\u001b[49m\u001b[43m \u001b[49m\u001b[43mmethod_name\u001b[49m\u001b[43m)\u001b[49m\u001b[43m(\u001b[49m\u001b[43m)\u001b[49m\n\u001b[32m     99\u001b[39m \u001b[43m        \u001b[49m\u001b[38;5;28;43;01mfor\u001b[39;49;00m\u001b[43m \u001b[49m\u001b[43mmimetype\u001b[49m\u001b[43m,\u001b[49m\u001b[43m \u001b[49m\u001b[43mmethod_name\u001b[49m\u001b[43m \u001b[49m\u001b[38;5;129;43;01min\u001b[39;49;00m\u001b[43m \u001b[49m\u001b[43mMIME_TYPES\u001b[49m\u001b[43m.\u001b[49m\u001b[43mitems\u001b[49m\u001b[43m(\u001b[49m\u001b[43m)\u001b[49m\n\u001b[32m    100\u001b[39m \u001b[43m        \u001b[49m\u001b[38;5;28;43;01mif\u001b[39;49;00m\u001b[43m \u001b[49m\u001b[43mmimetype\u001b[49m\u001b[43m \u001b[49m\u001b[38;5;129;43;01min\u001b[39;49;00m\u001b[43m \u001b[49m\u001b[43minclude\u001b[49m\u001b[43m}\u001b[49m\n",
      "\u001b[36mFile \u001b[39m\u001b[32m~/Prof-VC/classes-and-advising/AY2024-25--2025-sp--Math087/.venv/lib/python3.11/site-packages/graphviz/jupyter_integration.py:98\u001b[39m, in \u001b[36m<dictcomp>\u001b[39m\u001b[34m(.0)\u001b[39m\n\u001b[32m     96\u001b[39m include = \u001b[38;5;28mset\u001b[39m(include) \u001b[38;5;28;01mif\u001b[39;00m include \u001b[38;5;129;01mis\u001b[39;00m \u001b[38;5;129;01mnot\u001b[39;00m \u001b[38;5;28;01mNone\u001b[39;00m \u001b[38;5;28;01melse\u001b[39;00m {\u001b[38;5;28mself\u001b[39m._jupyter_mimetype}\n\u001b[32m     97\u001b[39m include -= \u001b[38;5;28mset\u001b[39m(exclude \u001b[38;5;129;01mor\u001b[39;00m [])\n\u001b[32m---> \u001b[39m\u001b[32m98\u001b[39m \u001b[38;5;28;01mreturn\u001b[39;00m {mimetype: \u001b[38;5;28;43mgetattr\u001b[39;49m\u001b[43m(\u001b[49m\u001b[38;5;28;43mself\u001b[39;49m\u001b[43m,\u001b[49m\u001b[43m \u001b[49m\u001b[43mmethod_name\u001b[49m\u001b[43m)\u001b[49m\u001b[43m(\u001b[49m\u001b[43m)\u001b[49m\n\u001b[32m     99\u001b[39m         \u001b[38;5;28;01mfor\u001b[39;00m mimetype, method_name \u001b[38;5;129;01min\u001b[39;00m MIME_TYPES.items()\n\u001b[32m    100\u001b[39m         \u001b[38;5;28;01mif\u001b[39;00m mimetype \u001b[38;5;129;01min\u001b[39;00m include}\n",
      "\u001b[36mFile \u001b[39m\u001b[32m~/Prof-VC/classes-and-advising/AY2024-25--2025-sp--Math087/.venv/lib/python3.11/site-packages/graphviz/jupyter_integration.py:112\u001b[39m, in \u001b[36mJupyterIntegration._repr_image_svg_xml\u001b[39m\u001b[34m(self)\u001b[39m\n\u001b[32m    110\u001b[39m \u001b[38;5;28;01mdef\u001b[39;00m\u001b[38;5;250m \u001b[39m\u001b[34m_repr_image_svg_xml\u001b[39m(\u001b[38;5;28mself\u001b[39m) -> \u001b[38;5;28mstr\u001b[39m:\n\u001b[32m    111\u001b[39m \u001b[38;5;250m    \u001b[39m\u001b[33;03m\"\"\"Return the rendered graph as SVG string.\"\"\"\u001b[39;00m\n\u001b[32m--> \u001b[39m\u001b[32m112\u001b[39m     \u001b[38;5;28;01mreturn\u001b[39;00m \u001b[38;5;28;43mself\u001b[39;49m\u001b[43m.\u001b[49m\u001b[43mpipe\u001b[49m\u001b[43m(\u001b[49m\u001b[38;5;28;43mformat\u001b[39;49m\u001b[43m=\u001b[49m\u001b[33;43m'\u001b[39;49m\u001b[33;43msvg\u001b[39;49m\u001b[33;43m'\u001b[39;49m\u001b[43m,\u001b[49m\u001b[43m \u001b[49m\u001b[43mencoding\u001b[49m\u001b[43m=\u001b[49m\u001b[43mSVG_ENCODING\u001b[49m\u001b[43m)\u001b[49m\n",
      "\u001b[36mFile \u001b[39m\u001b[32m~/Prof-VC/classes-and-advising/AY2024-25--2025-sp--Math087/.venv/lib/python3.11/site-packages/graphviz/piping.py:104\u001b[39m, in \u001b[36mPipe.pipe\u001b[39m\u001b[34m(self, format, renderer, formatter, neato_no_op, quiet, engine, encoding)\u001b[39m\n\u001b[32m     55\u001b[39m \u001b[38;5;28;01mdef\u001b[39;00m\u001b[38;5;250m \u001b[39m\u001b[34mpipe\u001b[39m(\u001b[38;5;28mself\u001b[39m,\n\u001b[32m     56\u001b[39m          \u001b[38;5;28mformat\u001b[39m: typing.Optional[\u001b[38;5;28mstr\u001b[39m] = \u001b[38;5;28;01mNone\u001b[39;00m,\n\u001b[32m     57\u001b[39m          renderer: typing.Optional[\u001b[38;5;28mstr\u001b[39m] = \u001b[38;5;28;01mNone\u001b[39;00m,\n\u001b[32m   (...)\u001b[39m\u001b[32m     61\u001b[39m          engine: typing.Optional[\u001b[38;5;28mstr\u001b[39m] = \u001b[38;5;28;01mNone\u001b[39;00m,\n\u001b[32m     62\u001b[39m          encoding: typing.Optional[\u001b[38;5;28mstr\u001b[39m] = \u001b[38;5;28;01mNone\u001b[39;00m) -> typing.Union[\u001b[38;5;28mbytes\u001b[39m, \u001b[38;5;28mstr\u001b[39m]:\n\u001b[32m     63\u001b[39m \u001b[38;5;250m    \u001b[39m\u001b[33;03m\"\"\"Return the source piped through the Graphviz layout command.\u001b[39;00m\n\u001b[32m     64\u001b[39m \n\u001b[32m     65\u001b[39m \u001b[33;03m    Args:\u001b[39;00m\n\u001b[32m   (...)\u001b[39m\u001b[32m    102\u001b[39m \u001b[33;03m        '<?xml version='\u001b[39;00m\n\u001b[32m    103\u001b[39m \u001b[33;03m    \"\"\"\u001b[39;00m\n\u001b[32m--> \u001b[39m\u001b[32m104\u001b[39m     \u001b[38;5;28;01mreturn\u001b[39;00m \u001b[38;5;28;43mself\u001b[39;49m\u001b[43m.\u001b[49m\u001b[43m_pipe_legacy\u001b[49m\u001b[43m(\u001b[49m\u001b[38;5;28;43mformat\u001b[39;49m\u001b[43m,\u001b[49m\n\u001b[32m    105\u001b[39m \u001b[43m                             \u001b[49m\u001b[43mrenderer\u001b[49m\u001b[43m=\u001b[49m\u001b[43mrenderer\u001b[49m\u001b[43m,\u001b[49m\n\u001b[32m    106\u001b[39m \u001b[43m                             \u001b[49m\u001b[43mformatter\u001b[49m\u001b[43m=\u001b[49m\u001b[43mformatter\u001b[49m\u001b[43m,\u001b[49m\n\u001b[32m    107\u001b[39m \u001b[43m                             \u001b[49m\u001b[43mneato_no_op\u001b[49m\u001b[43m=\u001b[49m\u001b[43mneato_no_op\u001b[49m\u001b[43m,\u001b[49m\n\u001b[32m    108\u001b[39m \u001b[43m                             \u001b[49m\u001b[43mquiet\u001b[49m\u001b[43m=\u001b[49m\u001b[43mquiet\u001b[49m\u001b[43m,\u001b[49m\n\u001b[32m    109\u001b[39m \u001b[43m                             \u001b[49m\u001b[43mengine\u001b[49m\u001b[43m=\u001b[49m\u001b[43mengine\u001b[49m\u001b[43m,\u001b[49m\n\u001b[32m    110\u001b[39m \u001b[43m                             \u001b[49m\u001b[43mencoding\u001b[49m\u001b[43m=\u001b[49m\u001b[43mencoding\u001b[49m\u001b[43m)\u001b[49m\n",
      "\u001b[36mFile \u001b[39m\u001b[32m~/Prof-VC/classes-and-advising/AY2024-25--2025-sp--Math087/.venv/lib/python3.11/site-packages/graphviz/_tools.py:171\u001b[39m, in \u001b[36mdeprecate_positional_args.<locals>.decorator.<locals>.wrapper\u001b[39m\u001b[34m(*args, **kwargs)\u001b[39m\n\u001b[32m    162\u001b[39m     wanted = \u001b[33m'\u001b[39m\u001b[33m, \u001b[39m\u001b[33m'\u001b[39m.join(\u001b[33mf\u001b[39m\u001b[33m'\u001b[39m\u001b[38;5;132;01m{\u001b[39;00mname\u001b[38;5;132;01m}\u001b[39;00m\u001b[33m=\u001b[39m\u001b[38;5;132;01m{\u001b[39;00mvalue\u001b[38;5;132;01m!r}\u001b[39;00m\u001b[33m'\u001b[39m\n\u001b[32m    163\u001b[39m                        \u001b[38;5;28;01mfor\u001b[39;00m name, value \u001b[38;5;129;01min\u001b[39;00m deprecated.items())\n\u001b[32m    164\u001b[39m     warnings.warn(\u001b[33mf\u001b[39m\u001b[33m'\u001b[39m\u001b[33mThe signature of \u001b[39m\u001b[38;5;132;01m{\u001b[39;00mfunc.\u001b[34m__name__\u001b[39m\u001b[38;5;132;01m}\u001b[39;00m\u001b[33m will be reduced\u001b[39m\u001b[33m'\u001b[39m\n\u001b[32m    165\u001b[39m                   \u001b[33mf\u001b[39m\u001b[33m'\u001b[39m\u001b[33m to \u001b[39m\u001b[38;5;132;01m{\u001b[39;00msupported_number\u001b[38;5;132;01m}\u001b[39;00m\u001b[33m positional args\u001b[39m\u001b[33m'\u001b[39m\n\u001b[32m    166\u001b[39m                   \u001b[33mf\u001b[39m\u001b[33m'\u001b[39m\u001b[33m \u001b[39m\u001b[38;5;132;01m{\u001b[39;00m\u001b[38;5;28mlist\u001b[39m(supported)\u001b[38;5;132;01m}\u001b[39;00m\u001b[33m: pass \u001b[39m\u001b[38;5;132;01m{\u001b[39;00mwanted\u001b[38;5;132;01m}\u001b[39;00m\u001b[33m'\u001b[39m\n\u001b[32m    167\u001b[39m                   \u001b[33m'\u001b[39m\u001b[33m as keyword arg(s)\u001b[39m\u001b[33m'\u001b[39m,\n\u001b[32m    168\u001b[39m                   stacklevel=stacklevel,\n\u001b[32m    169\u001b[39m                   category=category)\n\u001b[32m--> \u001b[39m\u001b[32m171\u001b[39m \u001b[38;5;28;01mreturn\u001b[39;00m \u001b[43mfunc\u001b[49m\u001b[43m(\u001b[49m\u001b[43m*\u001b[49m\u001b[43margs\u001b[49m\u001b[43m,\u001b[49m\u001b[43m \u001b[49m\u001b[43m*\u001b[49m\u001b[43m*\u001b[49m\u001b[43mkwargs\u001b[49m\u001b[43m)\u001b[49m\n",
      "\u001b[36mFile \u001b[39m\u001b[32m~/Prof-VC/classes-and-advising/AY2024-25--2025-sp--Math087/.venv/lib/python3.11/site-packages/graphviz/piping.py:121\u001b[39m, in \u001b[36mPipe._pipe_legacy\u001b[39m\u001b[34m(self, format, renderer, formatter, neato_no_op, quiet, engine, encoding)\u001b[39m\n\u001b[32m    112\u001b[39m \u001b[38;5;129m@_tools\u001b[39m.deprecate_positional_args(supported_number=\u001b[32m2\u001b[39m)\n\u001b[32m    113\u001b[39m \u001b[38;5;28;01mdef\u001b[39;00m\u001b[38;5;250m \u001b[39m\u001b[34m_pipe_legacy\u001b[39m(\u001b[38;5;28mself\u001b[39m,\n\u001b[32m    114\u001b[39m                  \u001b[38;5;28mformat\u001b[39m: typing.Optional[\u001b[38;5;28mstr\u001b[39m] = \u001b[38;5;28;01mNone\u001b[39;00m,\n\u001b[32m   (...)\u001b[39m\u001b[32m    119\u001b[39m                  engine: typing.Optional[\u001b[38;5;28mstr\u001b[39m] = \u001b[38;5;28;01mNone\u001b[39;00m,\n\u001b[32m    120\u001b[39m                  encoding: typing.Optional[\u001b[38;5;28mstr\u001b[39m] = \u001b[38;5;28;01mNone\u001b[39;00m) -> typing.Union[\u001b[38;5;28mbytes\u001b[39m, \u001b[38;5;28mstr\u001b[39m]:\n\u001b[32m--> \u001b[39m\u001b[32m121\u001b[39m     \u001b[38;5;28;01mreturn\u001b[39;00m \u001b[38;5;28;43mself\u001b[39;49m\u001b[43m.\u001b[49m\u001b[43m_pipe_future\u001b[49m\u001b[43m(\u001b[49m\u001b[38;5;28;43mformat\u001b[39;49m\u001b[43m,\u001b[49m\n\u001b[32m    122\u001b[39m \u001b[43m                             \u001b[49m\u001b[43mrenderer\u001b[49m\u001b[43m=\u001b[49m\u001b[43mrenderer\u001b[49m\u001b[43m,\u001b[49m\n\u001b[32m    123\u001b[39m \u001b[43m                             \u001b[49m\u001b[43mformatter\u001b[49m\u001b[43m=\u001b[49m\u001b[43mformatter\u001b[49m\u001b[43m,\u001b[49m\n\u001b[32m    124\u001b[39m \u001b[43m                             \u001b[49m\u001b[43mneato_no_op\u001b[49m\u001b[43m=\u001b[49m\u001b[43mneato_no_op\u001b[49m\u001b[43m,\u001b[49m\n\u001b[32m    125\u001b[39m \u001b[43m                             \u001b[49m\u001b[43mquiet\u001b[49m\u001b[43m=\u001b[49m\u001b[43mquiet\u001b[49m\u001b[43m,\u001b[49m\n\u001b[32m    126\u001b[39m \u001b[43m                             \u001b[49m\u001b[43mengine\u001b[49m\u001b[43m=\u001b[49m\u001b[43mengine\u001b[49m\u001b[43m,\u001b[49m\n\u001b[32m    127\u001b[39m \u001b[43m                             \u001b[49m\u001b[43mencoding\u001b[49m\u001b[43m=\u001b[49m\u001b[43mencoding\u001b[49m\u001b[43m)\u001b[49m\n",
      "\u001b[36mFile \u001b[39m\u001b[32m~/Prof-VC/classes-and-advising/AY2024-25--2025-sp--Math087/.venv/lib/python3.11/site-packages/graphviz/piping.py:149\u001b[39m, in \u001b[36mPipe._pipe_future\u001b[39m\u001b[34m(self, format, renderer, formatter, neato_no_op, quiet, engine, encoding)\u001b[39m\n\u001b[32m    146\u001b[39m \u001b[38;5;28;01mif\u001b[39;00m encoding \u001b[38;5;129;01mis\u001b[39;00m \u001b[38;5;129;01mnot\u001b[39;00m \u001b[38;5;28;01mNone\u001b[39;00m:\n\u001b[32m    147\u001b[39m     \u001b[38;5;28;01mif\u001b[39;00m codecs.lookup(encoding) \u001b[38;5;129;01mis\u001b[39;00m codecs.lookup(\u001b[38;5;28mself\u001b[39m.encoding):\n\u001b[32m    148\u001b[39m         \u001b[38;5;66;03m# common case: both stdin and stdout need the same encoding\u001b[39;00m\n\u001b[32m--> \u001b[39m\u001b[32m149\u001b[39m         \u001b[38;5;28;01mreturn\u001b[39;00m \u001b[38;5;28;43mself\u001b[39;49m\u001b[43m.\u001b[49m\u001b[43m_pipe_lines_string\u001b[49m\u001b[43m(\u001b[49m\u001b[43m*\u001b[49m\u001b[43margs\u001b[49m\u001b[43m,\u001b[49m\u001b[43m \u001b[49m\u001b[43mencoding\u001b[49m\u001b[43m=\u001b[49m\u001b[43mencoding\u001b[49m\u001b[43m,\u001b[49m\u001b[43m \u001b[49m\u001b[43m*\u001b[49m\u001b[43m*\u001b[49m\u001b[43mkwargs\u001b[49m\u001b[43m)\u001b[49m\n\u001b[32m    150\u001b[39m     \u001b[38;5;28;01mtry\u001b[39;00m:\n\u001b[32m    151\u001b[39m         raw = \u001b[38;5;28mself\u001b[39m._pipe_lines(*args, input_encoding=\u001b[38;5;28mself\u001b[39m.encoding, **kwargs)\n",
      "\u001b[36mFile \u001b[39m\u001b[32m~/Prof-VC/classes-and-advising/AY2024-25--2025-sp--Math087/.venv/lib/python3.11/site-packages/graphviz/backend/piping.py:212\u001b[39m, in \u001b[36mpipe_lines_string\u001b[39m\u001b[34m(engine, format, input_lines, encoding, renderer, formatter, neato_no_op, quiet)\u001b[39m\n\u001b[32m    206\u001b[39m cmd = dot_command.command(engine, \u001b[38;5;28mformat\u001b[39m,\n\u001b[32m    207\u001b[39m                           renderer=renderer,\n\u001b[32m    208\u001b[39m                           formatter=formatter,\n\u001b[32m    209\u001b[39m                           neato_no_op=neato_no_op)\n\u001b[32m    210\u001b[39m kwargs = {\u001b[33m'\u001b[39m\u001b[33minput_lines\u001b[39m\u001b[33m'\u001b[39m: input_lines, \u001b[33m'\u001b[39m\u001b[33mencoding\u001b[39m\u001b[33m'\u001b[39m: encoding}\n\u001b[32m--> \u001b[39m\u001b[32m212\u001b[39m proc = \u001b[43mexecute\u001b[49m\u001b[43m.\u001b[49m\u001b[43mrun_check\u001b[49m\u001b[43m(\u001b[49m\u001b[43mcmd\u001b[49m\u001b[43m,\u001b[49m\u001b[43m \u001b[49m\u001b[43mcapture_output\u001b[49m\u001b[43m=\u001b[49m\u001b[38;5;28;43;01mTrue\u001b[39;49;00m\u001b[43m,\u001b[49m\u001b[43m \u001b[49m\u001b[43mquiet\u001b[49m\u001b[43m=\u001b[49m\u001b[43mquiet\u001b[49m\u001b[43m,\u001b[49m\u001b[43m \u001b[49m\u001b[43m*\u001b[49m\u001b[43m*\u001b[49m\u001b[43mkwargs\u001b[49m\u001b[43m)\u001b[49m\n\u001b[32m    213\u001b[39m \u001b[38;5;28;01mreturn\u001b[39;00m proc.stdout\n",
      "\u001b[36mFile \u001b[39m\u001b[32m~/Prof-VC/classes-and-advising/AY2024-25--2025-sp--Math087/.venv/lib/python3.11/site-packages/graphviz/backend/execute.py:81\u001b[39m, in \u001b[36mrun_check\u001b[39m\u001b[34m(cmd, input_lines, encoding, quiet, **kwargs)\u001b[39m\n\u001b[32m     79\u001b[39m \u001b[38;5;28;01mexcept\u001b[39;00m \u001b[38;5;167;01mOSError\u001b[39;00m \u001b[38;5;28;01mas\u001b[39;00m e:\n\u001b[32m     80\u001b[39m     \u001b[38;5;28;01mif\u001b[39;00m e.errno == errno.ENOENT:\n\u001b[32m---> \u001b[39m\u001b[32m81\u001b[39m         \u001b[38;5;28;01mraise\u001b[39;00m ExecutableNotFound(cmd) \u001b[38;5;28;01mfrom\u001b[39;00m\u001b[38;5;250m \u001b[39m\u001b[34;01me\u001b[39;00m\n\u001b[32m     82\u001b[39m     \u001b[38;5;28;01mraise\u001b[39;00m\n\u001b[32m     84\u001b[39m \u001b[38;5;28;01mif\u001b[39;00m \u001b[38;5;129;01mnot\u001b[39;00m quiet \u001b[38;5;129;01mand\u001b[39;00m proc.stderr:\n",
      "\u001b[31mExecutableNotFound\u001b[39m: failed to execute PosixPath('dot'), make sure the Graphviz executables are on your systems' PATH"
     ]
    },
    {
     "data": {
      "image/svg+xml": [
       "<?xml version=\"1.0\" encoding=\"UTF-8\" standalone=\"no\"?>\n",
       "<!DOCTYPE svg PUBLIC \"-//W3C//DTD SVG 1.1//EN\"\n",
       " \"http://www.w3.org/Graphics/SVG/1.1/DTD/svg11.dtd\">\n",
       "<!-- Generated by graphviz version 2.43.0 (0)\n",
       " -->\n",
       "<!-- Title: pop Pages: 1 -->\n",
       "<svg width=\"590pt\" height=\"168pt\"\n",
       " viewBox=\"0.00 0.00 590.47 168.00\" xmlns=\"http://www.w3.org/2000/svg\" xmlns:xlink=\"http://www.w3.org/1999/xlink\">\n",
       "<g id=\"graph0\" class=\"graph\" transform=\"scale(1 1) rotate(0) translate(4 164)\">\n",
       "<title>pop</title>\n",
       "<polygon fill=\"white\" stroke=\"transparent\" points=\"-4,4 -4,-164 586.47,-164 586.47,4 -4,4\"/>\n",
       "<!-- Age 0 -->\n",
       "<g id=\"node1\" class=\"node\">\n",
       "<title>Age 0</title>\n",
       "<ellipse fill=\"none\" stroke=\"black\" cx=\"37.05\" cy=\"-91\" rx=\"37.09\" ry=\"18\"/>\n",
       "<text text-anchor=\"middle\" x=\"37.05\" y=\"-87.3\" font-family=\"Times,serif\" font-size=\"14.00\">Age 0</text>\n",
       "</g>\n",
       "<!-- Age 1 -->\n",
       "<g id=\"node2\" class=\"node\">\n",
       "<title>Age 1</title>\n",
       "<ellipse fill=\"none\" stroke=\"black\" cx=\"164.14\" cy=\"-142\" rx=\"37.09\" ry=\"18\"/>\n",
       "<text text-anchor=\"middle\" x=\"164.14\" y=\"-138.3\" font-family=\"Times,serif\" font-size=\"14.00\">Age 1</text>\n",
       "</g>\n",
       "<!-- Age 0&#45;&gt;Age 1 -->\n",
       "<g id=\"edge1\" class=\"edge\">\n",
       "<title>Age 0&#45;&gt;Age 1</title>\n",
       "<path fill=\"none\" stroke=\"black\" d=\"M51.15,-107.99C61.02,-119.35 75.64,-133.39 92.09,-140 100.08,-143.21 108.98,-144.82 117.71,-145.46\"/>\n",
       "<polygon fill=\"black\" stroke=\"black\" points=\"117.7,-148.96 127.82,-145.81 117.94,-141.97 117.7,-148.96\"/>\n",
       "<text text-anchor=\"middle\" x=\"100.59\" y=\"-147.8\" font-family=\"Times,serif\" font-size=\"14.00\">s0</text>\n",
       "</g>\n",
       "<!-- Age 1&#45;&gt;Age 0 -->\n",
       "<g id=\"edge3\" class=\"edge\">\n",
       "<title>Age 1&#45;&gt;Age 0</title>\n",
       "<path fill=\"none\" stroke=\"black\" d=\"M135.16,-130.59C117.56,-123.42 94.62,-114.07 75.46,-106.25\"/>\n",
       "<polygon fill=\"black\" stroke=\"black\" points=\"76.7,-102.98 66.12,-102.45 74.06,-109.46 76.7,-102.98\"/>\n",
       "<text text-anchor=\"middle\" x=\"100.59\" y=\"-122.8\" font-family=\"Times,serif\" font-size=\"14.00\">f1</text>\n",
       "</g>\n",
       "<!-- Age 2 -->\n",
       "<g id=\"node3\" class=\"node\">\n",
       "<title>Age 2</title>\n",
       "<ellipse fill=\"none\" stroke=\"black\" cx=\"291.23\" cy=\"-91\" rx=\"37.09\" ry=\"18\"/>\n",
       "<text text-anchor=\"middle\" x=\"291.23\" y=\"-87.3\" font-family=\"Times,serif\" font-size=\"14.00\">Age 2</text>\n",
       "</g>\n",
       "<!-- Age 1&#45;&gt;Age 2 -->\n",
       "<g id=\"edge2\" class=\"edge\">\n",
       "<title>Age 1&#45;&gt;Age 2</title>\n",
       "<path fill=\"none\" stroke=\"black\" d=\"M193.21,-130.55C210.84,-123.37 233.77,-114.02 252.92,-106.21\"/>\n",
       "<polygon fill=\"black\" stroke=\"black\" points=\"254.32,-109.42 262.25,-102.41 251.67,-102.94 254.32,-109.42\"/>\n",
       "<text text-anchor=\"middle\" x=\"227.69\" y=\"-122.8\" font-family=\"Times,serif\" font-size=\"14.00\">s1</text>\n",
       "</g>\n",
       "<!-- Age 2&#45;&gt;Age 0 -->\n",
       "<g id=\"edge5\" class=\"edge\">\n",
       "<title>Age 2&#45;&gt;Age 0</title>\n",
       "<path fill=\"none\" stroke=\"black\" d=\"M254.17,-91C209.44,-91 133.13,-91 84.19,-91\"/>\n",
       "<polygon fill=\"black\" stroke=\"black\" points=\"84.18,-87.5 74.18,-91 84.18,-94.5 84.18,-87.5\"/>\n",
       "<text text-anchor=\"middle\" x=\"164.14\" y=\"-94.8\" font-family=\"Times,serif\" font-size=\"14.00\">f2</text>\n",
       "</g>\n",
       "<!-- Age 3 -->\n",
       "<g id=\"node4\" class=\"node\">\n",
       "<title>Age 3</title>\n",
       "<ellipse fill=\"none\" stroke=\"black\" cx=\"418.33\" cy=\"-48\" rx=\"37.09\" ry=\"18\"/>\n",
       "<text text-anchor=\"middle\" x=\"418.33\" y=\"-44.3\" font-family=\"Times,serif\" font-size=\"14.00\">Age 3</text>\n",
       "</g>\n",
       "<!-- Age 2&#45;&gt;Age 3 -->\n",
       "<g id=\"edge4\" class=\"edge\">\n",
       "<title>Age 2&#45;&gt;Age 3</title>\n",
       "<path fill=\"none\" stroke=\"black\" d=\"M321.88,-80.81C338.58,-75.07 359.66,-67.82 377.76,-61.6\"/>\n",
       "<polygon fill=\"black\" stroke=\"black\" points=\"379.14,-64.83 387.46,-58.27 376.87,-58.21 379.14,-64.83\"/>\n",
       "<text text-anchor=\"middle\" x=\"354.78\" y=\"-75.8\" font-family=\"Times,serif\" font-size=\"14.00\">s2</text>\n",
       "</g>\n",
       "<!-- Age 3&#45;&gt;Age 0 -->\n",
       "<g id=\"edge7\" class=\"edge\">\n",
       "<title>Age 3&#45;&gt;Age 0</title>\n",
       "<path fill=\"none\" stroke=\"black\" d=\"M381.65,-51.22C348.58,-54.28 298.03,-59.11 254.19,-64 195.04,-70.59 126.93,-79.28 83.23,-85\"/>\n",
       "<polygon fill=\"black\" stroke=\"black\" points=\"82.66,-81.55 73.2,-86.32 83.57,-88.49 82.66,-81.55\"/>\n",
       "<text text-anchor=\"middle\" x=\"227.69\" y=\"-70.8\" font-family=\"Times,serif\" font-size=\"14.00\">f3</text>\n",
       "</g>\n",
       "<!-- Age 4 -->\n",
       "<g id=\"node5\" class=\"node\">\n",
       "<title>Age 4</title>\n",
       "<ellipse fill=\"none\" stroke=\"black\" cx=\"545.42\" cy=\"-18\" rx=\"37.09\" ry=\"18\"/>\n",
       "<text text-anchor=\"middle\" x=\"545.42\" y=\"-14.3\" font-family=\"Times,serif\" font-size=\"14.00\">Age 4</text>\n",
       "</g>\n",
       "<!-- Age 3&#45;&gt;Age 4 -->\n",
       "<g id=\"edge6\" class=\"edge\">\n",
       "<title>Age 3&#45;&gt;Age 4</title>\n",
       "<path fill=\"none\" stroke=\"black\" d=\"M451.87,-40.2C467.09,-36.54 485.43,-32.15 501.75,-28.23\"/>\n",
       "<polygon fill=\"black\" stroke=\"black\" points=\"502.7,-31.6 511.61,-25.87 501.07,-24.8 502.7,-31.6\"/>\n",
       "<text text-anchor=\"middle\" x=\"481.87\" y=\"-38.8\" font-family=\"Times,serif\" font-size=\"14.00\">s3</text>\n",
       "</g>\n",
       "<!-- Age 4&#45;&gt;Age 0 -->\n",
       "<g id=\"edge8\" class=\"edge\">\n",
       "<title>Age 4&#45;&gt;Age 0</title>\n",
       "<path fill=\"none\" stroke=\"black\" d=\"M510.85,-11.35C485.75,-6.96 450.53,-2 419.33,-2 163.14,-2 163.14,-2 163.14,-2 118.7,-2 79.08,-39.76 56.85,-66.09\"/>\n",
       "<polygon fill=\"black\" stroke=\"black\" points=\"54.14,-63.88 50.53,-73.84 59.56,-68.31 54.14,-63.88\"/>\n",
       "<text text-anchor=\"middle\" x=\"291.23\" y=\"-5.8\" font-family=\"Times,serif\" font-size=\"14.00\">f4</text>\n",
       "</g>\n",
       "</g>\n",
       "</svg>\n"
      ],
      "text/plain": [
       "<graphviz.graphs.Digraph at 0x7f4594386650>"
      ]
     },
     "execution_count": 11,
     "metadata": {},
     "output_type": "execute_result",
     "text/plain": [
      "<graphviz.graphs.Digraph at 0x7f327408f250>"
     ]
    }
   ],
   "source": [
    "from graphviz import Digraph\n",
    "pop = Digraph(\"pop\")\n",
    "pop.attr(rankdir='LR')\n",
    "\n",
    "p = list(range(5))\n",
    "with pop.subgraph() as c:\n",
    "#    c.attr(rank='same')\n",
    "    for i in p:\n",
    "        c.node(f\"Age {i}\")\n",
    "\n",
    "for i in p:\n",
    "    if i+1 in p:\n",
    "        pop.edge(f\"Age {i}\",f\"Age {i+1}\",f\"s{i}\")\n",
    "    if i != 0:\n",
    "        pop.edge(f\"Age {i}\",\"Age 0\",f\"f{i}\")\n",
    "    \n",
    "pop"
   ]
  },
  {
   "cell_type": "markdown",
   "metadata": {
    "slideshow": {
     "slide_type": "subslide"
    }
   },
   "source": [
    "We suppose that $s_7 = 0$, so that the life-span of the organism in question is $\\le 8$ time units.\n",
    "\n",
    "If the population at time $t$ is described by $\\mathbf{p}^{(t)} = \\begin{bmatrix} p_0 & p_1 & \\cdots & p_7 \\end{bmatrix}^T$ then the population at time $t+1$ is given by\n",
    "$$\\mathbf{p}^{(t+1)} = \\begin{bmatrix} \\sum_{i=0}^7 f_i p_i & s_0p_0 & \\cdots & s_6 p_6 \\end{bmatrix}^T\n",
    "= A\\mathbf{p}^{(t)}$$\n",
    "where $$A = \\begin{bmatrix}\n",
    "f_0 & f_1 & f_2 & \\cdots & f_6 & f_7 \\\\\n",
    "s_0 & 0 & 0  & \\cdots & 0 & 0 \\\\\n",
    "0 & s_1 & 0  & \\cdots & 0 & 0  \\\\\n",
    "0 & 0 & s_2  & \\cdots & 0 & 0 \\\\\n",
    "\\vdots & \\vdots & \\vdots & \\ddots & \\vdots & \\vdots \\\\\n",
    "0 & 0 & 0 & \\cdots  & s_6 & 0  \n",
    "\\end{bmatrix}.$$"
   ]
  },
  {
   "cell_type": "markdown",
   "metadata": {
    "slideshow": {
     "slide_type": "subslide"
    }
   },
   "source": [
    "parameters\n",
    "----------\n",
    "\n",
    "Previously, we considered this model for two different sets of parameters:\n",
    "\n",
    "\n",
    "```\n",
    "fA = [.30,.50,.35,.25,.25,.15,.15,.5]\n",
    "sA = [.30,.60,.55,.50,.30,.15,.05,0]\n",
    "```\n",
    "\n",
    "and\n",
    "\n",
    "\n",
    "```\n",
    "fB = [.50,.70,.55,.35,.35,.15,.15,.5]\n",
    "sB = [.40,.70,.55,.50,.35,.15,.05,0]\n",
    "```"
   ]
  },
  {
   "cell_type": "code",
   "execution_count": 8,
   "metadata": {
    "slideshow": {
     "slide_type": "subslide"
    }
   },
   "outputs": [],
   "source": [
    "import numpy as np\n",
    "\n",
    "\n",
    "float_formatter = \"{:.2f}\".format\n",
    "np.set_printoptions(formatter={'float_kind':float_formatter})\n",
    "\n",
    "def sbv(index,size):\n",
    "    return np.array([1.0 if i == index else 0.0 for i in range(size)])\n",
    "\n",
    "## note\n",
    "## bv(\"b\",[\"a\",\"b\",\"c\"])\n",
    "## >> np.array([0,1,0])\n",
    "\n",
    "ones = np.ones(8)\n",
    "\n",
    "\n",
    "def onePowers(f,s,iter=20,skip=1):\n",
    "    # create the \"all ones vector\" of the appropriate length\n",
    "    ones = np.ones(len(f))\n",
    "    \n",
    "    # create the matrix `A` -- initial row is the vector `f`; subsequent rows are multiples of\n",
    "    # standard basis vectors\n",
    "    \n",
    "    A = np.concatenate([ [f], [ s[i]*sbv(i,len(f)) for i in range(len(sA))] ], axis = 0)\n",
    "\n",
    "    # computes the product of `ones` and the jth power of the matrix `A`\n",
    "    # returns the results as a `dictionary` with key `j` and value\n",
    "    # `ones @ A^j`\n",
    "    \n",
    "    s ={ j : ones @ np.linalg.matrix_power(A,j)\n",
    "         for j in range(0,iter,skip) }\n",
    "    \n",
    "    return s\n",
    "\n",
    "\n",
    "def A(f=[],s=[]):\n",
    "    return np.concatenate([ [f], [ s[i]*sbv(i,len(f)) for i in range(len(s))] ], axis = 0)\n",
    "\n",
    "\n",
    "def abs_eig_vals(f,s):\n",
    "    e_val,_ = npl.eig(A(f,s))\n",
    "    return [ float(np.abs(x)) for x in e_val ]\n"
   ]
  },
  {
   "cell_type": "code",
   "execution_count": 9,
   "metadata": {
    "slideshow": {
     "slide_type": "subslide"
    }
   },
   "outputs": [],
   "source": [
    "fA = [.30,.50,.35,.25,.25,.15,.15,.5]\n",
    "sA = [.30,.60,.55,.50,.30,.15,.05]\n",
    "pprint.pp(abs_eig_vals(fA,sA))"
   ]
  },
  {
   "cell_type": "code",
   "execution_count": 10,
   "metadata": {
    "slideshow": {
     "slide_type": "subslide"
    }
   },
   "outputs": [
    {
     "name": "stdout",
     "output_type": "stream",
     "text": [
      "[1.0104953810383637,\n",
      " 0.36497808499800904,\n",
      " 0.36497808499800904,\n",
      " 0.3748508468483046,\n",
      " 0.3748508468483046,\n",
      " 0.1787639416420966,\n",
      " 0.17288710686695213,\n",
      " 0.17288710686695213]\n"
     ]
    }
   ],
   "source": [
    "fB = [.50,.70,.55,.35,.35,.15,.15,.5]\n",
    "sB = [.40,.70,.55,.50,.35,.15,.05]\n",
    "pprint.pp(abs_eig_vals(fB,sB))"
   ]
  },
  {
   "cell_type": "code",
   "execution_count": 11,
   "metadata": {},
   "outputs": [
    {
     "data": {
      "text/plain": [
       "(8, 7)"
      ]
     },
     "execution_count": 11,
     "metadata": {},
     "output_type": "execute_result"
    }
   ],
   "source": [
    "(len(fB),len(sB))"
   ]
  },
  {
   "cell_type": "markdown",
   "metadata": {
    "slideshow": {
     "slide_type": "subslide"
    }
   },
   "source": [
    "Let's look at one more example, now where the organisms have a max life-span of 4 time units (for simplicity!)\n",
    "\n",
    "Let's consider\n",
    "\n",
    "```\n",
    "fC = [0, .2, .49559, 0.4]\n",
    "sC = [.98, .96, .9]\n",
    "```"
   ]
  },
  {
   "cell_type": "code",
   "execution_count": 12,
   "metadata": {
    "slideshow": {
     "slide_type": "fragment"
    }
   },
   "outputs": [
    {
     "name": "stdout",
     "output_type": "stream",
     "text": [
      "[0.9999969131763253, 0.7508930550032085, 0.7508930550032085, 0.5991196464539855]\n",
      "array([ 0.99999691+0.j        , -0.20043863+0.72364683j,\n",
      "       -0.20043863-0.72364683j, -0.59911965+0.j        ])\n",
      "array([[ 0.5298541 +0.j        ,  0.23531368-0.22372896j,\n",
      "         0.23531368+0.22372896j,  0.19595556+0.j        ],\n",
      "       [ 0.51920563+0.j        , -0.3633377 -0.2180027j ,\n",
      "        -0.3633377 +0.2180027j , -0.32049834+0.j        ],\n",
      "       [ 0.49843895+0.j        , -0.14460272+0.52206151j,\n",
      "        -0.14460272-0.52206151j,  0.51355085+0.j        ],\n",
      "       [ 0.44859644+0.j        ,  0.64928822+0.j        ,\n",
      "         0.64928822-0.j        , -0.7714582 +0.j        ]])\n",
      "np.complex128(0.9999969131763253+0j)\n"
     ]
    }
   ],
   "source": [
    "fC = [0.000, .2, .49559, 0.399]\n",
    "sC = [.9799, .96, .9]\n",
    "\n",
    "pprint.pp(abs_eig_vals(fC,sC))\n",
    "\n",
    "e_vals,e_vecs = npl.eig(A(fC,sC))\n",
    "\n",
    "pprint.pp(e_vals)\n",
    "pprint.pp(e_vecs)\n"
   ]
  },
  {
   "cell_type": "code",
   "execution_count": 15,
   "metadata": {},
   "outputs": [
    {
     "name": "stdout",
     "output_type": "stream",
     "text": [
      "np.complex128(0.9999969131763253+0j)\n",
      "array([0.5298541 +0.j, 0.51920563+0.j, 0.49843895+0.j, 0.44859644+0.j])\n"
     ]
    }
   ],
   "source": [
    "# note that the 0-th eigenvalue is essentially 1\n",
    "pprint.pp(e_vals[0])\n",
    "\n",
    "# and the corresponding eigenvector is\n",
    "pprint.pp(e_vecs[:,0])\n"
   ]
  },
  {
   "cell_type": "markdown",
   "metadata": {},
   "source": [
    "**Remark**: Observe that these results purport to be complex numbers -- but they have 0 imaginary part\n",
    "e.g. the `0-th` eigenvalue is `0.9999969131763253+0j` which is roughly the real number 1.\n",
    "\n",
    "However `e_vals[1]` is genuinely a complex number: `-0.20043863336116968+0.723646829819877j`\n",
    "or about `-.2 + .72j`"
   ]
  },
  {
   "cell_type": "code",
   "execution_count": 16,
   "metadata": {},
   "outputs": [
    {
     "data": {
      "text/plain": [
       "np.complex128(-0.20043863336116968+0.723646829819877j)"
      ]
     },
     "execution_count": 16,
     "metadata": {},
     "output_type": "execute_result"
    }
   ],
   "source": [
    "e_vals[1]"
   ]
  },
  {
   "cell_type": "markdown",
   "metadata": {
    "jp-MarkdownHeadingCollapsed": true,
    "slideshow": {
     "slide_type": "subslide"
    }
   },
   "source": [
    "Explainer\n",
    "---------\n",
    "\n",
    "In each case, the matrix $A$ has distinct eigenvalues (in case ``C`` there are two eigenvalues\n",
    "with the same absolute value, but they are complex and distinct from one another!) Thus $A$ is diagonalizable in each case.\n",
    "\n",
    "For the parameters ``fA,sA`` all eigenvalues of $A$ have absolute value $< 1$. This confirms our previous conclusion that \n",
    "\n",
    "$$A^m \\to \\mathbf{0} \\quad \\text{as $m \\to \\infty$}$$\n",
    "\n",
    "For the parameters ``fB,sB`` there is an eigenvalue of $A$ which has abolute value $1.01 >1$ (actually, this $1.01$ *is* the eigenvalue).\n",
    "Thus\n",
    "$A^m$ has no limiting value as $m \\to \\infty$.\n",
    "\n",
    "Finally, the parameters ``fC,sC`` yield an eigenvalue of $A$ which is very close to 1.\n",
    "\n"
   ]
  },
  {
   "cell_type": "markdown",
   "metadata": {
    "slideshow": {
     "slide_type": "subslide"
    }
   },
   "source": [
    "``fC,sC``\n",
    "---------\n",
    "\n",
    "In this setting, note that the corresponding 1-eigenvector is\n",
    "```\n",
    "w=[0.5298541, 0.51920563, 0.49843895, 0.44859644]\n",
    "```\n",
    "\n",
    "Let's normalize the vector ``w`` by dividing by the sum of its components\n",
    "\n",
    "(recall that any non-zero multiple of a $\\lambda$-eigenvector is again a $\\lambda$-eigenvector!)"
   ]
  },
  {
   "cell_type": "code",
   "execution_count": 13,
   "metadata": {
    "slideshow": {
     "slide_type": "fragment"
    }
   },
   "outputs": [
    {
     "data": {
      "text/plain": [
       "array([0.27, 0.26, 0.25, 0.22])"
      ]
     },
     "execution_count": 13,
     "metadata": {},
     "output_type": "execute_result"
    }
   ],
   "source": [
    "w=np.array([0.5298541, 0.51920563, 0.49843895, 0.44859644])\n",
    "ww = (1/np.sum(w))*w\n",
    "ww"
   ]
  },
  {
   "cell_type": "markdown",
   "metadata": {
    "slideshow": {
     "slide_type": "fragment"
    }
   },
   "source": [
    "Thus the components of ``ww`` sum to 1. They represent *probabilities*.\n",
    "\n",
    "We conclude that the expected longterm population distribution in this case is:\n",
    "\n",
    "| Age 0 | Age 1 | Age 2 | Age 3 |\n",
    "| -----:|------:|------:|------:|\n",
    "| 27 %  | 26 %  |  25 % |  22 % |"
   ]
  }
 ],
 "metadata": {
  "jupytext": {
   "formats": "ipynb,md"
  },
  "kernelspec": {
   "display_name": "Python 3 (ipykernel)",
   "language": "python",
   "name": "python3"
  },
  "language_info": {
   "codemirror_mode": {
    "name": "ipython",
    "version": 3
   },
   "file_extension": ".py",
   "mimetype": "text/x-python",
   "name": "python",
   "nbconvert_exporter": "python",
   "pygments_lexer": "ipython3",
   "version": "3.11.2"
  }
 },
 "nbformat": 4,
 "nbformat_minor": 4
}
